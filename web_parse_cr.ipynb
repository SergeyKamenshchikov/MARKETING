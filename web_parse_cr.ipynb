{
 "cells": [
  {
   "cell_type": "code",
   "execution_count": 65,
   "metadata": {},
   "outputs": [
    {
     "name": "stdout",
     "output_type": "stream",
     "text": [
      "Hi,here we parse data from web analytical platforms with conversion filter\n"
     ]
    }
   ],
   "source": [
    "print('Hi,here we parse data from web analytical platforms with conversion filter')"
   ]
  },
  {
   "cell_type": "markdown",
   "metadata": {},
   "source": [
    "Import libraries for working with http"
   ]
  },
  {
   "cell_type": "code",
   "execution_count": 66,
   "metadata": {},
   "outputs": [],
   "source": [
    "import requests\n",
    "import json"
   ]
  },
  {
   "cell_type": "markdown",
   "metadata": {},
   "source": [
    "Libraries for working with arrays and conversion to xls format"
   ]
  },
  {
   "cell_type": "code",
   "execution_count": 67,
   "metadata": {},
   "outputs": [],
   "source": [
    "import pandas as pd\n",
    "import xlsxwriter\n",
    "import os"
   ]
  },
  {
   "cell_type": "markdown",
   "metadata": {},
   "source": [
    "Initial parameters - token for connection to web analytics platform and counter number"
   ]
  },
  {
   "cell_type": "code",
   "execution_count": 68,
   "metadata": {},
   "outputs": [],
   "source": [
    "token='OAuth AQAAAAAi8O5WAAWWtZPDULmLHkZ8hRamVGxB9SM'\n",
    "counter='29709450' "
   ]
  },
  {
   "cell_type": "markdown",
   "metadata": {},
   "source": [
    "Create dictionary for segmentation in API request, filter of visit to contacts page is added"
   ]
  },
  {
   "cell_type": "code",
   "execution_count": 74,
   "metadata": {},
   "outputs": [],
   "source": [
    "params={'metrics': 'ym:s:visits,ym:s:users,ym:s:pageviews,ym:s:bounceRate,ym:s:pageDepth,ym:s:avgVisitDurationSeconds',\n",
    "        'dimensions': 'ym:s:date',\n",
    "        'group': 'day',\n",
    "        'date1': '2016-05-09',\n",
    "        'date2': '2019-05-07',\n",
    "        'limit': '100000',\n",
    "        'sort': 'ym:s:date',\n",
    "        'ids': counter,\n",
    "       #'filters': \"ym:s:isNewUser=='Yes'\",\n",
    "        'filters': \"ym:s:endURL='@lab-test.ru/kontakty'\",\n",
    "        'accuracy': 'full',\n",
    "        'filters':'ym:s:pageViews>5',\n",
    "        'pretty': True}"
   ]
  },
  {
   "cell_type": "raw",
   "metadata": {},
   "source": [
    "Create a header"
   ]
  },
  {
   "cell_type": "code",
   "execution_count": 75,
   "metadata": {},
   "outputs": [],
   "source": [
    "header = {'Authorization': 'OAuth AQAAAAAi8O5WAAWWtZPDULmLHkZ8hRamVGxB9SM'}"
   ]
  },
  {
   "cell_type": "code",
   "execution_count": 76,
   "metadata": {},
   "outputs": [
    {
     "name": "stdout",
     "output_type": "stream",
     "text": [
      "Features: Data,Visits,Viewers,Views,BR,Depth,Time\n"
     ]
    }
   ],
   "source": [
    "print('Features: '+'Data,'+'Visits,'+'Viewers,'+'Views,'+'BR,'+'Depth,'+'Time')"
   ]
  },
  {
   "cell_type": "code",
   "execution_count": 77,
   "metadata": {},
   "outputs": [],
   "source": [
    "column_names=['Date','Visits','Viewers','Views','BR','Depth','Time']"
   ]
  },
  {
   "cell_type": "markdown",
   "metadata": {},
   "source": [
    "Parse web data into JSON"
   ]
  },
  {
   "cell_type": "code",
   "execution_count": 78,
   "metadata": {},
   "outputs": [],
   "source": [
    "r=requests.get('https://api-metrika.yandex.ru/stat/v1/data', params=params, headers=header)\n",
    "parsed=json.loads(r.text)"
   ]
  },
  {
   "cell_type": "markdown",
   "metadata": {},
   "source": [
    "Convert into dataframe"
   ]
  },
  {
   "cell_type": "code",
   "execution_count": 79,
   "metadata": {},
   "outputs": [],
   "source": [
    "data_df=pd.DataFrame(columns=column_names);\n",
    "data_list=[]\n",
    "\n",
    "for day in parsed['data']:\n",
    "    temp_dict={}\n",
    "    temp_dict.update({'Date':day['dimensions'][0]['name'],'Visits':day['metrics'][0],\n",
    "                      'Viewers':day['metrics'][1],'Views':day['metrics'][2],'BR':day['metrics'][3],\n",
    "                      'Depth':day['metrics'][4],'Time':day['metrics'][5]})\n",
    "    data_list.append(temp_dict);\n",
    "\n",
    "data_df=pd.DataFrame(data_list,columns=column_names)\n",
    "del data_df['Viewers'];del data_df['Views'];del data_df['BR'];del data_df['Depth'];del data_df['Time']\n",
    "data_df.columns=['Date','Visits_contacts']"
   ]
  },
  {
   "cell_type": "code",
   "execution_count": 80,
   "metadata": {},
   "outputs": [
    {
     "name": "stdout",
     "output_type": "stream",
     "text": [
      "         Date  Visits_contacts\n",
      "0  2016-05-10              8.0\n",
      "1  2016-05-11             12.0\n",
      "2  2016-05-12              3.0\n",
      "3  2016-05-13              1.0\n",
      "4  2016-05-15              1.0\n"
     ]
    }
   ],
   "source": [
    "print(data_df.head())"
   ]
  },
  {
   "cell_type": "markdown",
   "metadata": {},
   "source": [
    "Convert dataframe to xls"
   ]
  },
  {
   "cell_type": "code",
   "execution_count": 81,
   "metadata": {},
   "outputs": [],
   "source": [
    "data_df.to_excel('contacts.xlsx',index=False)"
   ]
  },
  {
   "cell_type": "code",
   "execution_count": 82,
   "metadata": {},
   "outputs": [
    {
     "name": "stdout",
     "output_type": "stream",
     "text": [
      "\n",
      "Finished! Now traffic features of contacts are saved in xls without filters\n"
     ]
    }
   ],
   "source": [
    "print('\\nFinished! Now traffic features of contacts are saved in xls without filters')"
   ]
  },
  {
   "cell_type": "code",
   "execution_count": null,
   "metadata": {},
   "outputs": [],
   "source": []
  }
 ],
 "metadata": {
  "kernelspec": {
   "display_name": "Python 3",
   "language": "python",
   "name": "python3"
  },
  "language_info": {
   "codemirror_mode": {
    "name": "ipython",
    "version": 3
   },
   "file_extension": ".py",
   "mimetype": "text/x-python",
   "name": "python",
   "nbconvert_exporter": "python",
   "pygments_lexer": "ipython3",
   "version": "3.7.0"
  }
 },
 "nbformat": 4,
 "nbformat_minor": 2
}
