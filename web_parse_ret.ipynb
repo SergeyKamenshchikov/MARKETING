{
 "cells": [
  {
   "cell_type": "markdown",
   "metadata": {},
   "source": [
    "Here we import data from YMetrics analytical platform. I focus on organic traffic of New Users. "
   ]
  },
  {
   "cell_type": "markdown",
   "metadata": {},
   "source": [
    "Import libraries."
   ]
  },
  {
   "cell_type": "code",
   "execution_count": 8,
   "metadata": {},
   "outputs": [],
   "source": [
    "import requests\n",
    "import json\n",
    "import pandas as pd\n",
    "import xlsxwriter\n",
    "import os"
   ]
  },
  {
   "cell_type": "markdown",
   "metadata": {},
   "source": [
    "Initial parameters - token for connection to web analytics platform and counter number"
   ]
  },
  {
   "cell_type": "code",
   "execution_count": 9,
   "metadata": {},
   "outputs": [],
   "source": [
    "token='OAuth AQAAAAAi8O5WAAWWtZPDULmLHkZ8hRamVGxB9SM'\n",
    "counter='29709450' "
   ]
  },
  {
   "cell_type": "markdown",
   "metadata": {},
   "source": [
    "Create dictionary for segmentation in API request. Analysis of New Visitors (C1) or Returning Visitors (C2) from organic channel."
   ]
  },
  {
   "cell_type": "code",
   "execution_count": 10,
   "metadata": {},
   "outputs": [],
   "source": [
    "params={'metrics': 'ym:s:visits,ym:s:users,ym:s:pageviews,ym:s:bounceRate,ym:s:pageDepth,ym:s:avgVisitDurationSeconds',\n",
    "        'dimensions': 'ym:s:date',\n",
    "        'group': 'day',\n",
    "        'date1': '2015-05-05',\n",
    "        'date2': '2019-06-22',\n",
    "        'limit': '100000',\n",
    "        'sort': 'ym:s:date',\n",
    "        'ids': counter,\n",
    "        'accuracy': 'full',\n",
    "        'filters':\"ym:s:trafficSource=='organic' AND ym:s:isNewUser=='No'\",\n",
    "        'pretty': True}  \n",
    "  \n",
    "header = {'Authorization': 'OAuth AQAAAAAi8O5WAAWWtZPDULmLHkZ8hRamVGxB9SM'}\n",
    "column_names=['Date','Visits','Viewers','Views','BR','Depth','Time']"
   ]
  },
  {
   "cell_type": "markdown",
   "metadata": {},
   "source": [
    "Parse web data into JSON"
   ]
  },
  {
   "cell_type": "code",
   "execution_count": 11,
   "metadata": {},
   "outputs": [],
   "source": [
    "r=requests.get('https://api-metrika.yandex.ru/stat/v1/data', params=params, headers=header)\n",
    "parsed=json.loads(r.text)"
   ]
  },
  {
   "cell_type": "markdown",
   "metadata": {},
   "source": [
    "Convert into dataframe"
   ]
  },
  {
   "cell_type": "code",
   "execution_count": 12,
   "metadata": {},
   "outputs": [],
   "source": [
    "data_df=pd.DataFrame(columns=column_names);\n",
    "data_list=[]\n",
    "for day in parsed['data']:\n",
    "    temp_dict={}\n",
    "    temp_dict.update({'Date':day['dimensions'][0]['name'],'Visits':day['metrics'][0],\n",
    "                      'Viewers':day['metrics'][1],'Views':day['metrics'][2],'BR':day['metrics'][3],\n",
    "                      'Depth':day['metrics'][4],'Time':day['metrics'][5]})\n",
    "    data_list.append(temp_dict);\n",
    "\n",
    "data_df=pd.DataFrame(data_list,columns=column_names)    "
   ]
  },
  {
   "cell_type": "markdown",
   "metadata": {},
   "source": [
    "Convert general traffic dataframe to xls"
   ]
  },
  {
   "cell_type": "code",
   "execution_count": 13,
   "metadata": {},
   "outputs": [],
   "source": [
    "data_df.to_excel('DATA_RET/TRAFFIC.xlsx',index=False)"
   ]
  },
  {
   "cell_type": "markdown",
   "metadata": {},
   "source": [
    "Great! Now import traffic of users, who made at least two pageviews Content=>..=>Contacts."
   ]
  },
  {
   "cell_type": "code",
   "execution_count": 14,
   "metadata": {},
   "outputs": [
    {
     "name": "stdout",
     "output_type": "stream",
     "text": [
      "DONE!\n"
     ]
    }
   ],
   "source": [
    "params={'metrics': 'ym:s:visits,ym:s:users,ym:s:pageviews,ym:s:bounceRate,ym:s:pageDepth,ym:s:avgVisitDurationSeconds',\n",
    "        'dimensions': 'ym:s:date',\n",
    "        'group': 'day',\n",
    "        'date1': '2015-05-05',\n",
    "        'date2': '2019-06-22',\n",
    "        'limit': '100000',\n",
    "        'sort': 'ym:s:date',\n",
    "        'ids': counter,\n",
    "        'accuracy': 'full',\n",
    "        'filters':\"ym:s:trafficSource=='organic' AND ym:s:isNewUser=='No' AND ym:s:pageViews>2\",\n",
    "        'pretty': True}  \n",
    "    \n",
    "header={'Authorization': 'OAuth AQAAAAAi8O5WAAWWtZPDULmLHkZ8hRamVGxB9SM'}\n",
    "column_names=['Date','Visits','Viewers','Views','BR','Depth','Time']\n",
    "\n",
    "r=requests.get('https://api-metrika.yandex.ru/stat/v1/data', params=params, headers=header)\n",
    "parsed=json.loads(r.text)\n",
    "\n",
    "data_df=pd.DataFrame(columns=column_names);\n",
    "data_list=[]\n",
    "\n",
    "for day in parsed['data']:\n",
    "    temp_dict={}\n",
    "    temp_dict.update({'Date':day['dimensions'][0]['name'],'Visits':day['metrics'][0],\n",
    "                      'Viewers':day['metrics'][1],'Views':day['metrics'][2],'BR':day['metrics'][3],\n",
    "                      'Depth':day['metrics'][4],'Time':day['metrics'][5]})\n",
    "    data_list.append(temp_dict);\n",
    "\n",
    "data_df=pd.DataFrame(data_list,columns=column_names)\n",
    "data_df.to_excel('DATA_RET/WEB_CR.xlsx',index=False)\n",
    "\n",
    "print('DONE!')"
   ]
  },
  {
   "cell_type": "code",
   "execution_count": null,
   "metadata": {},
   "outputs": [],
   "source": []
  }
 ],
 "metadata": {
  "kernelspec": {
   "display_name": "Python 3",
   "language": "python",
   "name": "python3"
  },
  "language_info": {
   "codemirror_mode": {
    "name": "ipython",
    "version": 3
   },
   "file_extension": ".py",
   "mimetype": "text/x-python",
   "name": "python",
   "nbconvert_exporter": "python",
   "pygments_lexer": "ipython3",
   "version": "3.7.0"
  }
 },
 "nbformat": 4,
 "nbformat_minor": 2
}
