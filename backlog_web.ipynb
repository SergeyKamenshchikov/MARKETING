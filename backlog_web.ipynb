{
 "cells": [
  {
   "cell_type": "markdown",
   "metadata": {},
   "source": [
    "Product Owner have to choose between two KPIs (group of metrics) of his product and invest in one of possible strategies - backlog prioritization. Ads or CRO, attraction or activation or retention. Here I use ML scores of prediction as a measure of KPI selection. I look how KPI/metrics helps to predict possible cash flow. Standard statistical measures like correlation fail while nonlinear ML models give insight. It works on relatively small data of 1092 records. Ensemble voting, binning of target and dimension reduction are involved to avoid overfit. I explore two groups of metrics. First (I) corresponds to conversion - bounce rate, depth of view, micro conversion, time of session, bounce rate. Second (II) corresponds to traffic: number of sessions, new visitors, views. The target function is a number of commercial offers/day. Input features correspond to the New Visitors segment from organic search. "
   ]
  },
  {
   "cell_type": "code",
   "execution_count": 256,
   "metadata": {},
   "outputs": [
    {
     "name": "stdout",
     "output_type": "stream",
     "text": [
      "Namaste!\n"
     ]
    }
   ],
   "source": [
    "print('Namaste!')"
   ]
  },
  {
   "cell_type": "markdown",
   "metadata": {},
   "source": [
    "Import libraries:"
   ]
  },
  {
   "cell_type": "code",
   "execution_count": 257,
   "metadata": {},
   "outputs": [],
   "source": [
    "import numpy as np \n",
    "import pandas as pd \n",
    "from pandas import set_option\n",
    "import matplotlib.pyplot as plt \n",
    "from pylab import plot, ylim, xlim, show, xlabel, ylabel, grid \n",
    "from numpy import linspace, loadtxt, ones, convolve\n",
    "from statistics import median \n",
    "from statistics import mean \n",
    "from statistics import stdev \n",
    "from math import log\n",
    "from numpy.polynomial.polynomial import polyfit\n",
    "from sklearn.model_selection import cross_val_score \n",
    "from sklearn.model_selection import GridSearchCV \n",
    "from sklearn.model_selection import KFold \n",
    "from sklearn.decomposition import PCA\n",
    "from sklearn.linear_model import Ridge\n",
    "from sklearn.linear_model import LogisticRegression\n",
    "from sklearn.tree import DecisionTreeClassifier\n",
    "from sklearn.svm import SVC\n",
    "from sklearn.naive_bayes import GaussianNB\n",
    "from sklearn.neighbors import KNeighborsClassifier\n",
    "from sklearn.ensemble import VotingClassifier\n",
    "from sklearn.ensemble import AdaBoostClassifier\n",
    "from sklearn.ensemble import ExtraTreesClassifier\n",
    "from sklearn.neural_network import MLPClassifier\n",
    "from sklearn.ensemble import GradientBoostingClassifier\n",
    "import statsmodels.api as sm\n",
    "from sklearn.model_selection import train_test_split\n",
    "from operator import add\n",
    "import seaborn as sns\n",
    "from sklearn.tree import DecisionTreeRegressor\n",
    "from sklearn.neighbors import KNeighborsRegressor\n",
    "from sklearn.ensemble import GradientBoostingRegressor\n",
    "from sklearn.ensemble import RandomForestRegressor\n",
    "from mlxtend.regressor import StackingRegressor\n",
    "from sklearn.linear_model import LinearRegression"
   ]
  },
  {
   "cell_type": "markdown",
   "metadata": {},
   "source": [
    "Define custom functions:"
   ]
  },
  {
   "cell_type": "code",
   "execution_count": 258,
   "metadata": {},
   "outputs": [],
   "source": [
    "def standart(x):#normalize to (0,1) interval\n",
    "    max_value=x.max();\n",
    "    min_value=x.min()\n",
    "    z=(x-min_value) / (max_value - min_value)\n",
    "    return z\n",
    "\n",
    "def cormap(x):#correlation map\n",
    "  corr=x.corr();fig=plt.figure(figsize=(10, 7))\n",
    "  g=sns.heatmap(corr,annot=True,linewidths=.2, cbar_kws={\"orientation\": \"horizontal\"})\n",
    "  plt.show()\n",
    "    \n",
    "def get_class(x):\n",
    "    class_type=[]\n",
    "    for item in list(x):\n",
    "        if 0<=item<0.33:   class_type.append(0) #1 class  \n",
    "        if 0.33<=item<0.66: class_type.append(1) #2 class\n",
    "        if 0.66<=item<=1:  class_type.append(4) #3 class\n",
    "    return class_type\n",
    "\n",
    "def pca(x,y):#principal components visual output\n",
    "  pca=PCA()\n",
    "  pca.fit(y) \n",
    "  PCA(copy=True)\n",
    "  features=x\n",
    "  pca.explained_variance_=standart(pca.explained_variance_)\n",
    "  pca.explained_variance_=list(np.array(pca.explained_variance_)*100)\n",
    "  print('\\nInput of components - PCA:')\n",
    "  for i in range(0,len(pca.explained_variance_)):\n",
    "    print(str(x[i])+': '+str(int(pca.explained_variance_[i]))+'%')\n",
    "    i=i+1\n",
    "\n",
    "def movingaverage(interval, window_size):\n",
    "    window= np.ones(int(window_size))/float(window_size)\n",
    "    return np.convolve(interval, window, 'same')"
   ]
  },
  {
   "cell_type": "markdown",
   "metadata": {},
   "source": [
    "Read data from three files with crm and web data, parsed through web analytics API.   "
   ]
  },
  {
   "cell_type": "code",
   "execution_count": 259,
   "metadata": {},
   "outputs": [
    {
     "name": "stdout",
     "output_type": "stream",
     "text": [
      "        Date  Visits_x  Viewers_x  Views_x       BR_x   Depth_x      Time_x  \\\n",
      "0 2016-05-09         4          4        5   0.000000  1.250000   21.750000   \n",
      "1 2016-05-10        27         27       76  14.814815  2.814815  205.407407   \n",
      "2 2016-05-11        18         18       32  11.111111  1.777778  191.666667   \n",
      "3 2016-05-12        15         15       22  26.666667  1.466667  104.333333   \n",
      "4 2016-05-13        20         20       35  25.000000  1.750000  122.150000   \n",
      "\n",
      "        CR,%  OFFERS  \n",
      "0   0.000000     1.0  \n",
      "1  25.925926     0.0  \n",
      "2  16.666667     6.0  \n",
      "3   6.666667     9.0  \n",
      "4  15.000000     3.0  \n"
     ]
    }
   ],
   "source": [
    "df_all=pd.read_excel('all_pages_new.xlsx');df_goal=pd.read_excel('goal_new.xlsx');df_crm=pd.read_excel('crm.xlsx')\n",
    "\n",
    "df=df_all.merge(df_goal,how='left',left_on='Date',right_on='Date')\n",
    "del df['Viewers_y'];del df['Views_y'];del df['BR_y'];del df['Depth_y'];del df['Time_y']\n",
    "df=df.fillna(0)\n",
    "df['CR,%']=100*df['Visits_y']/df['Visits_x'];del df['Visits_y'] \n",
    "df=df.merge(df_crm,how='left',left_on='Date',right_on='Date');df['Offers']=df['Offers'].fillna(0)\n",
    "df['OFFERS']=df['Offers'];del df['Offers']\n",
    "print(df.head())"
   ]
  },
  {
   "cell_type": "markdown",
   "metadata": {},
   "source": []
  },
  {
   "cell_type": "code",
   "execution_count": 260,
   "metadata": {},
   "outputs": [
    {
     "name": "stdout",
     "output_type": "stream",
     "text": [
      "All fields: ['Date', 'Visits_x', 'Viewers_x', 'Views_x', 'BR_x', 'Depth_x', 'Time_x', 'CR,%', 'OFFERS']\n",
      "\n",
      "Data Start: 2016-05-09 00:00:00\n",
      "Data End: 2019-05-07 00:00:00\n",
      "Number of records: 1090\n"
     ]
    }
   ],
   "source": [
    "column_names=list(df.columns.values)\n",
    "print('All fields:',column_names)\n",
    "print('\\nData Start:',list(df['Date'])[0])\n",
    "print('Data End:',list(df['Date'])[-1])\n",
    "print('Number of records:', len(df))"
   ]
  },
  {
   "cell_type": "markdown",
   "metadata": {},
   "source": [
    "Convert features to the (0,1) interval:"
   ]
  },
  {
   "cell_type": "code",
   "execution_count": 261,
   "metadata": {},
   "outputs": [],
   "source": [
    "for item in df.columns.values: \n",
    "    df[item]=standart(df[item])   \n",
    "del df['Date']        "
   ]
  },
  {
   "cell_type": "markdown",
   "metadata": {},
   "source": [
    "Let's find the proportion of days with positive offers number. "
   ]
  },
  {
   "cell_type": "code",
   "execution_count": 262,
   "metadata": {},
   "outputs": [
    {
     "name": "stdout",
     "output_type": "stream",
     "text": [
      "Number of days with [offers>0] number is 70%\n"
     ]
    }
   ],
   "source": [
    "offers_positive=len(df[df['OFFERS']>0])\n",
    "general_length=len(df)\n",
    "print('Number of days with [offers>0] number is '+str(round(100*offers_positive/general_length))+'%')"
   ]
  },
  {
   "cell_type": "markdown",
   "metadata": {},
   "source": [
    "Make correlation map and scatter map"
   ]
  },
  {
   "cell_type": "code",
   "execution_count": 263,
   "metadata": {},
   "outputs": [
    {
     "data": {
      "image/png": "[encoded data removed]",
      "text/plain": [
       "<Figure size 720x504 with 2 Axes>"
      ]
     },
     "metadata": {
      "needs_background": "light"
     },
     "output_type": "display_data"
    }
   ],
   "source": [
    "cormap(df)"
   ]
  },
  {
   "cell_type": "markdown",
   "metadata": {},
   "source": [
    "We can see that Offers are correlated mostly with Visits (sessions)/Viewers/Views - traffic metrics. Small correlation with conversion features. However correlations are non significant in all cases. Let's look at the basic statistical properties. "
   ]
  },
  {
   "cell_type": "code",
   "execution_count": 264,
   "metadata": {},
   "outputs": [
    {
     "name": "stdout",
     "output_type": "stream",
     "text": [
      "Common description:\n",
      "\n",
      "count    1090.000000\n",
      "mean        0.220960\n",
      "std         0.193596\n",
      "min         0.000000\n",
      "25%         0.000000\n",
      "50%         0.230769\n",
      "75%         0.346154\n",
      "max         1.000000\n",
      "Name: OFFERS, dtype: float64\n",
      "\n",
      "Percentile of 10%: 0.0\n",
      "Percentile of 90%: 0.46\n"
     ]
    }
   ],
   "source": [
    "description=df['OFFERS'].describe()\n",
    "print('Common description:\\n')\n",
    "print(description)\n",
    "print('\\nPercentile of 10%:',round(df['OFFERS'].quantile(0.1),2))\n",
    "print('Percentile of 90%:',round(df['OFFERS'].quantile(0.9),2))"
   ]
  },
  {
   "cell_type": "markdown",
   "metadata": {},
   "source": [
    "We may test classification using binning of (0,1) into the three equal classes."
   ]
  },
  {
   "cell_type": "code",
   "execution_count": 265,
   "metadata": {},
   "outputs": [],
   "source": [
    "df_binary_fa=df.copy()\n",
    "df_binary_fa['Offers_BIN']=get_class(df_binary_fa['OFFERS'])\n",
    "del df_binary_fa['OFFERS']"
   ]
  },
  {
   "cell_type": "markdown",
   "metadata": {},
   "source": [
    "If classiicator works well we may predict in what range the target lays. Let's split features and target. Let's make an estimation of feature importance based on tree classifier and Principal Component Analysis. "
   ]
  },
  {
   "cell_type": "code",
   "execution_count": 266,
   "metadata": {},
   "outputs": [
    {
     "name": "stdout",
     "output_type": "stream",
     "text": [
      "\n",
      "Input of components - Tree:\n",
      "Visits:84.0%\n",
      "Viewers:82.0%\n",
      "Views:100.0%\n",
      "BR:71.0%\n",
      "Depth:72.0%\n",
      "Time:83.0%\n",
      "Conversion:68.0%\n",
      "\n",
      "Input of components - PCA:\n",
      "Visits_x: 100%\n",
      "Viewers_x: 31%\n",
      "Views_x: 8%\n",
      "BR_x: 4%\n",
      "Depth_x: 2%\n",
      "Time_x: 0%\n",
      "CR,%: 0%\n"
     ]
    }
   ],
   "source": [
    "model=ExtraTreesClassifier(n_estimators=100)\n",
    "tree_features=['Visits','Viewers','Views','BR','Depth','Time','Conversion','OFFERS']\n",
    "\n",
    "array=df_binary_fa.values\n",
    "X=array[:,0:7];Y=array[:,7]\n",
    "model.fit(X,Y)\n",
    "imp=list(model.feature_importances_)\n",
    "imp=[round(x*100/max(imp)) for x in imp]\n",
    "\n",
    "print('\\nInput of components - Tree:')  \n",
    "for x,y in zip(tree_features,imp): \n",
    "    print(str(x)+':'+str(y)+'%')\n",
    "    \n",
    "column_names=df_binary_fa.columns\n",
    "del df_binary_fa['Offers_BIN']\n",
    "pca(column_names,df_binary_fa)  "
   ]
  },
  {
   "cell_type": "markdown",
   "metadata": {},
   "source": [
    "According to PCA analysis 'Visits' feature is the most important. However TreeClassifier shows that conversion and traffic have comparable significance. Results of standard statistical analysis are not 'correlated'. Now we can move forward to the ensemble of simple classifiers/predictors. First try with all features. We use ensemble of 6 voting estimators. "
   ]
  },
  {
   "cell_type": "code",
   "execution_count": 267,
   "metadata": {},
   "outputs": [
    {
     "name": "stdout",
     "output_type": "stream",
     "text": [
      "Average score:68.7%\n",
      "Deviation of score:1.4%\n"
     ]
    }
   ],
   "source": [
    "split_num=5 #number of splits for cross validation\n",
    "\n",
    "#define dataframe#\n",
    "df_binary=df.copy();df_binary['Offers_BIN']=get_class(df_binary['OFFERS']);del df_binary['OFFERS']\n",
    "array=df_binary.values\n",
    "X=array[:,0:7];Y=array[:,7]\n",
    "#/define dataframe#\n",
    "\n",
    "#building the ensemble#\n",
    "model=KNeighborsClassifier()\n",
    "n_neighbors=np.arange(5,20,1)\n",
    "param_grid=dict(n_neighbors=n_neighbors)\n",
    "grid=GridSearchCV(estimator=model,param_grid=param_grid,cv=split_num,iid=True)\n",
    "grid.fit(X, Y)\n",
    "\n",
    "kn=KNeighborsClassifier(n_neighbors=grid.best_estimator_.n_neighbors);gb=GaussianNB()\n",
    "dt=DecisionTreeClassifier(criterion='entropy');sv=SVC(gamma='auto')\n",
    "ab=AdaBoostClassifier(n_estimators=100,random_state=7)\n",
    "gb=GradientBoostingClassifier(n_estimators=100,random_state=7)\n",
    "mlp=MLPClassifier(activation='relu', hidden_layer_sizes=(3,1), random_state=1, solver='lbfgs')\n",
    "\n",
    "estimators=[]\n",
    "estimators.extend([('kn',kn),('naive',gb),('dt',dt),('sv',sv),('ab',ab),('gb',gb),('mlp',mlp)])\n",
    "ensemble=VotingClassifier(estimators)\n",
    "#/building the ensemble#\n",
    "   \n",
    "#output of results#\n",
    "results=cross_val_score(ensemble,X,Y,cv=split_num)\n",
    "print('Average score:'+str(round(100*mean(results),1))+str('%'))\n",
    "print('Deviation of score:'+str(round(100*stdev(results),1))+str('%'))\n",
    "#/output of results#"
   ]
  },
  {
   "cell_type": "markdown",
   "metadata": {},
   "source": [
    "Good result. Now we remove all features except number of Sessions."
   ]
  },
  {
   "cell_type": "code",
   "execution_count": 268,
   "metadata": {},
   "outputs": [
    {
     "name": "stdout",
     "output_type": "stream",
     "text": [
      "Average score:70.0%\n",
      "Deviation of score:1.8%\n"
     ]
    }
   ],
   "source": [
    "df_binary=df.copy();df_binary['Offers_BIN']=get_class(df_binary['OFFERS']);del df_binary['OFFERS']\n",
    "array=df_binary.values\n",
    "\n",
    "#define dataframe#\n",
    "del df_binary['Views_x']\n",
    "del df_binary['Viewers_x']\n",
    "del df_binary['BR_x']\n",
    "del df_binary['Time_x']\n",
    "del df_binary['Depth_x']\n",
    "del df_binary['CR,%']\n",
    "#/define dataframe#\n",
    "\n",
    "#define array#\n",
    "array=df_binary.values\n",
    "X=array[:,0:1];Y=array[:,1]\n",
    "#/define array#\n",
    "   \n",
    "#output of results#\n",
    "results=cross_val_score(ensemble,X,Y,cv=split_num)\n",
    "print('Average score:'+str(round(100*mean(results)))+str('%'))\n",
    "print('Deviation of score:'+str(round(100*stdev(results),1))+str('%'))\n",
    "#/output of results#"
   ]
  },
  {
   "cell_type": "markdown",
   "metadata": {},
   "source": [
    "The result is comparable. Let's look at the cv_number stability."
   ]
  },
  {
   "cell_type": "code",
   "execution_count": 269,
   "metadata": {},
   "outputs": [
    {
     "name": "stdout",
     "output_type": "stream",
     "text": [
      "Number of cv: 3 Average score: 69.0%\n",
      "Number of cv: 4 Average score: 72.0%\n",
      "Number of cv: 5 Average score: 71.0%\n",
      "Number of cv: 6 Average score: 71.0%\n",
      "Number of cv: 7 Average score: 70.0%\n",
      "Number of cv: 8 Average score: 71.0%\n",
      "Number of cv: 9 Average score: 71.0%\n",
      "Number of cv: 10 Average score: 72.0%\n",
      "Number of cv: 11 Average score: 70.0%\n",
      "Number of cv: 12 Average score: 72.0%\n",
      "Number of cv: 13 Average score: 71.0%\n",
      "Number of cv: 14 Average score: 71.0%\n",
      "Number of cv: 15 Average score: 72.0%\n"
     ]
    }
   ],
   "source": [
    "cv_num=[]\n",
    "score_cv=[]\n",
    "S=[]\n",
    "R=[]\n",
    "for item in range(3,16):\n",
    "    \n",
    "    #building the ensemble#\n",
    "    model=KNeighborsClassifier()\n",
    "    n_neighbors=np.arange(5,20,1)\n",
    "    param_grid=dict(n_neighbors=n_neighbors)\n",
    "    grid=GridSearchCV(estimator=model,param_grid=param_grid,cv=item,iid=True)\n",
    "    grid.fit(X, Y)\n",
    "\n",
    "    kn=KNeighborsClassifier(n_neighbors=grid.best_estimator_.n_neighbors);gb=GaussianNB()\n",
    "    dt=DecisionTreeClassifier(criterion='entropy');sv=SVC(gamma='auto')\n",
    "    ab=AdaBoostClassifier(n_estimators=100,random_state=7)\n",
    "    gb=GradientBoostingClassifier(n_estimators=100,random_state=7)\n",
    "    mlp=MLPClassifier(activation='relu', hidden_layer_sizes=(3,1), random_state=1, solver='lbfgs')\n",
    "\n",
    "    estimators=[]\n",
    "    estimators.extend([('kn',kn),('naive',gb),('dt',dt),('sv',sv),('ab',ab),('gb',gb),('mlp',mlp)])\n",
    "    ensemble=VotingClassifier(estimators)\n",
    "    #/building the ensemble#\n",
    "    \n",
    "    #output of results#\n",
    "    cv_scores=list(cross_val_score(ensemble,X,Y,cv=item))\n",
    "    cv_scores=[round(100*x) for x in cv_scores]\n",
    "    cv_num.append(item)#split number\n",
    "    score_cv.append(mean(cv_scores)) #score\n",
    "    R.append(max(cv_scores)-min(cv_scores))#R\n",
    "    S.append(stdev(cv_scores)) #S\n",
    "    print('Number of cv: '+str(item)+' Average score: '+str(round(mean(cv_scores)))+'%')\n",
    "    #/output of results#"
   ]
  },
  {
   "cell_type": "markdown",
   "metadata": {},
   "source": [
    "Quite stable. "
   ]
  },
  {
   "cell_type": "markdown",
   "metadata": {},
   "source": [
    "PO may focus on traffic attraction as this metric has the same predictive power as the initial set. Let's insert moving averages with for sessions,BR and offers to verify the result.   "
   ]
  },
  {
   "cell_type": "code",
   "execution_count": 270,
   "metadata": {},
   "outputs": [
    {
     "name": "stdout",
     "output_type": "stream",
     "text": [
      "   Visits_x  Viewers_x   Views_x      BR_x   Depth_x    Time_x      CR,%  \\\n",
      "0  0.029412   0.029412  0.019608  0.000000  0.034091  0.024829  0.000000   \n",
      "1  0.254902   0.254902  0.367647  0.148148  0.247475  0.234483  0.518519   \n",
      "2  0.166667   0.166667  0.151961  0.111111  0.106061  0.218798  0.333333   \n",
      "3  0.137255   0.137255  0.102941  0.266667  0.063636  0.119102  0.133333   \n",
      "4  0.186275   0.186275  0.166667  0.250000  0.102273  0.139441  0.300000   \n",
      "\n",
      "     OFFERS  \n",
      "0  0.038462  \n",
      "1  0.000000  \n",
      "2  0.230769  \n",
      "3  0.346154  \n",
      "4  0.115385  \n"
     ]
    }
   ],
   "source": [
    "print(df.head())"
   ]
  },
  {
   "cell_type": "markdown",
   "metadata": {},
   "source": [
    "Let's look at the moving averages with 2W window."
   ]
  },
  {
   "cell_type": "code",
   "execution_count": 271,
   "metadata": {},
   "outputs": [
    {
     "name": "stdout",
     "output_type": "stream",
     "text": [
      "                 Sessions    Offers  Bounce rate  Conversion rate       Gap\n",
      "Sessions         1.000000  0.604502     0.037355        -0.721480  0.962024\n",
      "Offers           0.604502  1.000000    -0.039968        -0.244059  0.364101\n",
      "Bounce rate      0.037355 -0.039968     1.000000        -0.010454  0.057370\n",
      "Conversion rate -0.721480 -0.244059    -0.010454         1.000000 -0.759898\n",
      "Gap              0.962024  0.364101     0.057370        -0.759898  1.000000\n"
     ]
    }
   ],
   "source": [
    "Sessions=list(df['Visits_x'])\n",
    "Offers=list(df['OFFERS'])\n",
    "BR=list(df['BR_x'])\n",
    "CR=list(df['CR,%'])\n",
    "\n",
    "ma_window=40\n",
    "\n",
    "x=range(len(Sessions))\n",
    "y_av_ses=list(movingaverage(Sessions,ma_window))\n",
    "y_av_offers=list(movingaverage(Offers,ma_window))\n",
    "y_av_br=list(movingaverage(BR,ma_window))\n",
    "y_av_cr=list(movingaverage(CR,ma_window))\n",
    "y_av_kpi=[(x-y) for x,y in zip(y_av_ses,y_av_offers)]\n",
    "\n",
    "df_ma={'Sessions':y_av_ses,'Offers':y_av_offers,'Bounce rate':y_av_br,'Conversion rate':y_av_cr,'Gap':y_av_kpi}\n",
    "df_ma=pd.DataFrame(df_ma)\n",
    "print(df_ma.corr())"
   ]
  },
  {
   "cell_type": "code",
   "execution_count": 154,
   "metadata": {
    "scrolled": true
   },
   "outputs": [
    {
     "data": {
      "text/plain": [
       "<Figure size 432x288 with 0 Axes>"
      ]
     },
     "execution_count": 154,
     "metadata": {},
     "output_type": "execute_result"
    },
    {
     "data": {
      "image/png": "[encoded data removed]",
      "text/plain": [
       "<Figure size 432x288 with 1 Axes>"
      ]
     },
     "metadata": {
      "needs_background": "light"
     },
     "output_type": "display_data"
    },
    {
     "data": {
      "text/plain": [
       "<Figure size 432x288 with 0 Axes>"
      ]
     },
     "metadata": {},
     "output_type": "display_data"
    }
   ],
   "source": [
    "plt.plot(x, y_av_ses,'b')\n",
    "plt.plot(x, y_av_offers,'r')\n",
    "plt.title('Sessions/Offers vice number of days')\n",
    "plt.xlabel('Number of days, lag=Q')\n",
    "plt.xlim(right=1010,left=50)\n",
    "plt.gca().legend(('Sessions','Offers'))\n",
    "plt.figure()"
   ]
  },
  {
   "cell_type": "code",
   "execution_count": 272,
   "metadata": {},
   "outputs": [
    {
     "data": {
      "text/plain": [
       "<Figure size 432x288 with 0 Axes>"
      ]
     },
     "execution_count": 272,
     "metadata": {},
     "output_type": "execute_result"
    },
    {
     "data": {
      "image/png": "[encoded data removed]",
      "text/plain": [
       "<Figure size 432x288 with 1 Axes>"
      ]
     },
     "metadata": {
      "needs_background": "light"
     },
     "output_type": "display_data"
    },
    {
     "data": {
      "text/plain": [
       "<Figure size 432x288 with 0 Axes>"
      ]
     },
     "metadata": {},
     "output_type": "display_data"
    }
   ],
   "source": [
    "plt.plot(x, y_av_ses,'b')\n",
    "plt.plot(x, y_av_kpi,'r')\n",
    "plt.title('Sessions/Gap vice number of days')\n",
    "plt.xlabel('Number of days, lag=Q')\n",
    "plt.xlim(right=1010,left=50)\n",
    "plt.gca().legend(('Sessions','Gap'))\n",
    "plt.figure()"
   ]
  },
  {
   "cell_type": "markdown",
   "metadata": {},
   "source": [
    "These charts give a visual interpretation of traffic KPI importance. However the gap between Offers and Sessions is growing - almost 90% of correlation with traffic. It gives and idea that traffic 'quantity' increase is reached by its quality. In this research I have shown an example of strategy uncertainty when ML gives significant score while standard statistical instruments fail or give contradictory results."
   ]
  }
 ],
 "metadata": {
  "kernelspec": {
   "display_name": "Python 3",
   "language": "python",
   "name": "python3"
  },
  "language_info": {
   "codemirror_mode": {
    "name": "ipython",
    "version": 3
   },
   "file_extension": ".py",
   "mimetype": "text/x-python",
   "name": "python",
   "nbconvert_exporter": "python",
   "pygments_lexer": "ipython3",
   "version": "3.7.0"
  }
 },
 "nbformat": 4,
 "nbformat_minor": 2
}
