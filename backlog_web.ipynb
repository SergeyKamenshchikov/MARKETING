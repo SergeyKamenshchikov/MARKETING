{
 "cells": [
  {
   "cell_type": "markdown",
   "metadata": {},
   "source": [
    "Product Owner have to choose between two KPIs of his product and invest money in one of possible directions. For example - traffic attraction or conversion optimization. These are two strategies and his backlog have to be prioritized right now. Here we use ML scores as a measure of KPI selection. In fact we look how this or that KPI helps to predict possible cash flow. In this example we have one product with fixed price. We use web metrics to understand what strategy should be chosen - attraction or activation, Ads  or CRO. I show that standard statistical measures like correlation fail and nonlinear ML models give insight. It works on relatively small data (1092 records) - natural limitation. That's why ensemble voting, binning of target and dimension reduction are involved to avoid overfit. I explore two groups of metrics. First (I) corresponds to conversion - bounce rate, depth of view, conversion to contact page, time of session. Second (II) corresponds to traffic (ads channel is a major factor for this product): number of sessions, number uniqie new visitors, number of views. I use the daily discretization of web and crm data. The target function is a number of commercial offers/day. Input features correspond to the New Visitors segment (!). Segmentation is done, using Google Analytics and Yandex Metrics APIs. "
   ]
  },
  {
   "cell_type": "code",
   "execution_count": 37,
   "metadata": {},
   "outputs": [],
   "source": [
    "from __future__ import division\n",
    "import warnings\n",
    "warnings.filterwarnings(\"ignore\")"
   ]
  },
  {
   "cell_type": "markdown",
   "metadata": {},
   "source": [
    "Define general parameters"
   ]
  },
  {
   "cell_type": "code",
   "execution_count": 38,
   "metadata": {},
   "outputs": [],
   "source": [
    "split_num=10 #number of cross validation intervals\n",
    "out_sample=0.5 #out-of-sample split\n",
    "neigbors_maximum=10 #max number of neighbors for KNN"
   ]
  },
  {
   "cell_type": "markdown",
   "metadata": {},
   "source": [
    "Import general libraries: arrays,dateframe"
   ]
  },
  {
   "cell_type": "code",
   "execution_count": 39,
   "metadata": {},
   "outputs": [],
   "source": [
    "import numpy as np #work with arrays\n",
    "import pandas as pd #work with dateframe\n",
    "from pandas import set_option\n",
    "import matplotlib.pyplot as plt #work with charts\n",
    "import seaborn as sns #work with color charts\n",
    "from pylab import plot, ylim, xlim, show, xlabel, ylabel, grid #work with charts\n",
    "from numpy import linspace, loadtxt, ones, convolve"
   ]
  },
  {
   "cell_type": "markdown",
   "metadata": {},
   "source": [
    "Import statistical libraries"
   ]
  },
  {
   "cell_type": "code",
   "execution_count": 40,
   "metadata": {},
   "outputs": [],
   "source": [
    "from scipy.stats.stats import pearsonr #correlation method\n",
    "from statistics import median #median search"
   ]
  },
  {
   "cell_type": "markdown",
   "metadata": {},
   "source": [
    "Import ML libraries for out-of-sample tests and hyperparameter tuning"
   ]
  },
  {
   "cell_type": "code",
   "execution_count": 41,
   "metadata": {},
   "outputs": [],
   "source": [
    "from sklearn.model_selection import train_test_split #standard out-of-sample test\n",
    "from sklearn.model_selection import cross_val_score #cross validation test\n",
    "from sklearn.model_selection import GridSearchCV #hyperperameter tuning\n",
    "from sklearn.model_selection import KFold #sample split"
   ]
  },
  {
   "cell_type": "markdown",
   "metadata": {},
   "source": [
    "Import ML libraries"
   ]
  },
  {
   "cell_type": "code",
   "execution_count": 42,
   "metadata": {},
   "outputs": [],
   "source": [
    "from sklearn.decomposition import PCA\n",
    "from sklearn.linear_model import Ridge\n",
    "from sklearn.linear_model import LogisticRegression\n",
    "from sklearn.tree import DecisionTreeClassifier\n",
    "from sklearn.tree import DecisionTreeRegressor\n",
    "from sklearn.svm import SVR\n",
    "from sklearn.naive_bayes import GaussianNB\n",
    "from sklearn.neighbors import KNeighborsClassifier\n",
    "from sklearn.neighbors import KNeighborsRegressor\n",
    "from sklearn.ensemble import VotingClassifier\n",
    "from sklearn.ensemble import GradientBoostingRegressor\n",
    "from sklearn.ensemble import RandomForestRegressor\n",
    "from mlxtend.regressor import StackingRegressor\n",
    "from sklearn.linear_model import LinearRegression\n",
    "from sklearn.ensemble import ExtraTreesClassifier"
   ]
  },
  {
   "cell_type": "raw",
   "metadata": {},
   "source": [
    "Feature selection library\n",
    "Custom functions - compress to (0,1) interval"
   ]
  },
  {
   "cell_type": "code",
   "execution_count": 43,
   "metadata": {},
   "outputs": [],
   "source": [
    "def standart(x):\n",
    "    max_value=x.max();\n",
    "    min_value=x.min()\n",
    "    z=(x-min_value) / (max_value - min_value)\n",
    "    return z"
   ]
  },
  {
   "cell_type": "markdown",
   "metadata": {},
   "source": [
    "Custom functions - correlation map"
   ]
  },
  {
   "cell_type": "code",
   "execution_count": 44,
   "metadata": {},
   "outputs": [],
   "source": [
    "def cormap(x):\n",
    "  corr=x.corr();fig=plt.figure(figsize=(10, 7))\n",
    "  g=sns.heatmap(corr,annot=True,linewidths=.2, cbar_kws={\"orientation\": \"horizontal\"})\n",
    "  plt.show()"
   ]
  },
  {
   "cell_type": "markdown",
   "metadata": {},
   "source": [
    "Custom functions - Person coefficient output"
   ]
  },
  {
   "cell_type": "code",
   "execution_count": 45,
   "metadata": {},
   "outputs": [],
   "source": [
    "def cf(x,y):\n",
    "  CFV=pearsonr(x,y);correlation=str(abs(round(int(100*CFV[0]))))\n",
    "  p_mystake=str(round((100*CFV[1]),3));cf_mst=[correlation,p_mystake]\n",
    "  return cf_mst"
   ]
  },
  {
   "cell_type": "markdown",
   "metadata": {},
   "source": [
    "Custom functions - exploratory analysis"
   ]
  },
  {
   "cell_type": "code",
   "execution_count": 46,
   "metadata": {},
   "outputs": [],
   "source": [
    "def eda(x):\n",
    "  pd.plotting.scatter_matrix(x,figsize=[8,8],diagonal='kde',grid=True,ax=None,range_padding=1)\n",
    "  plt.show()"
   ]
  },
  {
   "cell_type": "markdown",
   "metadata": {},
   "source": [
    "Classification of continuous var by median"
   ]
  },
  {
   "cell_type": "code",
   "execution_count": 47,
   "metadata": {},
   "outputs": [],
   "source": [
    "def get_class(x):\n",
    "  threshold=median(list(x))\n",
    "  #threshold=0.5\n",
    "  class_type=[]\n",
    "  for item in list(x):\n",
    "    if item>=threshold: label=1;class_type.append(label)\n",
    "    if item<threshold: label=0;class_type.append(label)\n",
    "  return class_type  "
   ]
  },
  {
   "cell_type": "markdown",
   "metadata": {},
   "source": [
    "Custom functions - plot PCA components and moving average"
   ]
  },
  {
   "cell_type": "code",
   "execution_count": 48,
   "metadata": {},
   "outputs": [],
   "source": [
    "def pca(x,y):\n",
    "  pca=PCA()\n",
    "  pca.fit(y) \n",
    "  PCA(copy=True)\n",
    "  features=x\n",
    "  pca.explained_variance_=standart(pca.explained_variance_)\n",
    "  pca.explained_variance_=list(np.array(pca.explained_variance_)*100)\n",
    "  plt.bar(x, pca.explained_variance_,width=0.5)\n",
    "  plt.xticks(features);plt.ylabel('variance');plt.xlabel('PCA feature')\n",
    "  print('Input of component - PCA:')\n",
    "  for i in range(0,len(pca.explained_variance_)):\n",
    "    print(str(x[i])+': '+str(int(pca.explained_variance_[i]))+'%')\n",
    "    i=i+1\n",
    "  plt.show()\n",
    "\n",
    "def movingaverage(interval, window_size):\n",
    "    window= np.ones(int(window_size))/float(window_size)\n",
    "    return np.convolve(interval, window, 'same')"
   ]
  },
  {
   "cell_type": "markdown",
   "metadata": {},
   "source": [
    "Read data from 3 xls files and merge data from crm and Web Analytics platform. 3 years of daily records. We make an output of first 5 records"
   ]
  },
  {
   "cell_type": "code",
   "execution_count": 49,
   "metadata": {},
   "outputs": [],
   "source": [
    "df_all=pd.read_excel('all_pages.xlsx')\n",
    "df_contacts=pd.read_excel('contacts.xlsx')\n",
    "df_crm=pd.read_excel('crm.xlsx')\n",
    "\n",
    "df_all_contacts=df_all.merge(df_contacts,how='left',left_on='Date',right_on='Date')\n",
    "df_all_contacts['Visits_contacts']=df_all_contacts['Visits_contacts'].fillna(0)\n",
    "df=df_all_contacts.merge(df_crm,how='left',left_on='Date',right_on='Date');\n",
    "\n",
    "df['Offers']=df['Offers'].fillna(0)\n",
    "df['Conversion']=100*df['Visits_contacts']/df['Visits']\n",
    "del df['Visits_contacts']"
   ]
  },
  {
   "cell_type": "markdown",
   "metadata": {},
   "source": []
  },
  {
   "cell_type": "markdown",
   "metadata": {},
   "source": [
    "Show column names"
   ]
  },
  {
   "cell_type": "code",
   "execution_count": 50,
   "metadata": {},
   "outputs": [
    {
     "name": "stdout",
     "output_type": "stream",
     "text": [
      "All fields: ['Date', 'Visits', 'Viewers', 'Views', 'BR', 'Depth', 'Time', 'Offers', 'Conversion']\n"
     ]
    }
   ],
   "source": [
    "column_names=list(df.columns.values)\n",
    "print('All fields:',column_names)"
   ]
  },
  {
   "cell_type": "markdown",
   "metadata": {},
   "source": [
    "Show time interval:"
   ]
  },
  {
   "cell_type": "code",
   "execution_count": 51,
   "metadata": {},
   "outputs": [
    {
     "name": "stdout",
     "output_type": "stream",
     "text": [
      "Data Start: 2016-05-09 00:00:00\n",
      "Data End: 2019-05-07 00:00:00\n"
     ]
    }
   ],
   "source": [
    "print('Data Start:',list(df['Date'])[0])\n",
    "print('Data End:',list(df['Date'])[-1])"
   ]
  },
  {
   "cell_type": "markdown",
   "metadata": {},
   "source": [
    "Show number of records - small data"
   ]
  },
  {
   "cell_type": "code",
   "execution_count": 52,
   "metadata": {},
   "outputs": [
    {
     "name": "stdout",
     "output_type": "stream",
     "text": [
      "Number of records: 1092\n"
     ]
    }
   ],
   "source": [
    "print('Number of records:', len(df))"
   ]
  },
  {
   "cell_type": "markdown",
   "metadata": {},
   "source": [
    "Compress features to (0,1) to avoid ML unstability"
   ]
  },
  {
   "cell_type": "code",
   "execution_count": 53,
   "metadata": {},
   "outputs": [],
   "source": [
    "df['Visits']=standart(df['Visits']);df['Viewers']=standart(df['Viewers'])\n",
    "df['Views']=standart(df['Views']);df['BR']=standart(df['BR'])\n",
    "df['Depth']=standart(df['Depth']);df['Time']=standart(df['Time'])\n",
    "df['Offers']=standart(df['Offers']);df['Conversion']=standart(df['Conversion'])"
   ]
  },
  {
   "cell_type": "markdown",
   "metadata": {},
   "source": [
    "Remove date feature"
   ]
  },
  {
   "cell_type": "code",
   "execution_count": 54,
   "metadata": {},
   "outputs": [],
   "source": [
    "del df['Date']"
   ]
  },
  {
   "cell_type": "markdown",
   "metadata": {},
   "source": [
    "Make correlation map and scatter map"
   ]
  },
  {
   "cell_type": "code",
   "execution_count": 55,
   "metadata": {},
   "outputs": [
    {
     "data": {
      "image/png": "[encoded data removed]",
      "text/plain": [
       "<Figure size 720x504 with 2 Axes>"
      ]
     },
     "metadata": {
      "needs_background": "light"
     },
     "output_type": "display_data"
    }
   ],
   "source": [
    "cormap(df)"
   ]
  },
  {
   "cell_type": "markdown",
   "metadata": {},
   "source": [
    "We can see that Offers are correlated mostly with Visits/Viewers/Views - traffic. Small correlation with conversion features like Bounce Rate and Conversion into \"Contacts\" page. Ok, let's analyze feature input by PCA."
   ]
  },
  {
   "cell_type": "code",
   "execution_count": 56,
   "metadata": {},
   "outputs": [
    {
     "name": "stdout",
     "output_type": "stream",
     "text": [
      "Input of component - PCA:\n",
      "Visits: 100%\n",
      "Viewers: 30%\n",
      "Views: 12%\n",
      "BR: 5%\n",
      "Depth: 2%\n",
      "Time: 0%\n",
      "Conversion: 0%\n"
     ]
    },
    {
     "data": {
      "image/png": "[encoded data removed]",
      "text/plain": [
       "<Figure size 432x288 with 1 Axes>"
      ]
     },
     "metadata": {
      "needs_background": "light"
     },
     "output_type": "display_data"
    }
   ],
   "source": [
    "df_pca=df.copy()\n",
    "del df_pca['Offers']\n",
    "column_names=df_pca.columns\n",
    "pca(column_names,df_pca)"
   ]
  },
  {
   "cell_type": "markdown",
   "metadata": {},
   "source": [
    "Number of sessions is in top. Other metrcis have less significance and are naturally ordered. We get EDA for Offers distribution. "
   ]
  },
  {
   "cell_type": "code",
   "execution_count": 57,
   "metadata": {},
   "outputs": [
    {
     "name": "stdout",
     "output_type": "stream",
     "text": [
      "Offers:\n",
      "count    1092.000\n",
      "mean        0.221\n",
      "std         0.194\n",
      "min         0.000\n",
      "25%         0.000\n",
      "50%         0.231\n",
      "75%         0.346\n",
      "max         1.000\n",
      "Name: Offers, dtype: float64\n"
     ]
    }
   ],
   "source": [
    "set_option('display.width',100)\n",
    "set_option('precision',3)\n",
    "\n",
    "print('Offers:')\n",
    "description=df['Offers'].describe()\n",
    "print(description)"
   ]
  },
  {
   "cell_type": "markdown",
   "metadata": {},
   "source": [
    "We may split target variable Offers into 2 classes by median threshold. We prepare data for binary classificators. Let's detect percent of positive offers per day first."
   ]
  },
  {
   "cell_type": "code",
   "execution_count": 58,
   "metadata": {},
   "outputs": [
    {
     "name": "stdout",
     "output_type": "stream",
     "text": [
      "Number of days with [offers>0] number is 70%\n"
     ]
    }
   ],
   "source": [
    "offers_positive=len(df[df['Offers']>0])\n",
    "general_length=len(df)\n",
    "print('Number of days with [offers>0] number is '+str(round(100*offers_positive/general_length))+'%')"
   ]
  },
  {
   "cell_type": "code",
   "execution_count": 59,
   "metadata": {},
   "outputs": [],
   "source": [
    "df_binary=df.copy()\n",
    "df_binary['Offers binary']=get_class(df_binary['Offers'])\n",
    "del df_binary['Offers']"
   ]
  },
  {
   "cell_type": "markdown",
   "metadata": {},
   "source": [
    "Let's split 5 features from target."
   ]
  },
  {
   "cell_type": "code",
   "execution_count": 60,
   "metadata": {},
   "outputs": [],
   "source": [
    "array_df_binary=df_binary.values\n",
    "X=array_df_binary[:,0:7];Y=array_df_binary[:,7]"
   ]
  },
  {
   "cell_type": "markdown",
   "metadata": {},
   "source": [
    "Estimation of feature importance based on tree classifier. "
   ]
  },
  {
   "cell_type": "code",
   "execution_count": 61,
   "metadata": {},
   "outputs": [
    {
     "name": "stdout",
     "output_type": "stream",
     "text": [
      "Importance of Visits,Viewers,Views,BR,Depth,Time,Conversion by tree classificator:\n",
      "\n",
      "   Visits  Viewers  Views     BR  Depth   Time  Conversion\n",
      "0   0.232    0.211  0.176  0.102  0.098  0.085       0.096\n"
     ]
    }
   ],
   "source": [
    "model=ExtraTreesClassifier(n_estimators=100)\n",
    "model.fit(X, Y)\n",
    "print('Importance of Visits,Viewers,Views,BR,Depth,Time,Conversion by tree classificator:\\n')\n",
    "\n",
    "tree_features=['Visits','Viewers','Views','BR','Depth','Time,Conversion']\n",
    "imp=list(model.feature_importances_)\n",
    "df_tree_importance=pd.DataFrame({'Visits':[imp[0]],'Viewers':[imp[1]],'Views':[imp[2]],'BR':[imp[3]],'Depth':[imp[4]],\n",
    "                                 'Time':[imp[5]],'Conversion':[imp[6]]},\n",
    "                                columns=['Visits','Viewers','Views','BR','Depth','Time','Conversion'])\n",
    "\n",
    "print(df_tree_importance.head())"
   ]
  },
  {
   "cell_type": "markdown",
   "metadata": {},
   "source": [
    "We can see that both conversion and traffic metrics influences the target but the traffic influence is higher. Construct arrays for fetures and target of regression models. Let's firstly involve all features."
   ]
  },
  {
   "cell_type": "code",
   "execution_count": 62,
   "metadata": {},
   "outputs": [
    {
     "name": "stdout",
     "output_type": "stream",
     "text": [
      "   Visits  Viewers  Views     BR  Depth   Time  Offers  Conversion\n",
      "0   0.054    0.051  0.028  0.234  0.054  0.022   0.038       0.000\n",
      "1   0.288    0.267  0.199  0.333  0.095  0.209   0.000       0.395\n",
      "2   0.304    0.261  0.385  0.226  0.234  0.346   0.231       0.561\n",
      "3   0.293    0.267  0.204  0.468  0.096  0.142   0.346       0.145\n",
      "4   0.223    0.233  0.115  0.459  0.053  0.084   0.115       0.063\n"
     ]
    }
   ],
   "source": [
    "df_reg=df.copy()\n",
    "new_order=[0,1,2,3,4,5,7,6]\n",
    "df_reg[df.columns[new_order]]\n",
    "#del df_reg['Viewers'];del df_reg['Depth'];del df_reg['Time'] \n",
    "print(df_reg.head())\n",
    "\n",
    "array_reg=df_reg.values\n",
    "X_reg=array_reg[:,0:7];Y_reg=array_reg[:,7]"
   ]
  },
  {
   "cell_type": "markdown",
   "metadata": {},
   "source": [
    "Try regression models. Let's do ensemble prediction by stacking technique "
   ]
  },
  {
   "cell_type": "code",
   "execution_count": 63,
   "metadata": {},
   "outputs": [
    {
     "name": "stdout",
     "output_type": "stream",
     "text": [
      "Mean R2 for stacking Regression: 0.5\n",
      "Deviation for stacking Regression: 0.17\n"
     ]
    }
   ],
   "source": [
    "kfold=KFold(n_splits=split_num, random_state=7)\n",
    "ridge=Ridge(alpha=1,fit_intercept=True)\n",
    "knn=KNeighborsRegressor()\n",
    "svr=SVR(gamma='auto')\n",
    "\n",
    "stregr=StackingRegressor(regressors=[ridge,knn,svr], meta_regressor=ridge)\n",
    "results=cross_val_score(stregr, X_reg, Y_reg, cv=kfold, scoring='r2')\n",
    "print('Mean R2 for stacking Regression:',round(results.mean(),2))\n",
    "print('Deviation for stacking Regression:',round(results.std(),2))"
   ]
  },
  {
   "cell_type": "markdown",
   "metadata": {},
   "source": [
    "Low significance. Let's try traffic features."
   ]
  },
  {
   "cell_type": "code",
   "execution_count": 64,
   "metadata": {},
   "outputs": [
    {
     "name": "stdout",
     "output_type": "stream",
     "text": [
      "   Visits  Viewers  Views  Offers\n",
      "0   0.054    0.051  0.028   0.038\n",
      "1   0.288    0.267  0.199   0.000\n",
      "2   0.304    0.261  0.385   0.231\n",
      "3   0.293    0.267  0.204   0.346\n",
      "4   0.223    0.233  0.115   0.115\n",
      "\n",
      "\n",
      "Mean R2 for stacking Regression: 0.5\n",
      "Deviation for stacking Regression: 0.06\n"
     ]
    }
   ],
   "source": [
    "df_reg=df.copy()\n",
    "new_order=[0,1,2,3,4,5,7,6]\n",
    "df_reg[df.columns[new_order]]\n",
    "del df_reg['BR'];del df_reg['Depth'];del df_reg['Time'];del df_reg['Conversion']  \n",
    "print(df_reg.head());print('\\n')\n",
    "\n",
    "array_reg=df_reg.values\n",
    "X_reg=array_reg[:,0:3];Y_reg=array_reg[:,3]\n",
    "\n",
    "kfold=KFold(n_splits=split_num, random_state=7)\n",
    "ridge=Ridge(alpha=1,fit_intercept=True)\n",
    "knn=KNeighborsRegressor()\n",
    "svr=SVR(gamma='auto')\n",
    "\n",
    "stregr=StackingRegressor(regressors=[ridge,knn,svr], meta_regressor=ridge)\n",
    "results=cross_val_score(stregr, X_reg, Y_reg, cv=kfold, scoring='r2')\n",
    "print('Mean R2 for stacking Regression:',round(results.mean(),2))\n",
    "print('Deviation for stacking Regression:',round(results.std(),2))"
   ]
  },
  {
   "cell_type": "markdown",
   "metadata": {},
   "source": [
    "The result is better. Let's try seperately most obvious conversion features."
   ]
  },
  {
   "cell_type": "code",
   "execution_count": 65,
   "metadata": {},
   "outputs": [
    {
     "name": "stdout",
     "output_type": "stream",
     "text": [
      "      BR  Offers  Conversion\n",
      "0  0.234   0.038       0.000\n",
      "1  0.333   0.000       0.395\n",
      "2  0.226   0.231       0.561\n",
      "3  0.468   0.346       0.145\n",
      "4  0.459   0.115       0.063\n",
      "\n",
      "\n",
      "Mean R2 for stacking Regression: -0.12\n",
      "Deviation for stacking Regression: 0.29\n"
     ]
    }
   ],
   "source": [
    "df_reg=df.copy()\n",
    "new_order=[0,1,2,3,4,5,7,6]\n",
    "df_reg[df.columns[new_order]]\n",
    "del df_reg['Visits'];del df_reg['Viewers'];del df_reg['Views'];del df_reg['Time'];del df_reg['Depth']\n",
    "print(df_reg.head());print('\\n')\n",
    "\n",
    "array_reg=df_reg.values\n",
    "X_reg=array_reg[:,0:2];Y_reg=array_reg[:,2]\n",
    "\n",
    "kfold=KFold(n_splits=split_num, random_state=7)\n",
    "ridge=Ridge(alpha=1,fit_intercept=True)\n",
    "knn=KNeighborsRegressor()\n",
    "svr=SVR(gamma='auto')\n",
    "\n",
    "stregr=StackingRegressor(regressors=[ridge,knn,svr], meta_regressor=ridge)\n",
    "results=cross_val_score(stregr, X_reg, Y_reg, cv=kfold, scoring='r2')\n",
    "print('Mean R2 for stacking Regression:',round(results.mean(),2))\n",
    "print('Deviation for stacking Regression:',round(results.std(),2))"
   ]
  },
  {
   "cell_type": "markdown",
   "metadata": {},
   "source": [
    "OK. Regression gives poor results - it's not surprise for small and noisy data. However we may notice that traffic has a greater influence. Let's move to classifiers with binned target. Let's make an ensemble of classificators for binary table. First - we use all features."
   ]
  },
  {
   "cell_type": "code",
   "execution_count": 66,
   "metadata": {},
   "outputs": [
    {
     "name": "stdout",
     "output_type": "stream",
     "text": [
      "Average score of validation for ensamble:79.0%\n",
      "Deviation of validation score:7.0%\n",
      "Accuracy for the out-of-sample 50/50 test=80.0%\n"
     ]
    }
   ],
   "source": [
    "estimators = []\n",
    "a=KNeighborsClassifier(n_neighbors=neigbors_maximum)\n",
    "b=GaussianNB()\n",
    "c=DecisionTreeClassifier(criterion='entropy')\n",
    "\n",
    "estimators.append(('knn',a))\n",
    "estimators.append(('naive', b))\n",
    "estimators.append(('dt', c))\n",
    "\n",
    "ensemble = VotingClassifier(estimators)\n",
    "results = cross_val_score(ensemble, X, Y, cv=kfold)\n",
    "print('Average score of validation for ensamble:'+str(round(100*results.mean()))+'%')\n",
    "print('Deviation of validation score:'+str(round(100*results.std()))+'%')\n",
    "\n",
    "X_train,X_test,Y_train,Y_test=train_test_split(X,Y,test_size=out_sample)\n",
    "model=ensemble;model.fit(X_train,Y_train)\n",
    "score_nb=model.score(X_test, Y_test)\n",
    "print('Accuracy for the out-of-sample 50/50 test='+str(100*round((score_nb),1))+'%')"
   ]
  },
  {
   "cell_type": "markdown",
   "metadata": {},
   "source": [
    "Great! What if we remove consequently remove features according to PCA/TreeClassificator results? We look at the accuracy. Let's use the traffic features seperately. Several combination of three features show the best results for session only. It is quite reasonable as Views and User number correlates with number of sessions. So reduction of dumensionality has to improve result."
   ]
  },
  {
   "cell_type": "code",
   "execution_count": 67,
   "metadata": {},
   "outputs": [
    {
     "name": "stdout",
     "output_type": "stream",
     "text": [
      "Average score of validation for ensamble:81.0%\n",
      "Deviation of validation score:6.0%\n",
      "Accuracy for the out-of-sample 50/50 test=80.0%\n"
     ]
    }
   ],
   "source": [
    "X=array_df_binary[:,0:1]\n",
    "estimators = []\n",
    "a=KNeighborsClassifier(n_neighbors=neigbors_maximum)\n",
    "b=GaussianNB()\n",
    "c=DecisionTreeClassifier(criterion='entropy')\n",
    "\n",
    "estimators.append(('knn',a))\n",
    "estimators.append(('naive', b))\n",
    "estimators.append(('dt', c))\n",
    "\n",
    "ensemble = VotingClassifier(estimators)\n",
    "results = cross_val_score(ensemble, X, Y, cv=kfold)\n",
    "print('Average score of validation for ensamble:'+str(round(100*results.mean()))+'%')\n",
    "print('Deviation of validation score:'+str(round(100*results.std()))+'%')\n",
    "\n",
    "X_train,X_test,Y_train,Y_test=train_test_split(X,Y,test_size=out_sample)\n",
    "model=ensemble;model.fit(X_train,Y_train)\n",
    "score_nb=model.score(X_test, Y_test)\n",
    "print('Accuracy for the out-of-sample 50/50 test='+str(100*round((score_nb),1))+'%')"
   ]
  },
  {
   "cell_type": "markdown",
   "metadata": {},
   "source": [
    "Less features - less overfit risk. So, finally we have traffic as a most powerful KPI, which predicts binary function of offers number with accuracy of about 80%. However not accuracy, but factor analysis is essential. PCA, EDA, Tree Classifier show that traffic features determine conversion into the commercial offer. PO may focus on traffic attraction more than web CRO. Let's insert moving averages with window of Q1 for sessions,BR and offers to verify the result.   "
   ]
  },
  {
   "cell_type": "code",
   "execution_count": 68,
   "metadata": {},
   "outputs": [],
   "source": [
    "df_origin=df.copy()\n",
    "df_origin['Visits-s']=standart(df_origin['Visits'])\n",
    "df_origin['Offers-s']=standart(df_origin['Offers'])\n",
    "df_origin['BR-s']=standart(df_origin['BR'])\n",
    "df_origin['Conversion-s']=standart(df_origin['Conversion'])\n",
    "\n",
    "Sessions=list(df_origin['Visits-s'])\n",
    "Offers=list(df_origin['Offers-s'])\n",
    "BR=list(df_origin['BR-s'])\n",
    "Contact_CR=list(df_origin['Conversion-s'])\n",
    "\n",
    "x=range(len(Sessions))\n",
    "y_av_ses=list(movingaverage(Sessions,60))\n",
    "y_av_offers=list(movingaverage(Offers,60))\n",
    "y_av_br=list(movingaverage(BR,60))\n",
    "y_av_cr=list(movingaverage(Contact_CR,60))"
   ]
  },
  {
   "cell_type": "markdown",
   "metadata": {},
   "source": [
    "Look at the Offers vice Session"
   ]
  },
  {
   "cell_type": "code",
   "execution_count": 69,
   "metadata": {
    "scrolled": true
   },
   "outputs": [
    {
     "data": {
      "text/plain": [
       "<Figure size 432x288 with 0 Axes>"
      ]
     },
     "execution_count": 69,
     "metadata": {},
     "output_type": "execute_result"
    },
    {
     "data": {
      "image/png": "[encoded data removed]",
      "text/plain": [
       "<Figure size 432x288 with 1 Axes>"
      ]
     },
     "metadata": {
      "needs_background": "light"
     },
     "output_type": "display_data"
    },
    {
     "data": {
      "text/plain": [
       "<Figure size 432x288 with 0 Axes>"
      ]
     },
     "metadata": {},
     "output_type": "display_data"
    }
   ],
   "source": [
    "plt.plot(x, y_av_ses,'b')\n",
    "plt.plot(x, y_av_offers,'r')\n",
    "plt.title('Sessions/Offers vice number of days')\n",
    "plt.xlabel('Number of days, lag=Q')\n",
    "plt.xlim(right=1010,left=50)\n",
    "plt.gca().legend(('Sessions','Offers'))\n",
    "plt.figure()"
   ]
  },
  {
   "cell_type": "code",
   "execution_count": 70,
   "metadata": {},
   "outputs": [
    {
     "name": "stdout",
     "output_type": "stream",
     "text": [
      "                 Sessions  Offers  Bounce rate  Conversion rate\n",
      "Sessions            1.000   0.703        0.138           -0.636\n",
      "Offers              0.703   1.000        0.118           -0.262\n",
      "Bounce rate         0.138   0.118        1.000            0.006\n",
      "Conversion rate    -0.636  -0.262        0.006            1.000\n"
     ]
    }
   ],
   "source": [
    "d={'Sessions':y_av_ses,'Offers':y_av_offers,'Bounce rate':y_av_br,'Conversion rate':y_av_cr}\n",
    "df_movings=pd.DataFrame(d)\n",
    "print(df_movings.corr())"
   ]
  },
  {
   "cell_type": "markdown",
   "metadata": {},
   "source": [
    "Good correlation, but the gap between traffic and Offers is growing - we have to work on the quality of audience. Let's create the correlation matrix of movings. The conclusions of ML are verified. We see that traddic attraction may give 20/80 effect. CRO corresponds to 10% of total effect. However the gap is growing - so the attracted audience relevence is falling. So the marketing department should work on the attraction of target audience by Ads. Thank you for your attention. "
   ]
  }
 ],
 "metadata": {
  "kernelspec": {
   "display_name": "Python 3",
   "language": "python",
   "name": "python3"
  },
  "language_info": {
   "codemirror_mode": {
    "name": "ipython",
    "version": 3
   },
   "file_extension": ".py",
   "mimetype": "text/x-python",
   "name": "python",
   "nbconvert_exporter": "python",
   "pygments_lexer": "ipython3",
   "version": "3.7.0"
  }
 },
 "nbformat": 4,
 "nbformat_minor": 2
}
