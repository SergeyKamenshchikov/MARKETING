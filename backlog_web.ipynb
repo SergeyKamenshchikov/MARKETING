{
 "cells": [
  {
   "cell_type": "markdown",
   "metadata": {},
   "source": [
    "Product Owner have to choose between two KPIs (group of metrics) of his product and invest in one of possible strategies - backlog prioritization. Ads or CRO, attraction or activation or retention. Here I use ML scores of prediction as a measure of KPI selection. I look how KPI/metrics helps to predict possible cash flow. Standard statistical measures like correlation fail while nonlinear ML models give insight. It works on relatively small data of 1092 records. Ensemble voting, binning of target and dimension reduction are involved to avoid overfit. I explore two groups of metrics. First (I) corresponds to conversion - bounce rate, depth of view, conversion to contact page, time of session. Second (II) corresponds to traffic: number of sessions, new visitors, views. The target function is a number of commercial offers/day. Input features correspond to the New Visitors segment from organic search. "
   ]
  },
  {
   "cell_type": "code",
   "execution_count": 204,
   "metadata": {},
   "outputs": [
    {
     "name": "stdout",
     "output_type": "stream",
     "text": [
      "Namaste!\n"
     ]
    }
   ],
   "source": [
    "print('Namaste!')"
   ]
  },
  {
   "cell_type": "markdown",
   "metadata": {},
   "source": [
    "Import libraries:"
   ]
  },
  {
   "cell_type": "code",
   "execution_count": 205,
   "metadata": {},
   "outputs": [],
   "source": [
    "import numpy as np \n",
    "import pandas as pd \n",
    "from pandas import set_option\n",
    "import matplotlib.pyplot as plt \n",
    "from pylab import plot, ylim, xlim, show, xlabel, ylabel, grid \n",
    "from numpy import linspace, loadtxt, ones, convolve\n",
    "from statistics import median \n",
    "from statistics import mean \n",
    "from statistics import stdev \n",
    "from math import log\n",
    "from numpy.polynomial.polynomial import polyfit\n",
    "from sklearn.model_selection import cross_val_score \n",
    "from sklearn.model_selection import GridSearchCV \n",
    "from sklearn.model_selection import KFold \n",
    "from sklearn.decomposition import PCA\n",
    "from sklearn.linear_model import Ridge\n",
    "from sklearn.linear_model import LogisticRegression\n",
    "from sklearn.tree import DecisionTreeClassifier\n",
    "from sklearn.svm import SVC\n",
    "from sklearn.naive_bayes import GaussianNB\n",
    "from sklearn.neighbors import KNeighborsClassifier\n",
    "from sklearn.ensemble import VotingClassifier\n",
    "from sklearn.ensemble import AdaBoostClassifier\n",
    "from sklearn.ensemble import ExtraTreesClassifier\n",
    "from sklearn.neural_network import MLPClassifier\n",
    "from sklearn.ensemble import GradientBoostingClassifier\n",
    "import statsmodels.api as sm\n",
    "from sklearn.model_selection import train_test_split\n",
    "from operator import add\n",
    "import seaborn as sns\n",
    "from sklearn.tree import DecisionTreeRegressor\n",
    "from sklearn.neighbors import KNeighborsRegressor\n",
    "from sklearn.ensemble import GradientBoostingRegressor\n",
    "from sklearn.ensemble import RandomForestRegressor\n",
    "from mlxtend.regressor import StackingRegressor\n",
    "from sklearn.linear_model import LinearRegression"
   ]
  },
  {
   "cell_type": "markdown",
   "metadata": {},
   "source": [
    "Define custom functions:"
   ]
  },
  {
   "cell_type": "code",
   "execution_count": 206,
   "metadata": {},
   "outputs": [],
   "source": [
    "def standart(x):#normalize to (0,1) interval\n",
    "    max_value=x.max();\n",
    "    min_value=x.min()\n",
    "    z=(x-min_value) / (max_value - min_value)\n",
    "    return z\n",
    "\n",
    "def cormap(x):#correlation map\n",
    "  corr=x.corr();fig=plt.figure(figsize=(10, 7))\n",
    "  g=sns.heatmap(corr,annot=True,linewidths=.2, cbar_kws={\"orientation\": \"horizontal\"})\n",
    "  plt.show()\n",
    "    \n",
    "def get_class(x):\n",
    "    class_type=[]\n",
    "    for item in list(x):\n",
    "        if 0<=item<0.33:   class_type.append(0) #1 class  \n",
    "        if 0.33<=item<0.66: class_type.append(1) #2 class\n",
    "        if 0.66<=item<=1:  class_type.append(4) #3 class\n",
    "    return class_type\n",
    "\n",
    "def pca(x,y):#principal components visual output\n",
    "  pca=PCA()\n",
    "  pca.fit(y) \n",
    "  PCA(copy=True)\n",
    "  features=x\n",
    "  pca.explained_variance_=standart(pca.explained_variance_)\n",
    "  pca.explained_variance_=list(np.array(pca.explained_variance_)*100)\n",
    "  print('\\nInput of components - PCA:')\n",
    "  for i in range(0,len(pca.explained_variance_)):\n",
    "    print(str(x[i])+': '+str(int(pca.explained_variance_[i]))+'%')\n",
    "    i=i+1\n",
    "\n",
    "def movingaverage(interval, window_size):\n",
    "    window= np.ones(int(window_size))/float(window_size)\n",
    "    return np.convolve(interval, window, 'same')"
   ]
  },
  {
   "cell_type": "markdown",
   "metadata": {},
   "source": [
    "Read data from three files with crm and web data, parsed through web analytics API. Sessions, converted into the contact page visit are recorded in contacts.xlsx, while all session correspond to all_pages.xlsx. Data with daily commercial offers is reccorded in crm.xls.  "
   ]
  },
  {
   "cell_type": "code",
   "execution_count": 207,
   "metadata": {},
   "outputs": [],
   "source": [
    "df_all=pd.read_excel('all_pages.xlsx');df_contacts=pd.read_excel('contacts.xlsx');df_crm=pd.read_excel('crm.xlsx')\n",
    "\n",
    "df_all_contacts=df_all.merge(df_contacts,how='left',left_on='Date',right_on='Date')\n",
    "df_all_contacts['Visits_contacts']=df_all_contacts['Visits_contacts'].fillna(0)\n",
    "df=df_all_contacts.merge(df_crm,how='left',left_on='Date',right_on='Date');df['Offers']=df['Offers'].fillna(0)\n",
    "df['Conversion']=100*df['Visits_contacts']/df['Visits'];del df['Visits_contacts'];df['OFFERS']=df['Offers'];del df['Offers']"
   ]
  },
  {
   "cell_type": "markdown",
   "metadata": {},
   "source": []
  },
  {
   "cell_type": "code",
   "execution_count": 208,
   "metadata": {},
   "outputs": [
    {
     "name": "stdout",
     "output_type": "stream",
     "text": [
      "All fields: ['Date', 'Visits', 'Viewers', 'Views', 'BR', 'Depth', 'Time', 'Conversion', 'OFFERS']\n",
      "Data Start: 2016-05-09 00:00:00\n",
      "Data End: 2019-05-07 00:00:00\n",
      "Number of records: 1092\n"
     ]
    }
   ],
   "source": [
    "column_names=list(df.columns.values)\n",
    "print('All fields:',column_names)\n",
    "print('Data Start:',list(df['Date'])[0])\n",
    "print('Data End:',list(df['Date'])[-1])\n",
    "print('Number of records:', len(df))"
   ]
  },
  {
   "cell_type": "markdown",
   "metadata": {},
   "source": [
    "Convert features to the (0,1) interval:"
   ]
  },
  {
   "cell_type": "code",
   "execution_count": 209,
   "metadata": {},
   "outputs": [],
   "source": [
    "for item in df.columns.values: \n",
    "    df[item]=standart(df[item])   \n",
    "del df['Date']        "
   ]
  },
  {
   "cell_type": "markdown",
   "metadata": {},
   "source": [
    "Let's find the proportion of days with positive offers number. "
   ]
  },
  {
   "cell_type": "code",
   "execution_count": 210,
   "metadata": {},
   "outputs": [
    {
     "name": "stdout",
     "output_type": "stream",
     "text": [
      "Number of days with [offers>0] number is 70%\n"
     ]
    }
   ],
   "source": [
    "offers_positive=len(df[df['OFFERS']>0])\n",
    "general_length=len(df)\n",
    "print('Number of days with [offers>0] number is '+str(round(100*offers_positive/general_length))+'%')"
   ]
  },
  {
   "cell_type": "markdown",
   "metadata": {},
   "source": [
    "Make correlation map and scatter map"
   ]
  },
  {
   "cell_type": "code",
   "execution_count": 211,
   "metadata": {},
   "outputs": [
    {
     "data": {
      "image/png": "[encoded data removed]",
      "text/plain": [
       "<Figure size 720x504 with 2 Axes>"
      ]
     },
     "metadata": {
      "needs_background": "light"
     },
     "output_type": "display_data"
    }
   ],
   "source": [
    "cormap(df)"
   ]
  },
  {
   "cell_type": "markdown",
   "metadata": {},
   "source": [
    "We can see that Offers are correlated mostly with Visits (sessions)/Viewers - traffic metrics. Small correlation with conversion features. Let's look at the basic statistical properties. Most of PMF lies in (0,0.5) interval."
   ]
  },
  {
   "cell_type": "code",
   "execution_count": 212,
   "metadata": {},
   "outputs": [
    {
     "name": "stdout",
     "output_type": "stream",
     "text": [
      "Common description:\n",
      "\n",
      "count    1092.000000\n",
      "mean        0.220555\n",
      "std         0.193650\n",
      "min         0.000000\n",
      "25%         0.000000\n",
      "50%         0.230769\n",
      "75%         0.346154\n",
      "max         1.000000\n",
      "Name: OFFERS, dtype: float64\n",
      "\n",
      "Percentile of 10%: 0.0\n",
      "Percentile of 90%: 0.46\n"
     ]
    }
   ],
   "source": [
    "description=df['OFFERS'].describe()\n",
    "print('Common description:\\n')\n",
    "print(description)\n",
    "print('\\nPercentile of 10%:',round(df['OFFERS'].quantile(0.1),2))\n",
    "print('Percentile of 90%:',round(df['OFFERS'].quantile(0.9),2))"
   ]
  },
  {
   "cell_type": "markdown",
   "metadata": {},
   "source": [
    "We may test classification using binning of (0,1) into 3 equal classes."
   ]
  },
  {
   "cell_type": "code",
   "execution_count": 213,
   "metadata": {},
   "outputs": [],
   "source": [
    "df_binary_fa=df.copy();df_binary_fa['Offers_BIN']=get_class(df_binary_fa['OFFERS']);del df_binary_fa['OFFERS']"
   ]
  },
  {
   "cell_type": "markdown",
   "metadata": {},
   "source": [
    "If classiicator works well we may predict in what range the target lays. Let's split features and target. Let's make an estimation of feature importance based on tree classifier with 100 of experiments and Principal Component Analysis. "
   ]
  },
  {
   "cell_type": "code",
   "execution_count": 214,
   "metadata": {},
   "outputs": [
    {
     "name": "stdout",
     "output_type": "stream",
     "text": [
      "\n",
      "Input of components - Tree:\n",
      "Visits:100.0%\n",
      "Viewers:88.0%\n",
      "Views:84.0%\n",
      "BR:69.0%\n",
      "Depth:59.0%\n",
      "Time:62.0%\n",
      "Conversion:63.0%\n",
      "\n",
      "Input of components - PCA:\n",
      "Visits: 100%\n",
      "Viewers: 30%\n",
      "Views: 12%\n",
      "BR: 5%\n",
      "Depth: 2%\n",
      "Time: 0%\n",
      "Conversion: 0%\n"
     ]
    }
   ],
   "source": [
    "model=ExtraTreesClassifier(n_estimators=100)\n",
    "tree_features=['Visits','Viewers','Views','BR','Depth','Time','Conversion','OFFERS']\n",
    "\n",
    "array=df_binary_fa.values\n",
    "X=array[:,0:7];Y=array[:,7]\n",
    "model.fit(X,Y)\n",
    "imp=list(model.feature_importances_)\n",
    "imp=[round(x*100/max(imp)) for x in imp]\n",
    "\n",
    "print('\\nInput of components - Tree:')  \n",
    "for x,y in zip(tree_features,imp): \n",
    "    print(str(x)+':'+str(y)+'%')\n",
    "    \n",
    "column_names=df_binary_fa.columns\n",
    "del df_binary_fa['Offers_BIN']\n",
    "pca(column_names,df_binary_fa)  "
   ]
  },
  {
   "cell_type": "markdown",
   "metadata": {},
   "source": [
    "Traffic metrics in top. Now we can move forward to the ensemble of simple classifiers/predictors. We look if prediction factor analysis corresponds to standard methods like PCA/Tree/Correlation. We move to classifiers. First try with all features. We use ensemble of 6 voting estimators. We get score for all features. We first make hyperparameter tuning for KNN model."
   ]
  },
  {
   "cell_type": "code",
   "execution_count": 215,
   "metadata": {},
   "outputs": [
    {
     "name": "stdout",
     "output_type": "stream",
     "text": [
      "Average score:68.1%\n",
      "Deviation of score:1.9%\n"
     ]
    }
   ],
   "source": [
    "split_num=5 #number of splits for cross validation\n",
    "\n",
    "#define dataframe#\n",
    "df_binary=df.copy();df_binary['Offers_BIN']=get_class(df_binary['OFFERS']);del df_binary['OFFERS']\n",
    "array=df_binary.values\n",
    "X=array[:,0:7];Y=array[:,7]\n",
    "#/define dataframe#\n",
    "\n",
    "#building the ensemble#\n",
    "model=KNeighborsClassifier()\n",
    "n_neighbors=np.arange(5,20,1)\n",
    "param_grid=dict(n_neighbors=n_neighbors)\n",
    "grid=GridSearchCV(estimator=model,param_grid=param_grid,cv=split_num,iid=True)\n",
    "grid.fit(X, Y)\n",
    "\n",
    "kn=KNeighborsClassifier(n_neighbors=grid.best_estimator_.n_neighbors);gb=GaussianNB()\n",
    "dt=DecisionTreeClassifier(criterion='entropy');sv=SVC(gamma='auto')\n",
    "ab=AdaBoostClassifier(n_estimators=100,random_state=7)\n",
    "gb=GradientBoostingClassifier(n_estimators=100,random_state=7)\n",
    "mlp=MLPClassifier(activation='relu', hidden_layer_sizes=(3,1), random_state=1, solver='lbfgs')\n",
    "\n",
    "estimators=[]\n",
    "estimators.extend([('kn',kn),('naive',gb),('dt',dt),('sv',sv),('ab',ab),('gb',gb),('mlp',mlp)])\n",
    "ensemble=VotingClassifier(estimators)\n",
    "#/building the ensemble#\n",
    "   \n",
    "#output of results#\n",
    "results=cross_val_score(ensemble,X,Y,cv=split_num)\n",
    "print('Average score:'+str(round(100*mean(results),1))+str('%'))\n",
    "print('Deviation of score:'+str(round(100*stdev(results),1))+str('%'))\n",
    "#/output of results#"
   ]
  },
  {
   "cell_type": "markdown",
   "metadata": {},
   "source": [
    "Great result. Now we remove conversion metrics and leave sessions only:"
   ]
  },
  {
   "cell_type": "code",
   "execution_count": 216,
   "metadata": {},
   "outputs": [
    {
     "name": "stdout",
     "output_type": "stream",
     "text": [
      "Average score:70.0%\n",
      "Deviation of score:3.6%\n"
     ]
    }
   ],
   "source": [
    "#define dataframe#\n",
    "del df_binary['BR']\n",
    "del df_binary['Depth']\n",
    "del df_binary['Time']\n",
    "del df_binary['Conversion']\n",
    "del df_binary['Views']\n",
    "del df_binary['Viewers']\n",
    "#/define dataframe#\n",
    "\n",
    "#define array#\n",
    "array=df_binary.values\n",
    "X=array[:,0:1];Y=array[:,1]\n",
    "#/define array#\n",
    "   \n",
    "#output of results#\n",
    "results=cross_val_score(ensemble,X,Y,cv=split_num)\n",
    "print('Average score:'+str(round(100*mean(results)))+str('%'))\n",
    "print('Deviation of score:'+str(round(100*stdev(results),1))+str('%'))\n",
    "#/output of results#"
   ]
  },
  {
   "cell_type": "markdown",
   "metadata": {},
   "source": [
    "The result is comparable. Any other feature combinations won't improve the mean accuracy. I don't represent these calculations here for fast 'onLoad'. However you may check it and test any other combination. Let's test classifier ensemble for cv split number stability."
   ]
  },
  {
   "cell_type": "code",
   "execution_count": 217,
   "metadata": {},
   "outputs": [
    {
     "name": "stdout",
     "output_type": "stream",
     "text": [
      "Number of cv: 3 Average score: 69.0%\n",
      "Number of cv: 4 Average score: 70.0%\n",
      "Number of cv: 5 Average score: 71.0%\n",
      "Number of cv: 6 Average score: 70.0%\n",
      "Number of cv: 7 Average score: 68.0%\n",
      "Number of cv: 8 Average score: 68.0%\n",
      "Number of cv: 9 Average score: 69.0%\n",
      "Number of cv: 10 Average score: 69.0%\n",
      "Number of cv: 11 Average score: 68.0%\n",
      "Number of cv: 12 Average score: 68.0%\n",
      "Number of cv: 13 Average score: 68.0%\n",
      "Number of cv: 14 Average score: 67.0%\n",
      "Number of cv: 15 Average score: 69.0%\n"
     ]
    }
   ],
   "source": [
    "cv_num=[]\n",
    "score_cv=[]\n",
    "S=[]\n",
    "R=[]\n",
    "for item in range(3,16):\n",
    "    \n",
    "    #building the ensemble#\n",
    "    model=KNeighborsClassifier()\n",
    "    n_neighbors=np.arange(5,20,1)\n",
    "    param_grid=dict(n_neighbors=n_neighbors)\n",
    "    grid=GridSearchCV(estimator=model,param_grid=param_grid,cv=item,iid=True)\n",
    "    grid.fit(X, Y)\n",
    "\n",
    "    kn=KNeighborsClassifier(n_neighbors=grid.best_estimator_.n_neighbors);gb=GaussianNB()\n",
    "    dt=DecisionTreeClassifier(criterion='entropy');sv=SVC(gamma='auto')\n",
    "    ab=AdaBoostClassifier(n_estimators=100,random_state=7)\n",
    "    gb=GradientBoostingClassifier(n_estimators=100,random_state=7)\n",
    "    mlp=MLPClassifier(activation='relu', hidden_layer_sizes=(3,1), random_state=1, solver='lbfgs')\n",
    "\n",
    "    estimators=[]\n",
    "    estimators.extend([('kn',kn),('naive',gb),('dt',dt),('sv',sv),('ab',ab),('gb',gb),('mlp',mlp)])\n",
    "    ensemble=VotingClassifier(estimators)\n",
    "    #/building the ensemble#\n",
    "    \n",
    "    #output of results#\n",
    "    cv_scores=list(cross_val_score(ensemble,X,Y,cv=item))\n",
    "    cv_scores=[round(100*x) for x in cv_scores]\n",
    "    cv_num.append(item)#split number\n",
    "    score_cv.append(mean(cv_scores)) #score\n",
    "    R.append(max(cv_scores)-min(cv_scores))#R\n",
    "    S.append(stdev(cv_scores)) #S\n",
    "    print('Number of cv: '+str(item)+' Average score: '+str(round(mean(cv_scores)))+'%')\n",
    "    #/output of results#"
   ]
  },
  {
   "cell_type": "markdown",
   "metadata": {},
   "source": [
    "Quite stable. Let's do RS analysis to look whether cv test is scale-invariant."
   ]
  },
  {
   "cell_type": "code",
   "execution_count": 218,
   "metadata": {},
   "outputs": [
    {
     "name": "stdout",
     "output_type": "stream",
     "text": [
      "Hurst factor: 0.29\n",
      "R2: 0.91\n"
     ]
    },
    {
     "data": {
      "image/png": "[encoded data removed]",
      "text/plain": [
       "<Figure size 432x288 with 1 Axes>"
      ]
     },
     "metadata": {
      "needs_background": "light"
     },
     "output_type": "display_data"
    }
   ],
   "source": [
    "log_N=[log(x) for x in cv_num][1:]\n",
    "log_RS=[log(x/y) for x,y in zip(R,S)][1:]\n",
    "\n",
    "b,m=polyfit(log_N,log_RS,1)\n",
    "print('Hurst factor:',round(100*m)/100)\n",
    "R2=round((np.corrcoef(log_N,log_RS)[0,1])**2,2)\n",
    "print('R2:',R2)\n",
    "\n",
    "plt.scatter(log_N,log_RS)\n",
    "plt.plot(np.unique(log_N),np.poly1d(np.polyfit(log_N,log_RS,1))(np.unique(log_N)),'r')\n",
    "plt.xlabel('Number of intervals (log)')\n",
    "plt.ylabel('R/S of score (log)')\n",
    "plt.show()"
   ]
  },
  {
   "cell_type": "markdown",
   "metadata": {},
   "source": [
    "H<0.5 shows scale invariance. Let's move to regression models. I include regression with regularisation into the stacking ensemble of models. First I define the new dataframe. The sessions feature only is used."
   ]
  },
  {
   "cell_type": "code",
   "execution_count": 219,
   "metadata": {},
   "outputs": [
    {
     "name": "stdout",
     "output_type": "stream",
     "text": [
      "R2 for Ridge cross validation:52.0%\n",
      "Deviation of validation score:6.0%\n"
     ]
    }
   ],
   "source": [
    "split_num=5\n",
    "\n",
    "df_reg=df.copy();df_reg['Offers_REG']=df_reg['OFFERS'];del df_reg['OFFERS']\n",
    "del df_reg['BR'];del df_reg['Depth'];del df_reg['Time'];del df_reg['Conversion']\n",
    "del df_reg['Views'];del df_reg['Viewers']\n",
    "array=df_reg.values\n",
    "X=array[:,0:1];Y=array[:,1]\n",
    "\n",
    "mod=Ridge();alphas=np.arange(0,1,0.02)\n",
    "param_grid=dict(alpha=alphas)\n",
    "grid=GridSearchCV(estimator=mod,param_grid=param_grid,cv=split_num)\n",
    "grid.fit(X, Y)\n",
    "rdg=Ridge(alpha=grid.best_estimator_.alpha)\n",
    "\n",
    "mod=KNeighborsRegressor()\n",
    "n_neighbors=np.arange(5,20,1)\n",
    "param_grid=dict(n_neighbors=n_neighbors)\n",
    "grid=GridSearchCV(estimator=mod,param_grid=param_grid,cv=split_num,iid=True)\n",
    "grid.fit(X, Y)\n",
    "knn=KNeighborsRegressor(n_neighbors=grid.best_estimator_.n_neighbors)\n",
    "\n",
    "model=StackingRegressor(regressors=[rdg,knn], meta_regressor=rdg)\n",
    "results=cross_val_score(model, X, Y, cv=split_num, scoring='r2')\n",
    "\n",
    "print('R2 for Ridge cross validation:'+str(round(100*results.mean()))+'%')\n",
    "print('Deviation of validation score:'+str(round(100*results.std()))+'%')\n",
    "\n",
    "scores=[]\n",
    "scores_dev=[]\n",
    "scales=[]\n",
    "S=[]\n",
    "R=[]\n",
    "for item in range(3,40):\n",
    "    cv_scores=list(cross_val_score(model, X, Y,cv=item))\n",
    "    cv_scores=[round(100*x) for x in cv_scores]\n",
    "    scores.append(mean(cv_scores))\n",
    "    scores_dev.append(stdev(cv_scores))\n",
    "    R.append(max(cv_scores)-min(cv_scores))\n",
    "    S.append(stdev(cv_scores))\n",
    "    scales.append(item)"
   ]
  },
  {
   "cell_type": "markdown",
   "metadata": {},
   "source": [
    "It's not the best result. Let's look at the stability in the relation to cv number of intervals. We can see that regression model is scale invariant as Hurst<0.5."
   ]
  },
  {
   "cell_type": "code",
   "execution_count": 220,
   "metadata": {},
   "outputs": [
    {
     "name": "stdout",
     "output_type": "stream",
     "text": [
      "Hurst factor: 0.33\n",
      "R2: 0.87\n"
     ]
    },
    {
     "data": {
      "image/png": "[encoded data removed]",
      "text/plain": [
       "<Figure size 432x288 with 1 Axes>"
      ]
     },
     "metadata": {
      "needs_background": "light"
     },
     "output_type": "display_data"
    }
   ],
   "source": [
    "X=[log(x) for x in scales][1:]#Log(N)\n",
    "Y=[(x/y) for x,y in zip(R,S)][1:]#(RS)\n",
    "Y=[log(x) for x in Y]#log(RS)\n",
    "\n",
    "b,m=polyfit(X,Y,1)\n",
    "print('Hurst factor:',round(100*m)/100)\n",
    "R2=round((np.corrcoef(X,Y)[0,1])**2,2)\n",
    "print('R2:',R2)\n",
    "plt.scatter(X,Y)\n",
    "plt.plot(np.unique(X),np.poly1d(np.polyfit(X,Y,1))(np.unique(X)),'r')\n",
    "plt.xlabel('Number of intervals (log)')\n",
    "plt.ylabel('R/S of score (log)')\n",
    "plt.show()"
   ]
  },
  {
   "cell_type": "markdown",
   "metadata": {},
   "source": [
    "So, finally, traffic is a most powerful KPI. PO may focus on traffic attraction more than CRO. Let's insert moving averages with window of Q1 for sessions,BR and offers to verify the result.   "
   ]
  },
  {
   "cell_type": "code",
   "execution_count": 221,
   "metadata": {},
   "outputs": [
    {
     "name": "stdout",
     "output_type": "stream",
     "text": [
      "     Visits   Viewers     Views        BR     Depth      Time  Conversion  \\\n",
      "0  0.054348  0.051136  0.027961  0.233766  0.054189  0.022267    0.000000   \n",
      "1  0.288043  0.267045  0.199013  0.333333  0.095207  0.209282    0.395062   \n",
      "2  0.304348  0.261364  0.384868  0.225564  0.233987  0.346259    0.561404   \n",
      "3  0.293478  0.267045  0.203947  0.467532  0.096185  0.142217    0.145455   \n",
      "4  0.222826  0.232955  0.115132  0.459184  0.053221  0.084290    0.063492   \n",
      "\n",
      "     OFFERS  \n",
      "0  0.038462  \n",
      "1  0.000000  \n",
      "2  0.230769  \n",
      "3  0.346154  \n",
      "4  0.115385  \n"
     ]
    }
   ],
   "source": [
    "print(df.head())"
   ]
  },
  {
   "cell_type": "markdown",
   "metadata": {},
   "source": [
    "Let's look at the moving averages with 2W window."
   ]
  },
  {
   "cell_type": "code",
   "execution_count": 222,
   "metadata": {},
   "outputs": [
    {
     "name": "stdout",
     "output_type": "stream",
     "text": [
      "                 Sessions    Offers  Bounce rate  Conversion rate       Gap\n",
      "Sessions         1.000000  0.663826     0.004595        -0.624316  0.910191\n",
      "Offers           0.663826  1.000000    -0.159968        -0.242751  0.294442\n",
      "Bounce rate      0.004595 -0.159968     1.000000        -0.088902  0.094464\n",
      "Conversion rate -0.624316 -0.242751    -0.088902         1.000000 -0.663328\n",
      "Gap              0.910191  0.294442     0.094464        -0.663328  1.000000\n"
     ]
    }
   ],
   "source": [
    "Sessions=list(df['Visits'])\n",
    "Offers=list(df['OFFERS'])\n",
    "BR=list(df['BR'])\n",
    "CR=list(df['Conversion'])\n",
    "\n",
    "ma_window=40\n",
    "\n",
    "x=range(len(Sessions))\n",
    "y_av_ses=list(movingaverage(Sessions,ma_window))\n",
    "y_av_offers=list(movingaverage(Offers,ma_window))\n",
    "y_av_br=list(movingaverage(BR,ma_window))\n",
    "y_av_cr=list(movingaverage(CR,ma_window))\n",
    "y_av_kpi=[(x-y) for x,y in zip(y_av_ses,y_av_offers)]\n",
    "\n",
    "df_ma={'Sessions':y_av_ses,'Offers':y_av_offers,'Bounce rate':y_av_br,'Conversion rate':y_av_cr,'Gap':y_av_kpi}\n",
    "df_ma=pd.DataFrame(df_ma)\n",
    "print(df_ma.corr())"
   ]
  },
  {
   "cell_type": "code",
   "execution_count": 223,
   "metadata": {
    "scrolled": true
   },
   "outputs": [
    {
     "data": {
      "text/plain": [
       "<Figure size 432x288 with 0 Axes>"
      ]
     },
     "execution_count": 223,
     "metadata": {},
     "output_type": "execute_result"
    },
    {
     "data": {
      "image/png": "[encoded data removed]",
      "text/plain": [
       "<Figure size 432x288 with 1 Axes>"
      ]
     },
     "metadata": {
      "needs_background": "light"
     },
     "output_type": "display_data"
    },
    {
     "data": {
      "text/plain": [
       "<Figure size 432x288 with 0 Axes>"
      ]
     },
     "metadata": {},
     "output_type": "display_data"
    }
   ],
   "source": [
    "plt.plot(x, y_av_ses,'b')\n",
    "plt.plot(x, y_av_offers,'r')\n",
    "plt.title('Sessions/Offers vice number of days')\n",
    "plt.xlabel('Number of days, lag=Q')\n",
    "plt.xlim(right=1010,left=50)\n",
    "plt.gca().legend(('Sessions','Offers'))\n",
    "plt.figure()"
   ]
  },
  {
   "cell_type": "code",
   "execution_count": 224,
   "metadata": {},
   "outputs": [
    {
     "data": {
      "text/plain": [
       "<Figure size 432x288 with 0 Axes>"
      ]
     },
     "execution_count": 224,
     "metadata": {},
     "output_type": "execute_result"
    },
    {
     "data": {
      "image/png": "[encoded data removed]",
      "text/plain": [
       "<Figure size 432x288 with 1 Axes>"
      ]
     },
     "metadata": {
      "needs_background": "light"
     },
     "output_type": "display_data"
    },
    {
     "data": {
      "text/plain": [
       "<Figure size 432x288 with 0 Axes>"
      ]
     },
     "metadata": {},
     "output_type": "display_data"
    }
   ],
   "source": [
    "plt.plot(x, y_av_ses,'b')\n",
    "plt.plot(x, y_av_kpi,'r')\n",
    "plt.title('Sessions/Gap vice number of days')\n",
    "plt.xlabel('Number of days, lag=Q')\n",
    "plt.xlim(right=1010,left=50)\n",
    "plt.gca().legend(('Sessions','Gap'))\n",
    "plt.figure()"
   ]
  },
  {
   "cell_type": "markdown",
   "metadata": {},
   "source": [
    "These charts give a visual interpretation of traffic KPI importance. However the gap between Offers and Sessions is growing - almost 90% of correlation with traffic. It gives and idea that traffic 'quantity' increase is reached by its quality."
   ]
  }
 ],
 "metadata": {
  "kernelspec": {
   "display_name": "Python 3",
   "language": "python",
   "name": "python3"
  },
  "language_info": {
   "codemirror_mode": {
    "name": "ipython",
    "version": 3
   },
   "file_extension": ".py",
   "mimetype": "text/x-python",
   "name": "python",
   "nbconvert_exporter": "python",
   "pygments_lexer": "ipython3",
   "version": "3.7.0"
  }
 },
 "nbformat": 4,
 "nbformat_minor": 2
}
