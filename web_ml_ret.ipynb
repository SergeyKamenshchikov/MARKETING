{
 "cells": [
  {
   "cell_type": "markdown",
   "metadata": {},
   "source": [
    "First. Product Owner have to choose between two KPIs (group of metrics) of his product and invest in one of possible strategies. Ads or CRO, attraction or retention, etc. Second. PO tries to make KPI as simple as possible. Here I use ML scores of prediction as a measure of KPI selection and simplification. I look at two groups of metrics which help to predict sales opportunities. ML scoring may be a solution when nonlinearity exists (conversion-traffic have mutual relationship) or ditribution of nonsystematic mystakes is far from normal distribution. In these cases correlations, Granger tests, PCA give poor results. Supervised nonlinear ML models sometimes give insight.\n",
    "\n",
    "Standard statistical measures can be enforced by nonlinear ML models. Ensemble voting, binning of target and dimension reduction are involved. I explore two groups of metrics. First (I) corresponds to conversion - bounce rate, depth of views, micro conversion. Second (II) corresponds to traffic: number of sessions, new visitors, views. The target function is a number of commercial offers per day converted into the sale. Input features correspond to the >New Visitors segment from organic search< "
   ]
  },
  {
   "cell_type": "code",
   "execution_count": 1,
   "metadata": {},
   "outputs": [],
   "source": [
    "import numpy as np \n",
    "import pandas as pd \n",
    "from pandas import set_option\n",
    "import matplotlib.pyplot as plt \n",
    "from pylab import plot, ylim, xlim, show, xlabel, ylabel, grid \n",
    "from numpy import linspace, loadtxt, ones, convolve\n",
    "from statistics import median \n",
    "from statistics import mean \n",
    "from statistics import stdev \n",
    "from math import log\n",
    "from numpy.polynomial.polynomial import polyfit\n",
    "from sklearn.model_selection import cross_val_score \n",
    "from sklearn.model_selection import GridSearchCV \n",
    "from sklearn.model_selection import KFold \n",
    "from sklearn.decomposition import PCA\n",
    "from sklearn.linear_model import Ridge\n",
    "from sklearn.linear_model import LogisticRegression\n",
    "from sklearn.tree import DecisionTreeClassifier\n",
    "from sklearn.svm import SVC\n",
    "from sklearn.naive_bayes import GaussianNB\n",
    "from sklearn.neighbors import KNeighborsClassifier\n",
    "from sklearn.ensemble import VotingClassifier\n",
    "from sklearn.ensemble import AdaBoostClassifier\n",
    "from sklearn.ensemble import ExtraTreesClassifier\n",
    "from sklearn.neural_network import MLPClassifier\n",
    "from sklearn.ensemble import GradientBoostingClassifier\n",
    "import statsmodels.api as sm\n",
    "from sklearn.model_selection import train_test_split\n",
    "from operator import add\n",
    "import seaborn as sns\n",
    "from sklearn.tree import DecisionTreeRegressor\n",
    "from sklearn.neighbors import KNeighborsRegressor\n",
    "from sklearn.ensemble import GradientBoostingRegressor\n",
    "from sklearn.ensemble import RandomForestRegressor\n",
    "from mlxtend.regressor import StackingRegressor\n",
    "from sklearn.linear_model import LinearRegression"
   ]
  },
  {
   "cell_type": "markdown",
   "metadata": {},
   "source": [
    "Define custom functions:"
   ]
  },
  {
   "cell_type": "code",
   "execution_count": 2,
   "metadata": {},
   "outputs": [],
   "source": [
    "def standart(x):#normalize to (0,1) interval\n",
    "    max_value=x.max();\n",
    "    min_value=x.min()\n",
    "    z=(x-min_value)/(max_value - min_value)\n",
    "    return z\n",
    "\n",
    "def cormap(x):#correlation map\n",
    "  corr=x.corr();fig=plt.figure(figsize=(10, 7))\n",
    "  g=sns.heatmap(corr,annot=True,linewidths=.2, cbar_kws={\"orientation\": \"horizontal\"})\n",
    "  plt.show()\n",
    "    \n",
    "def get_class(x):\n",
    "    class_type=[]\n",
    "    for item in list(x):\n",
    "        if 0<=item<0.2:   class_type.append(0) #1 class  \n",
    "        if 0.2<=item<0.4: class_type.append(1) #2 class\n",
    "        if 0.4<=item<0.6:  class_type.append(2) #3 class\n",
    "        if 0.6<=item<0.8:  class_type.append(3) #4 class\n",
    "        if 0.8<=item<=1:  class_type.append(4) #5 class     \n",
    "    return class_type"
   ]
  },
  {
   "cell_type": "markdown",
   "metadata": {},
   "source": [
    "Read data from three files with crm and web data, parsed by webparse script from web analytics platform API.   "
   ]
  },
  {
   "cell_type": "code",
   "execution_count": 3,
   "metadata": {},
   "outputs": [],
   "source": [
    "df_all=pd.read_excel('DATA_RET/TRAFFIC.xlsx') #general web metrics\n",
    "df_goal=pd.read_excel('DATA_RET/WEB_CR.xlsx') #web conversion rate\n",
    "df_crm=pd.read_excel('DATA_RET/OFF_CR.xlsx') #commercial offers\n",
    "\n",
    "df=df_all.merge(df_goal,how='left',left_on='Date',right_on='Date')#inner join of general web metrics and conversion metrics\n",
    "\n",
    "del df['Viewers_y'];del df['Views_y'];del df['BR_y'];del df['Depth_y'];del df['Time_y'];df=df.fillna(0)\n",
    "df['CR,%']=100*df['Visits_y']/df['Visits_x'];del df['Visits_y'] #calculate conversion rate\n",
    "df=df.merge(df_crm,how='left',left_on='Date',right_on='Date') #inner join with crm data - offers per day and date\n",
    "df['Offers']=df['Offers'].fillna(0);# rename the column"
   ]
  },
  {
   "cell_type": "markdown",
   "metadata": {},
   "source": [
    "Rename columns."
   ]
  },
  {
   "cell_type": "code",
   "execution_count": 4,
   "metadata": {},
   "outputs": [
    {
     "name": "stdout",
     "output_type": "stream",
     "text": [
      "        Date  Visits  Viewers  Views   BR  Depth     CR  OFFERS_CR\n",
      "0 2015-05-05       1        1      3  0.0    3.0  100.0        2.0\n",
      "1 2015-05-07       1        1      2  0.0    2.0    0.0        0.0\n",
      "2 2015-05-08       2        2     14  0.0    7.0   50.0        1.0\n",
      "3 2015-05-12       1        1      7  0.0    7.0  100.0        1.0\n",
      "4 2015-05-15       1        1      1  0.0    1.0    0.0        1.0\n"
     ]
    }
   ],
   "source": [
    "df['Visits']=df['Visits_x'];df['Viewers']=df['Viewers_x']\n",
    "df['Views']=df['Views_x'];del df['Visits_x'];del df['Viewers_x'];del df['Views_x'];del df['Time_x']\n",
    "\n",
    "df['BR']=df['BR_x'];df['Depth']=df['Depth_x'];\n",
    "df['CR']=df['CR,%'];del df['BR_x'];del df['Depth_x'];del df['CR,%']\n",
    "\n",
    "df['OFFERS_CR']=df['Offers'];del df['Offers']\n",
    "df=df.dropna()\n",
    "print(df.head())"
   ]
  },
  {
   "cell_type": "markdown",
   "metadata": {},
   "source": []
  },
  {
   "cell_type": "code",
   "execution_count": 5,
   "metadata": {},
   "outputs": [
    {
     "name": "stdout",
     "output_type": "stream",
     "text": [
      "All fields: ['Date', 'Visits', 'Viewers', 'Views', 'BR', 'Depth', 'CR', 'OFFERS_CR']\n",
      "\n",
      "Data Start: 2015-05-05 00:00:00\n",
      "Data End: 2019-06-22 00:00:00\n",
      "Number of records: 1321\n"
     ]
    }
   ],
   "source": [
    "column_names=list(df.columns.values)\n",
    "print('All fields:',column_names)\n",
    "print('\\nData Start:',list(df['Date'])[0])\n",
    "print('Data End:',list(df['Date'])[-1])\n",
    "print('Number of records:', len(df))"
   ]
  },
  {
   "cell_type": "markdown",
   "metadata": {},
   "source": [
    "Convert features to the (0,1) interval except date:"
   ]
  },
  {
   "cell_type": "code",
   "execution_count": 6,
   "metadata": {},
   "outputs": [],
   "source": [
    "date_list=list(df['Date'])\n",
    "del df['Date']  \n",
    "\n",
    "for item in df.columns.values: \n",
    "    df[item]=standart(df[item])         "
   ]
  },
  {
   "cell_type": "markdown",
   "metadata": {},
   "source": [
    "Make correlation map and scatter map"
   ]
  },
  {
   "cell_type": "code",
   "execution_count": 7,
   "metadata": {},
   "outputs": [
    {
     "data": {
      "image/png": "[encoded data removed]",
      "text/plain": [
       "<Figure size 720x504 with 2 Axes>"
      ]
     },
     "metadata": {
      "needs_background": "light"
     },
     "output_type": "display_data"
    }
   ],
   "source": [
    "cormap(df)"
   ]
  },
  {
   "cell_type": "markdown",
   "metadata": {},
   "source": [
    "Correlations of OFFERS, converted into the sale, are non significant by absolute value. However we may notice that Depth and CR; Visits/Viwers/Views are highly correlated. It may be used for the dimension reduction. Let's look at the basic statistical properties of 'OFFERS_CR' data. "
   ]
  },
  {
   "cell_type": "code",
   "execution_count": 8,
   "metadata": {},
   "outputs": [
    {
     "name": "stdout",
     "output_type": "stream",
     "text": [
      "Common description:\n",
      "\n",
      "count    1321.000000\n",
      "mean        0.103169\n",
      "std         0.171169\n",
      "min         0.000000\n",
      "25%         0.000000\n",
      "50%         0.000000\n",
      "75%         0.142857\n",
      "max         1.000000\n",
      "Name: OFFERS_CR, dtype: float64\n",
      "\n",
      "Percentile of 80%: 0.29\n"
     ]
    }
   ],
   "source": [
    "description=df['OFFERS_CR'].describe()\n",
    "print('Common description:\\n')\n",
    "print(description)\n",
    "print('\\nPercentile of 80%:',round(df['OFFERS_CR'].quantile(0.9),2))"
   ]
  },
  {
   "cell_type": "markdown",
   "metadata": {},
   "source": [
    "PMF is skewed. However we still may try to split (0,1) interval into 5 equal classes - naive binning. "
   ]
  },
  {
   "cell_type": "code",
   "execution_count": 9,
   "metadata": {},
   "outputs": [],
   "source": [
    "df_binary=df.copy()\n",
    "df_binary['Offers_BIN']=get_class(df_binary['OFFERS_CR'])\n",
    "del df_binary['OFFERS_CR']"
   ]
  },
  {
   "cell_type": "markdown",
   "metadata": {},
   "source": [
    "If classiicator works well we may predict in what range the target lays. Let's split features and target. Let's make an estimation of feature importance based on tree classifier. "
   ]
  },
  {
   "cell_type": "code",
   "execution_count": 10,
   "metadata": {},
   "outputs": [
    {
     "name": "stdout",
     "output_type": "stream",
     "text": [
      "\n",
      "Input of components - Tree:\n",
      "Visits:45.0%\n",
      "Viewers:60.0%\n",
      "Views:99.0%\n",
      "BR:62.0%\n",
      "Depth:100.0%\n",
      "CR:64.0%\n"
     ]
    }
   ],
   "source": [
    "model=ExtraTreesClassifier(n_estimators=1000)\n",
    "tree_features=['Visits','Viewers','Views','BR','Depth','CR','OFFERS_CR']\n",
    "\n",
    "array=df_binary.values\n",
    "X=array[:,0:6];Y=array[:,6]\n",
    "model.fit(X,Y)\n",
    "imp=list(model.feature_importances_)\n",
    "imp=[round(x*100/max(imp)) for x in imp]\n",
    "\n",
    "print('\\nInput of components - Tree:')  \n",
    "for x,y in zip(tree_features,imp): \n",
    "    print(str(x)+':'+str(y)+'%')"
   ]
  },
  {
   "cell_type": "markdown",
   "metadata": {},
   "source": [
    "According to the TreeEstimator Depth/Views/CR have the highest influence. Conversion group of metrics has the higher weight. Now we can move forward to the ensemble of simple classifiers/predictors. First try with all features. We use ensemble of 6 voting estimators. "
   ]
  },
  {
   "cell_type": "code",
   "execution_count": 11,
   "metadata": {},
   "outputs": [
    {
     "name": "stdout",
     "output_type": "stream",
     "text": [
      "Accuracy of out-of-sample 50/50 test=80.0%\n",
      "Average score:79.6%\n",
      "Deviation of score:0.4%\n"
     ]
    }
   ],
   "source": [
    "split_num=5 #number of splits for cross validation\n",
    "\n",
    "#define split test#\n",
    "X_train,X_test,Y_train,Y_test=train_test_split(X,Y,test_size=0.5)\n",
    "#/define split test#\n",
    "\n",
    "#building the ensemble#\n",
    "model=KNeighborsClassifier()\n",
    "n_neighbors=np.arange(5,20,1)\n",
    "param_grid=dict(n_neighbors=n_neighbors)\n",
    "grid=GridSearchCV(estimator=model,param_grid=param_grid,cv=split_num,iid=True)\n",
    "grid.fit(X, Y)\n",
    "\n",
    "kn=KNeighborsClassifier(n_neighbors=grid.best_estimator_.n_neighbors);gb=GaussianNB()\n",
    "dt=DecisionTreeClassifier(criterion='entropy');sv=SVC(gamma='auto')\n",
    "ab=AdaBoostClassifier(n_estimators=100,random_state=7)\n",
    "gb=GradientBoostingClassifier(n_estimators=100,random_state=7)\n",
    "mlp=MLPClassifier(activation='relu', hidden_layer_sizes=(3,1), random_state=1, solver='lbfgs')\n",
    "\n",
    "estimators=[]\n",
    "estimators.extend([('kn',kn),('naive',gb),('dt',dt),('sv',sv),('ab',ab),('gb',gb),('mlp',mlp)])\n",
    "ensemble=VotingClassifier(estimators)\n",
    "#/building the ensemble#\n",
    "   \n",
    "#output of results#\n",
    "results=cross_val_score(ensemble,X,Y,cv=split_num)\n",
    "ensemble.fit(X_train,Y_train);score=ensemble.score(X_test,Y_test)\n",
    "print('Accuracy of out-of-sample 50/50 test='+str(round(100*score))+'%')\n",
    "print('Average score:'+str(round(100*mean(results),1))+str('%'))\n",
    "print('Deviation of score:'+str(round(100*stdev(results),1))+str('%'))\n",
    "#/output of results#"
   ]
  },
  {
   "cell_type": "markdown",
   "metadata": {},
   "source": [
    "Great. Now remove all features except traffic metrics from the initial set."
   ]
  },
  {
   "cell_type": "code",
   "execution_count": 12,
   "metadata": {},
   "outputs": [
    {
     "name": "stdout",
     "output_type": "stream",
     "text": [
      "Accuracy of out-of-sample 50/50 test=82.0%\n",
      "Average score:79.0%\n",
      "Deviation of score:0.6%\n"
     ]
    }
   ],
   "source": [
    "df_binary=df.copy()\n",
    "df_binary['Offers_BIN']=get_class(df_binary['OFFERS_CR'])\n",
    "del df_binary['OFFERS_CR']\n",
    "\n",
    "#define dataframe#\n",
    "del df_binary['Depth']\n",
    "del df_binary['CR']\n",
    "del df_binary['BR']\n",
    "#/define dataframe#\n",
    "\n",
    "#define array#\n",
    "array=df_binary.values\n",
    "X=array[:,0:3];Y=array[:,3]\n",
    "#/define array#\n",
    "\n",
    "#define split test#\n",
    "X_train,X_test,Y_train,Y_test=train_test_split(X,Y,test_size=0.5)\n",
    "#/define split test#\n",
    "   \n",
    "#output of results#\n",
    "results=cross_val_score(ensemble,X,Y,cv=split_num)\n",
    "results=cross_val_score(ensemble,X,Y,cv=split_num)\n",
    "ensemble.fit(X_train,Y_train);score=ensemble.score(X_test,Y_test)\n",
    "print('Accuracy of out-of-sample 50/50 test='+str(round(100*score))+'%')\n",
    "print('Average score:'+str(round(100*mean(results)))+str('%'))\n",
    "print('Deviation of score:'+str(round(100*stdev(results),1))+str('%'))\n",
    "#/output of results#"
   ]
  },
  {
   "cell_type": "markdown",
   "metadata": {},
   "source": [
    "OK. The result is slightly better, but comparable. Now remove all features except conversion metrics from the initial set."
   ]
  },
  {
   "cell_type": "code",
   "execution_count": 13,
   "metadata": {},
   "outputs": [
    {
     "name": "stdout",
     "output_type": "stream",
     "text": [
      "Accuracy of out-of-sample 50/50 test=79.0%\n",
      "Average score:80.0%\n",
      "Deviation of score:0.4%\n"
     ]
    }
   ],
   "source": [
    "df_binary=df.copy()\n",
    "df_binary['Offers_BIN']=get_class(df_binary['OFFERS_CR'])\n",
    "del df_binary['OFFERS_CR']\n",
    "\n",
    "#define dataframe#\n",
    "del df_binary['Visits']\n",
    "del df_binary['Views']\n",
    "del df_binary['Viewers']\n",
    "#/define dataframe#\n",
    "\n",
    "#define array#\n",
    "array=df_binary.values\n",
    "X=array[:,0:3];Y=array[:,3]\n",
    "#/define array#\n",
    "\n",
    "#define split test#\n",
    "X_train,X_test,Y_train,Y_test=train_test_split(X,Y,test_size=0.5)\n",
    "#/define split test#\n",
    "   \n",
    "#output of results#\n",
    "results=cross_val_score(ensemble,X,Y,cv=split_num)\n",
    "results=cross_val_score(ensemble,X,Y,cv=split_num)\n",
    "ensemble.fit(X_train,Y_train);score=ensemble.score(X_test,Y_test)\n",
    "print('Accuracy of out-of-sample 50/50 test='+str(round(100*score))+'%')\n",
    "print('Average score:'+str(round(100*mean(results)))+str('%'))\n",
    "print('Deviation of score:'+str(round(100*stdev(results),1))+str('%'))\n",
    "#/output of results#"
   ]
  },
  {
   "cell_type": "markdown",
   "metadata": {},
   "source": [
    "The results of all three experiments are comparable. Actually sets are not completely seperated, because depth is the function of number of views. We may notice that Visits are highly correlated with Viewers and Views. So we may transorm initial traffic set to (Views) - look at the results of ExtraTree. "
   ]
  },
  {
   "cell_type": "code",
   "execution_count": 14,
   "metadata": {},
   "outputs": [
    {
     "name": "stdout",
     "output_type": "stream",
     "text": [
      "Accuracy of out-of-sample 50/50 test=81.0%\n",
      "Average score:80.0%\n",
      "Deviation of score:0.5%\n"
     ]
    }
   ],
   "source": [
    "df_binary=df.copy()\n",
    "df_binary['Offers_BIN']=get_class(df_binary['OFFERS_CR'])\n",
    "del df_binary['OFFERS_CR']\n",
    "\n",
    "#define dataframe#\n",
    "del df_binary['Visits']\n",
    "del df_binary['Viewers']\n",
    "del df_binary['Depth']\n",
    "del df_binary['CR']\n",
    "del df_binary['BR']\n",
    "#/define dataframe#\n",
    "\n",
    "#define array#\n",
    "array=df_binary.values\n",
    "X=array[:,0:1];Y=array[:,1]\n",
    "#/define array#\n",
    "\n",
    "#define split test#\n",
    "X_train,X_test,Y_train,Y_test=train_test_split(X,Y,test_size=0.5)\n",
    "#/define split test#\n",
    "   \n",
    "#output of results#\n",
    "results=cross_val_score(ensemble,X,Y,cv=split_num)\n",
    "results=cross_val_score(ensemble,X,Y,cv=split_num)\n",
    "ensemble.fit(X_train,Y_train);score=ensemble.score(X_test,Y_test)\n",
    "print('Accuracy of out-of-sample 50/50 test='+str(round(100*score))+'%')\n",
    "print('Average score:'+str(round(100*mean(results)))+str('%'))\n",
    "print('Deviation of score:'+str(round(100*stdev(results),1))+str('%'))\n",
    "#/output of results#"
   ]
  },
  {
   "cell_type": "markdown",
   "metadata": {},
   "source": [
    "We will leave only micro web conversion from the second group."
   ]
  },
  {
   "cell_type": "code",
   "execution_count": 55,
   "metadata": {},
   "outputs": [
    {
     "name": "stdout",
     "output_type": "stream",
     "text": [
      "Accuracy of out-of-sample 80/20 test=82.0%\n",
      "Average score:81.0%\n",
      "Deviation of score:0.4%\n"
     ]
    }
   ],
   "source": [
    "df_binary=df.copy()\n",
    "df_binary['Offers_BIN']=get_class(df_binary['OFFERS_CR'])\n",
    "del df_binary['OFFERS_CR']\n",
    "\n",
    "#define dataframe#\n",
    "del df_binary['Visits']\n",
    "del df_binary['Views']\n",
    "del df_binary['Viewers']\n",
    "del df_binary['BR']\n",
    "del df_binary['Depth']\n",
    "#/define dataframe#\n",
    "\n",
    "#define array#\n",
    "array=df_binary.values\n",
    "X=array[:,0:1];Y=array[:,1]\n",
    "#/define array#\n",
    "\n",
    "#define split test#\n",
    "X_train,X_test,Y_train,Y_test=train_test_split(X,Y,test_size=0.5)\n",
    "#/define split test#\n",
    "   \n",
    "#output of results#\n",
    "results=cross_val_score(ensemble,X,Y,cv=split_num)\n",
    "results=cross_val_score(ensemble,X,Y,cv=split_num)\n",
    "ensemble.fit(X_train,Y_train);score=ensemble.score(X_test,Y_test)\n",
    "print('Accuracy of out-of-sample 50/50 test='+str(round(100*score))+'%')\n",
    "print('Average score:'+str(round(100*mean(results)))+str('%'))\n",
    "print('Deviation of score:'+str(round(100*stdev(results),1))+str('%'))\n",
    "#/output of results#"
   ]
  },
  {
   "cell_type": "markdown",
   "metadata": {},
   "source": [
    "We may notice that ML classifier gives comparable results. Actually PO may invest in any of the strategies. If CRO is cheaper than the choice is obvious. Moreover ExtraTree estimator voted in favor of CRO. KPIs of Traffic and Conversion are simplified owing to this research: Views or CR. In such a way we go to 1D simplified case. This approach may be applied to any set of strategies which have nonlinear connections. "
   ]
  }
 ],
 "metadata": {
  "kernelspec": {
   "display_name": "Python 3",
   "language": "python",
   "name": "python3"
  },
  "language_info": {
   "codemirror_mode": {
    "name": "ipython",
    "version": 3
   },
   "file_extension": ".py",
   "mimetype": "text/x-python",
   "name": "python",
   "nbconvert_exporter": "python",
   "pygments_lexer": "ipython3",
   "version": "3.7.0"
  }
 },
 "nbformat": 4,
 "nbformat_minor": 2
}
