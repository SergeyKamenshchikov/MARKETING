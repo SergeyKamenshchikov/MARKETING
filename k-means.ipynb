{
 "cells": [
  {
   "cell_type": "markdown",
   "metadata": {},
   "source": [
    "Import libraries:"
   ]
  },
  {
   "cell_type": "code",
   "execution_count": 1,
   "metadata": {},
   "outputs": [],
   "source": [
    "import seaborn as sns\n",
    "import numpy as np\n",
    "import winsound\n",
    "import pandas as pd\n",
    "import matplotlib.pyplot as plt\n",
    "from sklearn.cluster import KMeans\n",
    "from collections import Counter\n",
    "\n",
    "from sklearn.preprocessing import Binarizer\n",
    "from sklearn.model_selection import KFold\n",
    "from sklearn.model_selection import cross_val_score\n",
    "from sklearn.ensemble import GradientBoostingClassifier\n",
    "import shap\n",
    "\n",
    "from sklearn.tree import DecisionTreeClassifier\n",
    "from sklearn.ensemble import RandomForestClassifier\n",
    "from sklearn.ensemble import VotingClassifier\n",
    "from sklearn.ensemble import BaggingClassifier\n",
    "from sklearn.linear_model import LogisticRegression\n",
    "\n",
    "from sklearn.neighbors import KNeighborsClassifier\n",
    "from sklearn.discriminant_analysis import LinearDiscriminantAnalysis\n",
    "from sklearn.ensemble import GradientBoostingClassifier\n",
    "from sklearn.naive_bayes import GaussianNB\n",
    "from sklearn.svm import SVC\n",
    "\n",
    "from sklearn.feature_selection import RFECV\n",
    "from sklearn.model_selection import train_test_split\n",
    "\n",
    "from sklearn.metrics import roc_auc_score\n",
    "from sklearn.metrics import f1_score\n",
    "from sklearn.metrics import precision_score\n",
    "from sklearn.metrics import recall_score\n",
    "from sklearn.metrics import average_precision_score\n",
    "\n",
    "from sklearn.model_selection import ShuffleSplit\n",
    "from sklearn.model_selection import learning_curve\n",
    "from sklearn.metrics import precision_recall_curve\n",
    "from sklearn.utils import shuffle"
   ]
  },
  {
   "cell_type": "markdown",
   "metadata": {},
   "source": [
    "CDFs: "
   ]
  },
  {
   "cell_type": "code",
   "execution_count": 2,
   "metadata": {},
   "outputs": [],
   "source": [
    "def ABS_SHAP(df_shap,df):\n",
    "    \n",
    "    shap_v = pd.DataFrame(df_shap)\n",
    "    feature_list = df.columns\n",
    "    shap_v.columns = feature_list\n",
    "    df_v = df.copy().reset_index().drop('index',axis=1)\n",
    "    \n",
    "    corr_list = list()\n",
    "    \n",
    "    for i in feature_list:\n",
    "        b = np.corrcoef(shap_v[i],df_v[i])[1][0]\n",
    "        corr_list.append(b)\n",
    "        \n",
    "    corr_df = pd.concat([pd.Series(feature_list),pd.Series(corr_list)],axis=1).fillna(0)\n",
    "    corr_df.columns  = ['Variable','Corr']\n",
    "    corr_df['Sign'] = np.where(corr_df['Corr']>0,'red','blue')\n",
    "    \n",
    "    shap_abs = np.abs(shap_v)\n",
    "    k=pd.DataFrame(shap_abs.mean()).reset_index()\n",
    "    k.columns = ['Variable','SHAP_abs']\n",
    "    \n",
    "    k2 = k.merge(corr_df,left_on = 'Variable',right_on='Variable',how='inner')\n",
    "    k2 = k2.sort_values(by='SHAP_abs',ascending = True)\n",
    "    \n",
    "    colorlist = k2['Sign']\n",
    "    ax = k2.plot.barh(x='Variable',y='SHAP_abs',color = colorlist, figsize=(8,6),legend=False)\n",
    "    ax.set_xlabel(\"SHAP Value (Red = Positive Impact)\")"
   ]
  },
  {
   "cell_type": "markdown",
   "metadata": {},
   "source": [
    "Remove warnings:"
   ]
  },
  {
   "cell_type": "code",
   "execution_count": 3,
   "metadata": {},
   "outputs": [],
   "source": [
    "import warnings\n",
    "warnings.filterwarnings('ignore')"
   ]
  },
  {
   "cell_type": "markdown",
   "metadata": {},
   "source": [
    "Parameters:"
   ]
  },
  {
   "cell_type": "code",
   "execution_count": 4,
   "metadata": {},
   "outputs": [],
   "source": [
    "clusters_num = 10\n",
    "estimators_num = 20"
   ]
  },
  {
   "cell_type": "markdown",
   "metadata": {},
   "source": [
    "Drop list:"
   ]
  },
  {
   "cell_type": "code",
   "execution_count": 5,
   "metadata": {},
   "outputs": [],
   "source": [
    "dl = ['is_active_flg', 'nps_rating', 'msisdn', 'mcat_business', 'cnt_tp_users', 'tp_group', 'visit_cis_dur_y', \n",
    "      'roam_region_cnt_y', 'visit_eur_dur_y', 'visit_ame_dur_y', 'visit_other_dur_y', 'region', 'sex', 'clc_all_cnt_q',\n",
    "      'in_sms_cnt_q', 'sales_channel', 'con_typ', 'pmnt_cnt_q', 'avg_pmnt_amount_q', 'viruchay_cnt_q']"
   ]
  },
  {
   "cell_type": "markdown",
   "metadata": {},
   "source": [
    "Import data:"
   ]
  },
  {
   "cell_type": "code",
   "execution_count": 8,
   "metadata": {
    "scrolled": true
   },
   "outputs": [
    {
     "data": {
      "text/html": [
       "<div>\n",
       "<style scoped>\n",
       "    .dataframe tbody tr th:only-of-type {\n",
       "        vertical-align: middle;\n",
       "    }\n",
       "\n",
       "    .dataframe tbody tr th {\n",
       "        vertical-align: top;\n",
       "    }\n",
       "\n",
       "    .dataframe thead th {\n",
       "        text-align: right;\n",
       "    }\n",
       "</style>\n",
       "<table border=\"1\" class=\"dataframe\">\n",
       "  <thead>\n",
       "    <tr style=\"text-align: right;\">\n",
       "      <th></th>\n",
       "      <th>active_days</th>\n",
       "      <th>all_call_dur_q</th>\n",
       "      <th>data_tot_mb_q</th>\n",
       "      <th>pmnt_amount_y</th>\n",
       "      <th>pmnt_cnt_y</th>\n",
       "      <th>all_call_cnt_q</th>\n",
       "      <th>cnt_block_q</th>\n",
       "      <th>dur_block_q</th>\n",
       "    </tr>\n",
       "  </thead>\n",
       "  <tbody>\n",
       "    <tr>\n",
       "      <td>0</td>\n",
       "      <td>5241</td>\n",
       "      <td>10414</td>\n",
       "      <td>0.0</td>\n",
       "      <td>300.0</td>\n",
       "      <td>3</td>\n",
       "      <td>94</td>\n",
       "      <td>0</td>\n",
       "      <td>0</td>\n",
       "    </tr>\n",
       "    <tr>\n",
       "      <td>1</td>\n",
       "      <td>5030</td>\n",
       "      <td>165703</td>\n",
       "      <td>14853.0</td>\n",
       "      <td>37700.0</td>\n",
       "      <td>16</td>\n",
       "      <td>1727</td>\n",
       "      <td>0</td>\n",
       "      <td>0</td>\n",
       "    </tr>\n",
       "    <tr>\n",
       "      <td>2</td>\n",
       "      <td>6579</td>\n",
       "      <td>74892</td>\n",
       "      <td>32745.0</td>\n",
       "      <td>11670.0</td>\n",
       "      <td>31</td>\n",
       "      <td>386</td>\n",
       "      <td>3</td>\n",
       "      <td>1614</td>\n",
       "    </tr>\n",
       "    <tr>\n",
       "      <td>3</td>\n",
       "      <td>4979</td>\n",
       "      <td>19515</td>\n",
       "      <td>0.0</td>\n",
       "      <td>850.0</td>\n",
       "      <td>3</td>\n",
       "      <td>124</td>\n",
       "      <td>0</td>\n",
       "      <td>0</td>\n",
       "    </tr>\n",
       "    <tr>\n",
       "      <td>4</td>\n",
       "      <td>1442</td>\n",
       "      <td>108686</td>\n",
       "      <td>85866.0</td>\n",
       "      <td>8273.0</td>\n",
       "      <td>44</td>\n",
       "      <td>1619</td>\n",
       "      <td>0</td>\n",
       "      <td>0</td>\n",
       "    </tr>\n",
       "  </tbody>\n",
       "</table>\n",
       "</div>"
      ],
      "text/plain": [
       "   active_days  all_call_dur_q  data_tot_mb_q  pmnt_amount_y  pmnt_cnt_y  \\\n",
       "0         5241           10414            0.0          300.0           3   \n",
       "1         5030          165703        14853.0        37700.0          16   \n",
       "2         6579           74892        32745.0        11670.0          31   \n",
       "3         4979           19515            0.0          850.0           3   \n",
       "4         1442          108686        85866.0         8273.0          44   \n",
       "\n",
       "   all_call_cnt_q  cnt_block_q  dur_block_q  \n",
       "0              94            0            0  \n",
       "1            1727            0            0  \n",
       "2             386            3         1614  \n",
       "3             124            0            0  \n",
       "4            1619            0            0  "
      ]
     },
     "execution_count": 8,
     "metadata": {},
     "output_type": "execute_result"
    }
   ],
   "source": [
    "df = pd.read_csv('data/critics_clients_join.csv') \n",
    "df = df[df['is_active_flg']==1]\n",
    "df['score'] = df['nps_rating']\n",
    "\n",
    "df.drop(dl, axis=1, inplace=True)\n",
    "df.dropna(inplace=True)\n",
    "df.iloc[:,:8].head()"
   ]
  },
  {
   "cell_type": "markdown",
   "metadata": {},
   "source": [
    "Features:"
   ]
  },
  {
   "cell_type": "code",
   "execution_count": 9,
   "metadata": {},
   "outputs": [
    {
     "name": "stdout",
     "output_type": "stream",
     "text": [
      "+ active_days\n",
      "+ all_call_dur_q\n",
      "+ data_tot_mb_q\n",
      "+ pmnt_amount_y\n",
      "+ pmnt_cnt_y\n",
      "+ all_call_cnt_q\n",
      "+ cnt_block_q\n",
      "+ dur_block_q\n",
      "+ age\n",
      "+ avg_balance_q\n",
      "+ score\n"
     ]
    }
   ],
   "source": [
    "for i in df.columns:\n",
    "    print('+',i)"
   ]
  },
  {
   "cell_type": "markdown",
   "metadata": {},
   "source": [
    "Encode categorial features:"
   ]
  },
  {
   "cell_type": "code",
   "execution_count": 11,
   "metadata": {},
   "outputs": [],
   "source": [
    "# cat_features = ['sex'] \n",
    "# df[cat_features] = df[cat_features].applymap(lambda x: hash(x) % 100)"
   ]
  },
  {
   "cell_type": "markdown",
   "metadata": {},
   "source": [
    "Number of columns/rows:"
   ]
  },
  {
   "cell_type": "code",
   "execution_count": 10,
   "metadata": {},
   "outputs": [
    {
     "name": "stdout",
     "output_type": "stream",
     "text": [
      "Number of records: 124214\n"
     ]
    }
   ],
   "source": [
    "print('Number of records:', len(df))"
   ]
  },
  {
   "cell_type": "markdown",
   "metadata": {},
   "source": [
    "#### NPS prediction"
   ]
  },
  {
   "cell_type": "markdown",
   "metadata": {},
   "source": [
    "Prepare data:"
   ]
  },
  {
   "cell_type": "code",
   "execution_count": 12,
   "metadata": {},
   "outputs": [],
   "source": [
    "array = df.values\n",
    "X = array[:,0:(len(df.columns)-1)]\n",
    "Y = array[:,(len(df.columns)-1)].reshape(-1, 1).astype(int)\n",
    "Y = Binarizer(threshold=np.median(df['score'])).fit(Y).transform(Y).ravel()\n",
    "Y = np.where(Y==1, 0, 1)"
   ]
  },
  {
   "cell_type": "markdown",
   "metadata": {},
   "source": [
    "Compare classes of algos:"
   ]
  },
  {
   "cell_type": "code",
   "execution_count": 13,
   "metadata": {},
   "outputs": [
    {
     "name": "stdout",
     "output_type": "stream",
     "text": [
      "GBC: 0.592880 (0.003846)\n",
      "LR: 0.594740 (0.003717)\n"
     ]
    }
   ],
   "source": [
    "scoring='accuracy'\n",
    "\n",
    "models, results = [], []\n",
    "names = []\n",
    "\n",
    "models.append(('GBC', GradientBoostingClassifier(n_estimators=estimators_num, random_state=7))) \n",
    "models.append(('LR', LogisticRegression(solver='newton-cg')))\n",
    "\n",
    "for name, model in models:\n",
    "    \n",
    "    kfold = KFold(n_splits=10, random_state=7)\n",
    "    cv_results = cross_val_score(model, X, Y, cv=kfold, scoring=scoring)\n",
    "    results.append(cv_results)\n",
    "    names.append(name)\n",
    "    \n",
    "    msg = \"%s: %f (%f)\" % (name, cv_results.mean(), cv_results.std())\n",
    "    print(msg)"
   ]
  },
  {
   "cell_type": "markdown",
   "metadata": {},
   "source": [
    "Ensemble test:"
   ]
  },
  {
   "cell_type": "code",
   "execution_count": 14,
   "metadata": {},
   "outputs": [
    {
     "name": "stderr",
     "output_type": "stream",
     "text": [
      "[Parallel(n_jobs=-1)]: Using backend LokyBackend with 8 concurrent workers.\n",
      "[Parallel(n_jobs=-1)]: Done   6 out of  10 | elapsed:  1.1min remaining:   42.8s\n"
     ]
    },
    {
     "name": "stdout",
     "output_type": "stream",
     "text": [
      "Score: 0.596116 (0.003213) \n",
      "\n"
     ]
    },
    {
     "name": "stderr",
     "output_type": "stream",
     "text": [
      "[Parallel(n_jobs=-1)]: Done  10 out of  10 | elapsed:  1.3min finished\n"
     ]
    }
   ],
   "source": [
    "scoring='accuracy'\n",
    "kfold = KFold(n_splits=10, random_state=7)\n",
    "\n",
    "estimators = []\n",
    "estimators.append(('GBC', GradientBoostingClassifier(n_estimators=estimators_num, random_state=7))) \n",
    "estimators.append(('LR', LogisticRegression(solver='newton-cg')))\n",
    "\n",
    "ensemble = VotingClassifier(estimators, voting='hard')\n",
    "cv_results = cross_val_score(ensemble, X, Y, cv=kfold, scoring=scoring, n_jobs=-1, verbose=1) \n",
    "print('%s: %f (%f)' % ('Score', cv_results.mean(), cv_results.std()), '\\n')"
   ]
  },
  {
   "cell_type": "markdown",
   "metadata": {},
   "source": [
    "Bagging test:"
   ]
  },
  {
   "cell_type": "code",
   "execution_count": 15,
   "metadata": {
    "scrolled": true
   },
   "outputs": [
    {
     "name": "stderr",
     "output_type": "stream",
     "text": [
      "[Parallel(n_jobs=-1)]: Using backend LokyBackend with 8 concurrent workers.\n",
      "[Parallel(n_jobs=-1)]: Done   6 out of  10 | elapsed:  4.0min remaining:  2.7min\n"
     ]
    },
    {
     "name": "stdout",
     "output_type": "stream",
     "text": [
      "Score: 0.592614 (0.003945) \n",
      "\n"
     ]
    },
    {
     "name": "stderr",
     "output_type": "stream",
     "text": [
      "[Parallel(n_jobs=-1)]: Done  10 out of  10 | elapsed:  4.8min finished\n"
     ]
    }
   ],
   "source": [
    "scoring='accuracy'\n",
    "kfold = KFold(n_splits=10, random_state=7)\n",
    "\n",
    "ensemble = GradientBoostingClassifier(n_estimators=estimators_num, random_state=7)\n",
    "model = BaggingClassifier(base_estimator=ensemble, n_estimators=estimators_num, random_state=7)\n",
    "cv_results = cross_val_score(model, X, Y, cv=kfold, scoring=scoring, n_jobs=-1, verbose=1) \n",
    "\n",
    "print('%s: %f (%f)' % ('Score', cv_results.mean(), cv_results.std()), '\\n')"
   ]
  },
  {
   "cell_type": "markdown",
   "metadata": {},
   "source": [
    "Hold out metrics:"
   ]
  },
  {
   "cell_type": "code",
   "execution_count": 16,
   "metadata": {},
   "outputs": [
    {
     "name": "stdout",
     "output_type": "stream",
     "text": [
      "Hold-out precision: 59 %\n",
      "Hold-out recall: 94 %\n",
      "Hold-out F1: 73 %\n"
     ]
    }
   ],
   "source": [
    "X_train, X_test, Y_train, Y_test = train_test_split(X, Y, test_size=0.1, random_state=7)\n",
    "\n",
    "model = GradientBoostingClassifier(n_estimators=estimators_num, random_state=7)\n",
    "model.fit(X_train, Y_train)\n",
    "\n",
    "predicted = (model.predict_proba(X_test)[:,1] >= 0.5).astype(bool)\n",
    "\n",
    "precision = float(precision_score(Y_test, predicted))\n",
    "recall = float(recall_score(Y_test, predicted))\n",
    "f1 = float(f1_score(Y_test, predicted))\n",
    "\n",
    "print('Hold-out precision:', round(precision*100), '%')\n",
    "print('Hold-out recall:', round(recall*100), '%')\n",
    "print('Hold-out F1:', round(f1*100), '%')"
   ]
  },
  {
   "cell_type": "markdown",
   "metadata": {},
   "source": [
    "Shap values - first model:"
   ]
  },
  {
   "cell_type": "code",
   "execution_count": 17,
   "metadata": {},
   "outputs": [],
   "source": [
    "shap_values = shap.TreeExplainer(model).shap_values(X_train)"
   ]
  },
  {
   "cell_type": "markdown",
   "metadata": {},
   "source": [
    "Shap values:"
   ]
  },
  {
   "cell_type": "code",
   "execution_count": 19,
   "metadata": {},
   "outputs": [
    {
     "data": {
      "image/png": "[encoded data removed]",
      "text/plain": [
       "<Figure size 576x396 with 2 Axes>"
      ]
     },
     "metadata": {
      "needs_background": "light"
     },
     "output_type": "display_data"
    }
   ],
   "source": [
    "shap.summary_plot(shap_values, X_train, feature_names=df.loc[:, df.columns != 'score'].columns)"
   ]
  },
  {
   "cell_type": "markdown",
   "metadata": {},
   "source": [
    "Shap value with correlation:"
   ]
  },
  {
   "cell_type": "code",
   "execution_count": 20,
   "metadata": {},
   "outputs": [
    {
     "data": {
      "image/png": "[encoded data removed]",
      "text/plain": [
       "<Figure size 576x432 with 1 Axes>"
      ]
     },
     "metadata": {
      "needs_background": "light"
     },
     "output_type": "display_data"
    }
   ],
   "source": [
    "df_train = pd.DataFrame(X_train, columns=df.loc[:, df.columns != 'score'].columns)\n",
    "ABS_SHAP(shap_values, df_train)"
   ]
  },
  {
   "cell_type": "code",
   "execution_count": 21,
   "metadata": {},
   "outputs": [],
   "source": [
    "winsound.Beep(440, 1000)"
   ]
  },
  {
   "cell_type": "markdown",
   "metadata": {},
   "source": [
    "#### Clustering"
   ]
  },
  {
   "cell_type": "markdown",
   "metadata": {},
   "source": [
    "Feature list:"
   ]
  },
  {
   "cell_type": "code",
   "execution_count": 675,
   "metadata": {},
   "outputs": [],
   "source": [
    "feature_list = ['msisdn', 'age', 'data_tot_mb_q', 'all_call_cnt_q', 'active_days', 'all_call_dur_q'] \n",
    "feature_list.extend(['pmnt_amount_y', 'pmnt_cnt_y', 'avg_balance_q'])"
   ]
  },
  {
   "cell_type": "markdown",
   "metadata": {},
   "source": [
    "Prepare data:"
   ]
  },
  {
   "cell_type": "code",
   "execution_count": 676,
   "metadata": {},
   "outputs": [
    {
     "data": {
      "text/html": [
       "<div>\n",
       "<style scoped>\n",
       "    .dataframe tbody tr th:only-of-type {\n",
       "        vertical-align: middle;\n",
       "    }\n",
       "\n",
       "    .dataframe tbody tr th {\n",
       "        vertical-align: top;\n",
       "    }\n",
       "\n",
       "    .dataframe thead th {\n",
       "        text-align: right;\n",
       "    }\n",
       "</style>\n",
       "<table border=\"1\" class=\"dataframe\">\n",
       "  <thead>\n",
       "    <tr style=\"text-align: right;\">\n",
       "      <th></th>\n",
       "      <th>age</th>\n",
       "      <th>data_tot_mb_q</th>\n",
       "      <th>all_call_cnt_q</th>\n",
       "      <th>active_days</th>\n",
       "      <th>all_call_dur_q</th>\n",
       "      <th>pmnt_amount_y</th>\n",
       "      <th>pmnt_cnt_y</th>\n",
       "      <th>avg_balance_q</th>\n",
       "    </tr>\n",
       "    <tr>\n",
       "      <th>msisdn</th>\n",
       "      <th></th>\n",
       "      <th></th>\n",
       "      <th></th>\n",
       "      <th></th>\n",
       "      <th></th>\n",
       "      <th></th>\n",
       "      <th></th>\n",
       "      <th></th>\n",
       "    </tr>\n",
       "  </thead>\n",
       "  <tbody>\n",
       "    <tr>\n",
       "      <td>9852209265</td>\n",
       "      <td>38.0</td>\n",
       "      <td>14853.0</td>\n",
       "      <td>1727</td>\n",
       "      <td>5030</td>\n",
       "      <td>165703</td>\n",
       "      <td>37700.0</td>\n",
       "      <td>16</td>\n",
       "      <td>-1107.4928</td>\n",
       "    </tr>\n",
       "    <tr>\n",
       "      <td>9151755444</td>\n",
       "      <td>27.0</td>\n",
       "      <td>85866.0</td>\n",
       "      <td>1619</td>\n",
       "      <td>1442</td>\n",
       "      <td>108686</td>\n",
       "      <td>8273.0</td>\n",
       "      <td>44</td>\n",
       "      <td>166.8038</td>\n",
       "    </tr>\n",
       "    <tr>\n",
       "      <td>9169689174</td>\n",
       "      <td>34.0</td>\n",
       "      <td>41098.0</td>\n",
       "      <td>1143</td>\n",
       "      <td>3506</td>\n",
       "      <td>494991</td>\n",
       "      <td>28290.0</td>\n",
       "      <td>43</td>\n",
       "      <td>716.3706</td>\n",
       "    </tr>\n",
       "    <tr>\n",
       "      <td>9152422345</td>\n",
       "      <td>36.0</td>\n",
       "      <td>26601.0</td>\n",
       "      <td>2134</td>\n",
       "      <td>2772</td>\n",
       "      <td>188232</td>\n",
       "      <td>11179.0</td>\n",
       "      <td>32</td>\n",
       "      <td>698.3362</td>\n",
       "    </tr>\n",
       "    <tr>\n",
       "      <td>9162367549</td>\n",
       "      <td>36.0</td>\n",
       "      <td>0.0</td>\n",
       "      <td>706</td>\n",
       "      <td>5321</td>\n",
       "      <td>121174</td>\n",
       "      <td>4000.0</td>\n",
       "      <td>13</td>\n",
       "      <td>711.4600</td>\n",
       "    </tr>\n",
       "  </tbody>\n",
       "</table>\n",
       "</div>"
      ],
      "text/plain": [
       "             age  data_tot_mb_q  all_call_cnt_q  active_days  all_call_dur_q  \\\n",
       "msisdn                                                                         \n",
       "9852209265  38.0        14853.0            1727         5030          165703   \n",
       "9151755444  27.0        85866.0            1619         1442          108686   \n",
       "9169689174  34.0        41098.0            1143         3506          494991   \n",
       "9152422345  36.0        26601.0            2134         2772          188232   \n",
       "9162367549  36.0            0.0             706         5321          121174   \n",
       "\n",
       "            pmnt_amount_y  pmnt_cnt_y  avg_balance_q  \n",
       "msisdn                                                \n",
       "9852209265        37700.0          16     -1107.4928  \n",
       "9151755444         8273.0          44       166.8038  \n",
       "9169689174        28290.0          43       716.3706  \n",
       "9152422345        11179.0          32       698.3362  \n",
       "9162367549         4000.0          13       711.4600  "
      ]
     },
     "execution_count": 676,
     "metadata": {},
     "output_type": "execute_result"
    }
   ],
   "source": [
    "df_cluster = pd.read_csv('data/critics_clients_join.csv')\n",
    "df_cluster = df_cluster[df_cluster['is_active_flg']==1]\n",
    "df_cluster['score'] = df_cluster['nps_rating']\n",
    "\n",
    "df_cluster = df_cluster[df_cluster['score']<=6]\n",
    "df_cluster = df_cluster[feature_list]\n",
    "df_cluster.set_index('msisdn', inplace=True)\n",
    "\n",
    "df_cluster.dropna(inplace=True)\n",
    "df_cluster.iloc[:,:].head()"
   ]
  },
  {
   "cell_type": "markdown",
   "metadata": {},
   "source": [
    "Rename features:"
   ]
  },
  {
   "cell_type": "code",
   "execution_count": 677,
   "metadata": {},
   "outputs": [],
   "source": [
    "feature_dict = {'age': 'возраст', 'data_tot_mb_q': 'трафик, гб/кв', 'all_call_cnt_q': 'число звонков, кв'} \n",
    "feature_dict.update({'active_days': 'время жизни, лет', 'all_call_dur_q': 'длительность звонков, ч/кв'}) \n",
    "feature_dict.update({'pmnt_cnt_y': 'число платежей, год', 'avg_balance_q': 'баланс'})\n",
    "feature_dict.update({'pmnt_amount_y': 'платежи за год, р'})\n",
    "\n",
    "df_cluster.rename(feature_dict, axis=1, inplace=True)\n",
    "\n",
    "df_cluster['трафик, гб/кв'] = df_cluster['трафик, гб/кв']/1000\n",
    "df_cluster['время жизни, лет'] = df_cluster['время жизни, лет']/365\n",
    "df_cluster['длительность звонков, ч/кв'] = df_cluster['длительность звонков, ч/кв']/365"
   ]
  },
  {
   "cell_type": "markdown",
   "metadata": {},
   "source": [
    "Description:"
   ]
  },
  {
   "cell_type": "code",
   "execution_count": 678,
   "metadata": {},
   "outputs": [
    {
     "data": {
      "text/html": [
       "<div>\n",
       "<style scoped>\n",
       "    .dataframe tbody tr th:only-of-type {\n",
       "        vertical-align: middle;\n",
       "    }\n",
       "\n",
       "    .dataframe tbody tr th {\n",
       "        vertical-align: top;\n",
       "    }\n",
       "\n",
       "    .dataframe thead th {\n",
       "        text-align: right;\n",
       "    }\n",
       "</style>\n",
       "<table border=\"1\" class=\"dataframe\">\n",
       "  <thead>\n",
       "    <tr style=\"text-align: right;\">\n",
       "      <th></th>\n",
       "      <th>count</th>\n",
       "      <th>mean</th>\n",
       "      <th>std</th>\n",
       "      <th>min</th>\n",
       "      <th>25%</th>\n",
       "      <th>50%</th>\n",
       "      <th>75%</th>\n",
       "      <th>max</th>\n",
       "    </tr>\n",
       "  </thead>\n",
       "  <tbody>\n",
       "    <tr>\n",
       "      <td>возраст</td>\n",
       "      <td>39337</td>\n",
       "      <td>47</td>\n",
       "      <td>14</td>\n",
       "      <td>3</td>\n",
       "      <td>37</td>\n",
       "      <td>46</td>\n",
       "      <td>57</td>\n",
       "      <td>119</td>\n",
       "    </tr>\n",
       "    <tr>\n",
       "      <td>трафик, гб/кв</td>\n",
       "      <td>39337</td>\n",
       "      <td>16</td>\n",
       "      <td>37</td>\n",
       "      <td>0</td>\n",
       "      <td>0</td>\n",
       "      <td>3</td>\n",
       "      <td>16</td>\n",
       "      <td>2387</td>\n",
       "    </tr>\n",
       "    <tr>\n",
       "      <td>число звонков, кв</td>\n",
       "      <td>39337</td>\n",
       "      <td>610</td>\n",
       "      <td>663</td>\n",
       "      <td>0</td>\n",
       "      <td>194</td>\n",
       "      <td>428</td>\n",
       "      <td>796</td>\n",
       "      <td>13852</td>\n",
       "    </tr>\n",
       "    <tr>\n",
       "      <td>время жизни, лет</td>\n",
       "      <td>39337</td>\n",
       "      <td>11</td>\n",
       "      <td>5</td>\n",
       "      <td>0</td>\n",
       "      <td>7</td>\n",
       "      <td>12</td>\n",
       "      <td>15</td>\n",
       "      <td>24</td>\n",
       "    </tr>\n",
       "    <tr>\n",
       "      <td>длительность звонков, ч/кв</td>\n",
       "      <td>39337</td>\n",
       "      <td>238</td>\n",
       "      <td>256</td>\n",
       "      <td>0</td>\n",
       "      <td>66</td>\n",
       "      <td>164</td>\n",
       "      <td>323</td>\n",
       "      <td>7787</td>\n",
       "    </tr>\n",
       "    <tr>\n",
       "      <td>платежи за год, р</td>\n",
       "      <td>39337</td>\n",
       "      <td>6467</td>\n",
       "      <td>6381</td>\n",
       "      <td>0</td>\n",
       "      <td>2500</td>\n",
       "      <td>5550</td>\n",
       "      <td>8200</td>\n",
       "      <td>187038</td>\n",
       "    </tr>\n",
       "    <tr>\n",
       "      <td>число платежей, год</td>\n",
       "      <td>39337</td>\n",
       "      <td>18</td>\n",
       "      <td>20</td>\n",
       "      <td>0</td>\n",
       "      <td>9</td>\n",
       "      <td>13</td>\n",
       "      <td>21</td>\n",
       "      <td>440</td>\n",
       "    </tr>\n",
       "    <tr>\n",
       "      <td>баланс</td>\n",
       "      <td>39337</td>\n",
       "      <td>355</td>\n",
       "      <td>1056</td>\n",
       "      <td>-35449</td>\n",
       "      <td>84</td>\n",
       "      <td>246</td>\n",
       "      <td>502</td>\n",
       "      <td>82372</td>\n",
       "    </tr>\n",
       "  </tbody>\n",
       "</table>\n",
       "</div>"
      ],
      "text/plain": [
       "                            count  mean   std    min   25%   50%   75%     max\n",
       "возраст                     39337    47    14      3    37    46    57     119\n",
       "трафик, гб/кв               39337    16    37      0     0     3    16    2387\n",
       "число звонков, кв           39337   610   663      0   194   428   796   13852\n",
       "время жизни, лет            39337    11     5      0     7    12    15      24\n",
       "длительность звонков, ч/кв  39337   238   256      0    66   164   323    7787\n",
       "платежи за год, р           39337  6467  6381      0  2500  5550  8200  187038\n",
       "число платежей, год         39337    18    20      0     9    13    21     440\n",
       "баланс                      39337   355  1056 -35449    84   246   502   82372"
      ]
     },
     "execution_count": 678,
     "metadata": {},
     "output_type": "execute_result"
    }
   ],
   "source": [
    "df_cluster.describe().round().astype(int).T"
   ]
  },
  {
   "cell_type": "markdown",
   "metadata": {},
   "source": [
    "Add median:"
   ]
  },
  {
   "cell_type": "code",
   "execution_count": 679,
   "metadata": {},
   "outputs": [],
   "source": [
    "df_median = df_cluster.describe().round().astype(int).loc[['50%'],:].reset_index(drop=True)\n",
    "df_median['объем кластера']=len(df_cluster)"
   ]
  },
  {
   "cell_type": "markdown",
   "metadata": {},
   "source": [
    "Within-Cluster-Sum-of-Squares iterations:"
   ]
  },
  {
   "cell_type": "code",
   "execution_count": 680,
   "metadata": {},
   "outputs": [
    {
     "name": "stdout",
     "output_type": "stream",
     "text": [
      "Iteration: 2\n",
      "Iteration: 3\n",
      "Iteration: 4\n",
      "Iteration: 5\n",
      "Iteration: 6\n",
      "Iteration: 7\n",
      "Iteration: 8\n",
      "Iteration: 9\n",
      "Iteration: 10\n"
     ]
    }
   ],
   "source": [
    "X = df_cluster.values \n",
    "wcss = []\n",
    "\n",
    "for i in range(2, clusters_num+1):\n",
    "    kmeans = KMeans(n_clusters=i, init='k-means++', n_init=clusters_num, random_state=0)\n",
    "    kmeans.fit(X)\n",
    "    wcss.append(kmeans.inertia_)\n",
    "    print('Iteration:', i)"
   ]
  },
  {
   "cell_type": "markdown",
   "metadata": {},
   "source": [
    "Plot Within-Cluster-Sum-of-Squares curve: "
   ]
  },
  {
   "cell_type": "code",
   "execution_count": 681,
   "metadata": {
    "scrolled": true
   },
   "outputs": [
    {
     "data": {
      "image/png": "[encoded data removed]",
      "text/plain": [
       "<Figure size 504x288 with 1 Axes>"
      ]
     },
     "metadata": {
      "needs_background": "light"
     },
     "output_type": "display_data"
    }
   ],
   "source": [
    "plt.figure(figsize=(7,4))\n",
    "plt.plot(range(2, clusters_num+1), wcss, '.-', markersize=15)\n",
    "\n",
    "plt.xlabel('Number of clusters')\n",
    "plt.ylabel('Within-Cluster-Sum-of-Squares')\n",
    "\n",
    "plt.grid()\n",
    "plt.show()"
   ]
  },
  {
   "cell_type": "markdown",
   "metadata": {},
   "source": [
    "Multiple clusters:"
   ]
  },
  {
   "cell_type": "code",
   "execution_count": 682,
   "metadata": {
    "scrolled": true
   },
   "outputs": [],
   "source": [
    "kmeans = KMeans(n_clusters=6, init='k-means++', n_init=clusters_num, random_state=0)\n",
    "cluster_analysis = kmeans.fit_predict(X)"
   ]
  },
  {
   "cell_type": "markdown",
   "metadata": {},
   "source": [
    "Create cluster dataframe:"
   ]
  },
  {
   "cell_type": "code",
   "execution_count": 683,
   "metadata": {},
   "outputs": [],
   "source": [
    "df_cluster_profiles = pd.DataFrame(data=kmeans.cluster_centers_, columns=df_cluster.columns)\n",
    "df_cluster_profiles.index.names = ['#']"
   ]
  },
  {
   "cell_type": "markdown",
   "metadata": {},
   "source": [
    "Add cluster power:"
   ]
  },
  {
   "cell_type": "code",
   "execution_count": 684,
   "metadata": {},
   "outputs": [
    {
     "data": {
      "text/html": [
       "<div>\n",
       "<style scoped>\n",
       "    .dataframe tbody tr th:only-of-type {\n",
       "        vertical-align: middle;\n",
       "    }\n",
       "\n",
       "    .dataframe tbody tr th {\n",
       "        vertical-align: top;\n",
       "    }\n",
       "\n",
       "    .dataframe thead th {\n",
       "        text-align: right;\n",
       "    }\n",
       "</style>\n",
       "<table border=\"1\" class=\"dataframe\">\n",
       "  <thead>\n",
       "    <tr style=\"text-align: right;\">\n",
       "      <th></th>\n",
       "      <th>0</th>\n",
       "      <th>1</th>\n",
       "      <th>2</th>\n",
       "      <th>3</th>\n",
       "      <th>4</th>\n",
       "      <th>5</th>\n",
       "    </tr>\n",
       "  </thead>\n",
       "  <tbody>\n",
       "    <tr>\n",
       "      <td>возраст</td>\n",
       "      <td>45.598302</td>\n",
       "      <td>46.198276</td>\n",
       "      <td>51.472170</td>\n",
       "      <td>43.516915</td>\n",
       "      <td>43.766867</td>\n",
       "      <td>48.650000</td>\n",
       "    </tr>\n",
       "    <tr>\n",
       "      <td>трафик, гб/кв</td>\n",
       "      <td>19.765076</td>\n",
       "      <td>25.708349</td>\n",
       "      <td>2.441180</td>\n",
       "      <td>29.788111</td>\n",
       "      <td>30.595666</td>\n",
       "      <td>24.574400</td>\n",
       "    </tr>\n",
       "    <tr>\n",
       "      <td>число звонков, кв</td>\n",
       "      <td>610.627839</td>\n",
       "      <td>1653.844828</td>\n",
       "      <td>268.459337</td>\n",
       "      <td>1076.242523</td>\n",
       "      <td>1589.074699</td>\n",
       "      <td>1392.600000</td>\n",
       "    </tr>\n",
       "    <tr>\n",
       "      <td>время жизни, лет</td>\n",
       "      <td>11.403305</td>\n",
       "      <td>13.474764</td>\n",
       "      <td>11.170172</td>\n",
       "      <td>11.518678</td>\n",
       "      <td>11.823882</td>\n",
       "      <td>14.027671</td>\n",
       "    </tr>\n",
       "    <tr>\n",
       "      <td>длительность звонков, ч/кв</td>\n",
       "      <td>240.855291</td>\n",
       "      <td>556.504842</td>\n",
       "      <td>118.231397</td>\n",
       "      <td>397.195631</td>\n",
       "      <td>576.067627</td>\n",
       "      <td>439.223973</td>\n",
       "    </tr>\n",
       "    <tr>\n",
       "      <td>платежи за год, р</td>\n",
       "      <td>6291.484859</td>\n",
       "      <td>45053.405172</td>\n",
       "      <td>1664.776136</td>\n",
       "      <td>11910.782971</td>\n",
       "      <td>21703.908434</td>\n",
       "      <td>112291.300000</td>\n",
       "    </tr>\n",
       "    <tr>\n",
       "      <td>число платежей, год</td>\n",
       "      <td>20.125373</td>\n",
       "      <td>31.241379</td>\n",
       "      <td>9.009445</td>\n",
       "      <td>29.635398</td>\n",
       "      <td>34.382530</td>\n",
       "      <td>28.150000</td>\n",
       "    </tr>\n",
       "    <tr>\n",
       "      <td>баланс</td>\n",
       "      <td>344.500340</td>\n",
       "      <td>2156.466365</td>\n",
       "      <td>287.174541</td>\n",
       "      <td>390.487116</td>\n",
       "      <td>655.941858</td>\n",
       "      <td>456.427640</td>\n",
       "    </tr>\n",
       "    <tr>\n",
       "      <td>объем кластера</td>\n",
       "      <td>17438.000000</td>\n",
       "      <td>232.000000</td>\n",
       "      <td>13859.000000</td>\n",
       "      <td>6127.000000</td>\n",
       "      <td>1661.000000</td>\n",
       "      <td>20.000000</td>\n",
       "    </tr>\n",
       "  </tbody>\n",
       "</table>\n",
       "</div>"
      ],
      "text/plain": [
       "                                       0             1             2  \\\n",
       "возраст                        45.598302     46.198276     51.472170   \n",
       "трафик, гб/кв                  19.765076     25.708349      2.441180   \n",
       "число звонков, кв             610.627839   1653.844828    268.459337   \n",
       "время жизни, лет               11.403305     13.474764     11.170172   \n",
       "длительность звонков, ч/кв    240.855291    556.504842    118.231397   \n",
       "платежи за год, р            6291.484859  45053.405172   1664.776136   \n",
       "число платежей, год            20.125373     31.241379      9.009445   \n",
       "баланс                        344.500340   2156.466365    287.174541   \n",
       "объем кластера              17438.000000    232.000000  13859.000000   \n",
       "\n",
       "                                       3             4              5  \n",
       "возраст                        43.516915     43.766867      48.650000  \n",
       "трафик, гб/кв                  29.788111     30.595666      24.574400  \n",
       "число звонков, кв            1076.242523   1589.074699    1392.600000  \n",
       "время жизни, лет               11.518678     11.823882      14.027671  \n",
       "длительность звонков, ч/кв    397.195631    576.067627     439.223973  \n",
       "платежи за год, р           11910.782971  21703.908434  112291.300000  \n",
       "число платежей, год            29.635398     34.382530      28.150000  \n",
       "баланс                        390.487116    655.941858     456.427640  \n",
       "объем кластера               6127.000000   1661.000000      20.000000  "
      ]
     },
     "execution_count": 684,
     "metadata": {},
     "output_type": "execute_result"
    }
   ],
   "source": [
    "df_power = pd.DataFrame(dict(Counter(kmeans.labels_)).items(), columns=['#', 'объем кластера'])\n",
    "df_cluster_power = pd.merge(df_cluster_profiles, df_power, how='inner', on=['#', '#'])\n",
    "df_cluster_power.drop(['#'], axis=1, inplace=True)\n",
    "df_cluster_power.iloc[:,:].head(10).T"
   ]
  },
  {
   "cell_type": "markdown",
   "metadata": {},
   "source": [
    "Write to csv file:"
   ]
  },
  {
   "cell_type": "code",
   "execution_count": 685,
   "metadata": {},
   "outputs": [],
   "source": [
    "df_cluster_power.to_excel('data/profiles.xlsx', sheet_name='First', index=True)\n",
    "df_cluster_power_norm = df_cluster_power.div(df_median.iloc[0], axis='columns')"
   ]
  },
  {
   "cell_type": "markdown",
   "metadata": {},
   "source": [
    "Show profiles:"
   ]
  },
  {
   "cell_type": "code",
   "execution_count": 686,
   "metadata": {},
   "outputs": [
    {
     "data": {
      "text/html": [
       "<div>\n",
       "<style scoped>\n",
       "    .dataframe tbody tr th:only-of-type {\n",
       "        vertical-align: middle;\n",
       "    }\n",
       "\n",
       "    .dataframe tbody tr th {\n",
       "        vertical-align: top;\n",
       "    }\n",
       "\n",
       "    .dataframe thead th {\n",
       "        text-align: right;\n",
       "    }\n",
       "</style>\n",
       "<table border=\"1\" class=\"dataframe\">\n",
       "  <thead>\n",
       "    <tr style=\"text-align: right;\">\n",
       "      <th></th>\n",
       "      <th>возраст</th>\n",
       "      <th>трафик, гб/кв</th>\n",
       "      <th>число звонков, кв</th>\n",
       "      <th>время жизни, лет</th>\n",
       "      <th>длительность звонков, ч/кв</th>\n",
       "      <th>платежи за год, р</th>\n",
       "      <th>число платежей, год</th>\n",
       "      <th>баланс</th>\n",
       "      <th>объем кластера</th>\n",
       "    </tr>\n",
       "  </thead>\n",
       "  <tbody>\n",
       "    <tr>\n",
       "      <td>0</td>\n",
       "      <td>0.991267</td>\n",
       "      <td>6.588359</td>\n",
       "      <td>1.426701</td>\n",
       "      <td>0.950275</td>\n",
       "      <td>1.468630</td>\n",
       "      <td>1.133601</td>\n",
       "      <td>1.548106</td>\n",
       "      <td>1.400408</td>\n",
       "      <td>0.443298</td>\n",
       "    </tr>\n",
       "    <tr>\n",
       "      <td>1</td>\n",
       "      <td>1.004310</td>\n",
       "      <td>8.569450</td>\n",
       "      <td>3.864123</td>\n",
       "      <td>1.122897</td>\n",
       "      <td>3.393322</td>\n",
       "      <td>8.117731</td>\n",
       "      <td>2.403183</td>\n",
       "      <td>8.766123</td>\n",
       "      <td>0.005898</td>\n",
       "    </tr>\n",
       "    <tr>\n",
       "      <td>2</td>\n",
       "      <td>1.118960</td>\n",
       "      <td>0.813727</td>\n",
       "      <td>0.627241</td>\n",
       "      <td>0.930848</td>\n",
       "      <td>0.720923</td>\n",
       "      <td>0.299960</td>\n",
       "      <td>0.693034</td>\n",
       "      <td>1.167376</td>\n",
       "      <td>0.352315</td>\n",
       "    </tr>\n",
       "    <tr>\n",
       "      <td>3</td>\n",
       "      <td>0.946020</td>\n",
       "      <td>9.929370</td>\n",
       "      <td>2.514585</td>\n",
       "      <td>0.959890</td>\n",
       "      <td>2.421925</td>\n",
       "      <td>2.146087</td>\n",
       "      <td>2.279646</td>\n",
       "      <td>1.587346</td>\n",
       "      <td>0.155757</td>\n",
       "    </tr>\n",
       "    <tr>\n",
       "      <td>4</td>\n",
       "      <td>0.951454</td>\n",
       "      <td>10.198555</td>\n",
       "      <td>3.712791</td>\n",
       "      <td>0.985323</td>\n",
       "      <td>3.512607</td>\n",
       "      <td>3.910614</td>\n",
       "      <td>2.644810</td>\n",
       "      <td>2.666430</td>\n",
       "      <td>0.042225</td>\n",
       "    </tr>\n",
       "    <tr>\n",
       "      <td>5</td>\n",
       "      <td>1.057609</td>\n",
       "      <td>8.191467</td>\n",
       "      <td>3.253738</td>\n",
       "      <td>1.168973</td>\n",
       "      <td>2.678195</td>\n",
       "      <td>20.232667</td>\n",
       "      <td>2.165385</td>\n",
       "      <td>1.855397</td>\n",
       "      <td>0.000508</td>\n",
       "    </tr>\n",
       "  </tbody>\n",
       "</table>\n",
       "</div>"
      ],
      "text/plain": [
       "    возраст  трафик, гб/кв  число звонков, кв  время жизни, лет  \\\n",
       "0  0.991267       6.588359           1.426701          0.950275   \n",
       "1  1.004310       8.569450           3.864123          1.122897   \n",
       "2  1.118960       0.813727           0.627241          0.930848   \n",
       "3  0.946020       9.929370           2.514585          0.959890   \n",
       "4  0.951454      10.198555           3.712791          0.985323   \n",
       "5  1.057609       8.191467           3.253738          1.168973   \n",
       "\n",
       "   длительность звонков, ч/кв  платежи за год, р  число платежей, год  \\\n",
       "0                    1.468630           1.133601             1.548106   \n",
       "1                    3.393322           8.117731             2.403183   \n",
       "2                    0.720923           0.299960             0.693034   \n",
       "3                    2.421925           2.146087             2.279646   \n",
       "4                    3.512607           3.910614             2.644810   \n",
       "5                    2.678195          20.232667             2.165385   \n",
       "\n",
       "     баланс  объем кластера  \n",
       "0  1.400408        0.443298  \n",
       "1  8.766123        0.005898  \n",
       "2  1.167376        0.352315  \n",
       "3  1.587346        0.155757  \n",
       "4  2.666430        0.042225  \n",
       "5  1.855397        0.000508  "
      ]
     },
     "execution_count": 686,
     "metadata": {},
     "output_type": "execute_result"
    }
   ],
   "source": [
    "df_cluster_power_norm.head(10)"
   ]
  },
  {
   "cell_type": "markdown",
   "metadata": {},
   "source": [
    "Plot cluster profiles:"
   ]
  },
  {
   "cell_type": "code",
   "execution_count": 687,
   "metadata": {
    "scrolled": false
   },
   "outputs": [
    {
     "data": {
      "image/png": "[encoded data removed]",
      "text/plain": [
       "<Figure size 1440x360 with 1 Axes>"
      ]
     },
     "metadata": {
      "needs_background": "light"
     },
     "output_type": "display_data"
    }
   ],
   "source": [
    "colors = ['C0','C1','C2','C3','C4','C5','C6','C7','C8','C9','C10']\n",
    "plt.figure(figsize=(20,5))\n",
    "\n",
    "for i in range(6):\n",
    "    plt.plot(df_cluster_power.columns, df_cluster_power_norm.iloc[i], '.-', markersize=15, color=colors[i], label=(i))  \n",
    "    \n",
    "plt.legend(loc='upper right')\n",
    "plt.title('Cluster profiles')\n",
    "plt.grid(True)\n",
    "plt.show()"
   ]
  },
  {
   "cell_type": "markdown",
   "metadata": {},
   "source": [
    "Merge cluster centers with input dataframe:"
   ]
  },
  {
   "cell_type": "code",
   "execution_count": 747,
   "metadata": {},
   "outputs": [],
   "source": [
    "cluster_map = pd.DataFrame()\n",
    "cluster_map['msisdn'] = df_cluster.index.values\n",
    "cluster_map['cluster'] = kmeans.labels_\n",
    "df_merged = pd.merge(df_cluster, cluster_map,  how='inner', left_on=['msisdn'], right_on = ['msisdn'])"
   ]
  },
  {
   "cell_type": "markdown",
   "metadata": {},
   "source": [
    "Write merged dataframe:"
   ]
  },
  {
   "cell_type": "code",
   "execution_count": 748,
   "metadata": {},
   "outputs": [],
   "source": [
    "df_merged.to_excel('data/cluster_msisdn.xlsx', sheet_name='First', index=True)"
   ]
  },
  {
   "cell_type": "markdown",
   "metadata": {},
   "source": [
    "Add dashboard features: "
   ]
  },
  {
   "cell_type": "code",
   "execution_count": 749,
   "metadata": {},
   "outputs": [
    {
     "data": {
      "text/html": [
       "<div>\n",
       "<style scoped>\n",
       "    .dataframe tbody tr th:only-of-type {\n",
       "        vertical-align: middle;\n",
       "    }\n",
       "\n",
       "    .dataframe tbody tr th {\n",
       "        vertical-align: top;\n",
       "    }\n",
       "\n",
       "    .dataframe thead th {\n",
       "        text-align: right;\n",
       "    }\n",
       "</style>\n",
       "<table border=\"1\" class=\"dataframe\">\n",
       "  <thead>\n",
       "    <tr style=\"text-align: right;\">\n",
       "      <th></th>\n",
       "      <th>msisdn</th>\n",
       "      <th>arpu, р</th>\n",
       "      <th>наличие блокировок</th>\n",
       "      <th>ppd списания, руб</th>\n",
       "      <th>возраст тарифа, дни</th>\n",
       "      <th>число звонков зарубеж</th>\n",
       "      <th>число жалоб</th>\n",
       "      <th>число ppd</th>\n",
       "    </tr>\n",
       "  </thead>\n",
       "  <tbody>\n",
       "    <tr>\n",
       "      <td>1</td>\n",
       "      <td>9162199066</td>\n",
       "      <td>708.808370</td>\n",
       "      <td>0</td>\n",
       "      <td>15</td>\n",
       "      <td>188.48103</td>\n",
       "      <td>0</td>\n",
       "      <td>0</td>\n",
       "      <td>6</td>\n",
       "    </tr>\n",
       "    <tr>\n",
       "      <td>2</td>\n",
       "      <td>9153238646</td>\n",
       "      <td>583.541677</td>\n",
       "      <td>0</td>\n",
       "      <td>48</td>\n",
       "      <td>618.73730</td>\n",
       "      <td>0</td>\n",
       "      <td>0</td>\n",
       "      <td>6</td>\n",
       "    </tr>\n",
       "    <tr>\n",
       "      <td>3</td>\n",
       "      <td>9163335500</td>\n",
       "      <td>1247.783305</td>\n",
       "      <td>0</td>\n",
       "      <td>0</td>\n",
       "      <td>323.79626</td>\n",
       "      <td>1</td>\n",
       "      <td>0</td>\n",
       "      <td>6</td>\n",
       "    </tr>\n",
       "    <tr>\n",
       "      <td>12</td>\n",
       "      <td>9104837565</td>\n",
       "      <td>674.833333</td>\n",
       "      <td>1</td>\n",
       "      <td>0</td>\n",
       "      <td>500.64780</td>\n",
       "      <td>0</td>\n",
       "      <td>0</td>\n",
       "      <td>0</td>\n",
       "    </tr>\n",
       "    <tr>\n",
       "      <td>13</td>\n",
       "      <td>9154850363</td>\n",
       "      <td>393.533330</td>\n",
       "      <td>0</td>\n",
       "      <td>0</td>\n",
       "      <td>925.39734</td>\n",
       "      <td>0</td>\n",
       "      <td>0</td>\n",
       "      <td>6</td>\n",
       "    </tr>\n",
       "  </tbody>\n",
       "</table>\n",
       "</div>"
      ],
      "text/plain": [
       "        msisdn      arpu, р  наличие блокировок  ppd списания, руб  \\\n",
       "1   9162199066   708.808370                   0                 15   \n",
       "2   9153238646   583.541677                   0                 48   \n",
       "3   9163335500  1247.783305                   0                  0   \n",
       "12  9104837565   674.833333                   1                  0   \n",
       "13  9154850363   393.533330                   0                  0   \n",
       "\n",
       "    возраст тарифа, дни  число звонков зарубеж  число жалоб  число ppd  \n",
       "1             188.48103                      0            0          6  \n",
       "2             618.73730                      0            0          6  \n",
       "3             323.79626                      1            0          6  \n",
       "12            500.64780                      0            0          0  \n",
       "13            925.39734                      0            0          6  "
      ]
     },
     "execution_count": 749,
     "metadata": {},
     "output_type": "execute_result"
    }
   ],
   "source": [
    "df_dash = pd.read_csv('data/train_test.csv')\n",
    "df_dash = df_dash[df_dash['business_dt']=='2019-05-31']\n",
    "\n",
    "df_dash = df_dash[df_dash['nps_rating']<=6]\n",
    "\n",
    "del df_dash['business_dt']\n",
    "del df_dash['nps_rating']\n",
    "del df_dash['device_cur']\n",
    "\n",
    "feature_dict = {'arpu_avg_hy1': 'arpu, р', 'had_financial_block_hy1': 'наличие блокировок'} \n",
    "feature_dict.update({'tp_med_age_d': 'возраст тарифа, дни', 'call_outcountry_cnt_y': 'число звонков зарубеж'}) \n",
    "feature_dict.update({'ppd_daily_charge_rur_hy1': 'ppd списания, руб', 'complaint_cnt_hy1': 'число жалоб'})\n",
    "feature_dict.update({'ppd_cnt_hy1': 'число ppd'})\n",
    "\n",
    "df_dash.rename(feature_dict, axis=1, inplace=True)\n",
    "df_dash.iloc[:,:].head()"
   ]
  },
  {
   "cell_type": "markdown",
   "metadata": {},
   "source": [
    "Join cluster data with dash:"
   ]
  },
  {
   "cell_type": "code",
   "execution_count": 752,
   "metadata": {},
   "outputs": [],
   "source": [
    "df_merged = pd.merge(df_merged, df_dash,  how='inner', left_on=['msisdn'], right_on = ['msisdn'])"
   ]
  },
  {
   "cell_type": "markdown",
   "metadata": {},
   "source": [
    "Cluster numbers:"
   ]
  },
  {
   "cell_type": "code",
   "execution_count": 753,
   "metadata": {},
   "outputs": [
    {
     "data": {
      "text/html": [
       "[1, 0, 4, 3, 2, 5]"
      ],
      "text/plain": [
       "[1, 0, 4, 3, 2, 5]"
      ]
     },
     "execution_count": 753,
     "metadata": {},
     "output_type": "execute_result"
    }
   ],
   "source": [
    "list(pd.unique(df_merged[['cluster']].values.ravel('K')))"
   ]
  },
  {
   "cell_type": "code",
   "execution_count": 754,
   "metadata": {},
   "outputs": [
    {
     "data": {
      "text/html": [
       "<div>\n",
       "<style scoped>\n",
       "    .dataframe tbody tr th:only-of-type {\n",
       "        vertical-align: middle;\n",
       "    }\n",
       "\n",
       "    .dataframe tbody tr th {\n",
       "        vertical-align: top;\n",
       "    }\n",
       "\n",
       "    .dataframe thead th {\n",
       "        text-align: right;\n",
       "    }\n",
       "</style>\n",
       "<table border=\"1\" class=\"dataframe\">\n",
       "  <thead>\n",
       "    <tr style=\"text-align: right;\">\n",
       "      <th></th>\n",
       "      <th>min</th>\n",
       "      <th>25%</th>\n",
       "      <th>50%</th>\n",
       "      <th>75%</th>\n",
       "      <th>max</th>\n",
       "    </tr>\n",
       "  </thead>\n",
       "  <tbody>\n",
       "    <tr>\n",
       "      <td>возраст</td>\n",
       "      <td>24</td>\n",
       "      <td>42</td>\n",
       "      <td>48</td>\n",
       "      <td>56</td>\n",
       "      <td>72</td>\n",
       "    </tr>\n",
       "    <tr>\n",
       "      <td>трафик, гб/кв</td>\n",
       "      <td>1</td>\n",
       "      <td>6</td>\n",
       "      <td>13</td>\n",
       "      <td>39</td>\n",
       "      <td>82</td>\n",
       "    </tr>\n",
       "    <tr>\n",
       "      <td>число звонков, кв</td>\n",
       "      <td>58</td>\n",
       "      <td>663</td>\n",
       "      <td>994</td>\n",
       "      <td>1912</td>\n",
       "      <td>5552</td>\n",
       "    </tr>\n",
       "    <tr>\n",
       "      <td>время жизни, лет</td>\n",
       "      <td>3</td>\n",
       "      <td>11</td>\n",
       "      <td>15</td>\n",
       "      <td>18</td>\n",
       "      <td>22</td>\n",
       "    </tr>\n",
       "    <tr>\n",
       "      <td>длительность звонков, ч/кв</td>\n",
       "      <td>4</td>\n",
       "      <td>223</td>\n",
       "      <td>386</td>\n",
       "      <td>671</td>\n",
       "      <td>1410</td>\n",
       "    </tr>\n",
       "    <tr>\n",
       "      <td>платежи за год, р</td>\n",
       "      <td>80845</td>\n",
       "      <td>87375</td>\n",
       "      <td>105930</td>\n",
       "      <td>117546</td>\n",
       "      <td>187038</td>\n",
       "    </tr>\n",
       "    <tr>\n",
       "      <td>число платежей, год</td>\n",
       "      <td>8</td>\n",
       "      <td>14</td>\n",
       "      <td>21</td>\n",
       "      <td>27</td>\n",
       "      <td>154</td>\n",
       "    </tr>\n",
       "    <tr>\n",
       "      <td>баланс</td>\n",
       "      <td>-35449</td>\n",
       "      <td>-4503</td>\n",
       "      <td>2239</td>\n",
       "      <td>7683</td>\n",
       "      <td>25349</td>\n",
       "    </tr>\n",
       "    <tr>\n",
       "      <td>arpu, р</td>\n",
       "      <td>588</td>\n",
       "      <td>6339</td>\n",
       "      <td>7639</td>\n",
       "      <td>10305</td>\n",
       "      <td>17533</td>\n",
       "    </tr>\n",
       "    <tr>\n",
       "      <td>наличие блокировок</td>\n",
       "      <td>0</td>\n",
       "      <td>0</td>\n",
       "      <td>0</td>\n",
       "      <td>0</td>\n",
       "      <td>1</td>\n",
       "    </tr>\n",
       "    <tr>\n",
       "      <td>ppd списания, руб</td>\n",
       "      <td>0</td>\n",
       "      <td>0</td>\n",
       "      <td>0</td>\n",
       "      <td>0</td>\n",
       "      <td>138</td>\n",
       "    </tr>\n",
       "    <tr>\n",
       "      <td>возраст тарифа, дни</td>\n",
       "      <td>214</td>\n",
       "      <td>469</td>\n",
       "      <td>674</td>\n",
       "      <td>828</td>\n",
       "      <td>1638</td>\n",
       "    </tr>\n",
       "    <tr>\n",
       "      <td>число звонков зарубеж</td>\n",
       "      <td>0</td>\n",
       "      <td>8</td>\n",
       "      <td>31</td>\n",
       "      <td>65</td>\n",
       "      <td>107</td>\n",
       "    </tr>\n",
       "    <tr>\n",
       "      <td>число жалоб</td>\n",
       "      <td>0</td>\n",
       "      <td>0</td>\n",
       "      <td>0</td>\n",
       "      <td>0</td>\n",
       "      <td>4</td>\n",
       "    </tr>\n",
       "    <tr>\n",
       "      <td>число ppd</td>\n",
       "      <td>0</td>\n",
       "      <td>0</td>\n",
       "      <td>0</td>\n",
       "      <td>6</td>\n",
       "      <td>6</td>\n",
       "    </tr>\n",
       "  </tbody>\n",
       "</table>\n",
       "</div>"
      ],
      "text/plain": [
       "                              min    25%     50%     75%     max\n",
       "возраст                        24     42      48      56      72\n",
       "трафик, гб/кв                   1      6      13      39      82\n",
       "число звонков, кв              58    663     994    1912    5552\n",
       "время жизни, лет                3     11      15      18      22\n",
       "длительность звонков, ч/кв      4    223     386     671    1410\n",
       "платежи за год, р           80845  87375  105930  117546  187038\n",
       "число платежей, год             8     14      21      27     154\n",
       "баланс                     -35449  -4503    2239    7683   25349\n",
       "arpu, р                       588   6339    7639   10305   17533\n",
       "наличие блокировок              0      0       0       0       1\n",
       "ppd списания, руб               0      0       0       0     138\n",
       "возраст тарифа, дни           214    469     674     828    1638\n",
       "число звонков зарубеж           0      8      31      65     107\n",
       "число жалоб                     0      0       0       0       4\n",
       "число ppd                       0      0       0       6       6"
      ]
     },
     "execution_count": 754,
     "metadata": {},
     "output_type": "execute_result"
    }
   ],
   "source": [
    "df_first = df_merged[df_merged['cluster']==5].describe().round().astype(int)\n",
    "df_first.drop(['count','mean','std'], inplace=True)\n",
    "del df_first['msisdn']\n",
    "del df_first['cluster']\n",
    "df_first.T.head(100)"
   ]
  },
  {
   "cell_type": "code",
   "execution_count": 755,
   "metadata": {},
   "outputs": [],
   "source": [
    "df_first.to_excel('data/fifth_describe.xlsx', sheet_name='First', index=True)"
   ]
  }
 ],
 "metadata": {
  "kernelspec": {
   "display_name": "Python 3",
   "language": "python",
   "name": "python3"
  },
  "language_info": {
   "codemirror_mode": {
    "name": "ipython",
    "version": 3
   },
   "file_extension": ".py",
   "mimetype": "text/x-python",
   "name": "python",
   "nbconvert_exporter": "python",
   "pygments_lexer": "ipython3",
   "version": "3.7.3"
  }
 },
 "nbformat": 4,
 "nbformat_minor": 2
}
