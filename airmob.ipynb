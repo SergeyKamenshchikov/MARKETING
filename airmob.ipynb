{
 "cells": [
  {
   "cell_type": "markdown",
   "metadata": {},
   "source": [
    "На основании данных полетов предложить функции и метрики личного кабинета мобильного приложения-трекера полетов. Сформулировать гипотезы, которые нужно проверить перед принятием решения о старте проекта. Сделать дескриптивный анализ данных. Проверить гипотезы с помощью машинного обучения. Написать выводы и рекомендации. \n",
    "\n",
    "\n",
    "Канвас. Ценности и боли клиента.  Боли. Ожидание в аэропорту в неизвестности при задержке рейса (1). Если клиент дождался посадки - неизвестность задержки прибытия (2). Неопределенность выбора (3) - сдать билет при задержке и купить новый или дождаться своего рейса. Опоздание на рейс (4). Ценности: информация о времени ожидания (1). При задержке - помощь выбора (2), сдать билет, или ждать, получив еду и напитки. Если сдал билет - подсказать рейс на основе вероятности задержки вылета/отмены (3). Рачет времени прибытия на основе регрессии (4). Если опаздывает на рейс по геолокации определить, что не на месте и прислать сообщение о том, что опаздывает не только он (4). В США пассажир имеет право сдать билет и получить деньги при зедержке, или требовать питание, но тогда возврат суммы билета будет частичным. \n",
    "\n",
    "Гипотеза - прогнозирование события отмены на основе минимального числа признаков, двух или трех. Качественное основание - крупные аэропорты представляют собой хабы, их емкость по одновременному принятию N рейсов повышает риски. Чем крупнее хаб - тем выше риски каскадного эффекта задержек рейса. Основание основания - доклад комиссии по гражданской авиации США.\n"
   ]
  },
  {
   "cell_type": "code",
   "execution_count": 1,
   "metadata": {},
   "outputs": [
    {
     "name": "stdout",
     "output_type": "stream",
     "text": [
      "Привет!\n"
     ]
    }
   ],
   "source": [
    "print('Привет!')"
   ]
  },
  {
   "cell_type": "markdown",
   "metadata": {},
   "source": [
    "Не выводить предупреждения:"
   ]
  },
  {
   "cell_type": "code",
   "execution_count": 2,
   "metadata": {},
   "outputs": [],
   "source": [
    "import warnings\n",
    "warnings.filterwarnings(\"ignore\")"
   ]
  },
  {
   "cell_type": "code",
   "execution_count": null,
   "metadata": {},
   "outputs": [],
   "source": [
    "Библиотека для работы с массивами и таблицами"
   ]
  },
  {
   "cell_type": "code",
   "execution_count": 3,
   "metadata": {},
   "outputs": [],
   "source": [
    "import numpy as np\n",
    "import pandas as pd\n",
    "from pandas import set_option"
   ]
  },
  {
   "cell_type": "markdown",
   "metadata": {},
   "source": [
    "Библиотеки для работы для работы с графикамии"
   ]
  },
  {
   "cell_type": "code",
   "execution_count": 4,
   "metadata": {},
   "outputs": [],
   "source": [
    "import matplotlib.pyplot as plt\n",
    "import seaborn as sns"
   ]
  },
  {
   "cell_type": "markdown",
   "metadata": {},
   "source": [
    "Библиотека для создание сортированного сета данных из стандартного сета"
   ]
  },
  {
   "cell_type": "code",
   "execution_count": 5,
   "metadata": {},
   "outputs": [],
   "source": [
    "from ordered_set import OrderedSet"
   ]
  },
  {
   "cell_type": "markdown",
   "metadata": {},
   "source": [
    "Импорт статистических объектов для расчета корелляции из библиотеки scipy и среднего - из statistics "
   ]
  },
  {
   "cell_type": "code",
   "execution_count": 6,
   "metadata": {},
   "outputs": [],
   "source": [
    "from scipy.stats.stats import pearsonr\n",
    "from statistics import mean"
   ]
  },
  {
   "cell_type": "markdown",
   "metadata": {},
   "source": [
    "Импорт стандартной библиотеки математических функций"
   ]
  },
  {
   "cell_type": "code",
   "execution_count": 7,
   "metadata": {},
   "outputs": [],
   "source": [
    "import math"
   ]
  },
  {
   "cell_type": "markdown",
   "metadata": {},
   "source": [
    "Загрузка класса для анализа методом главных компонент из библиотеки sklearn"
   ]
  },
  {
   "cell_type": "code",
   "execution_count": 8,
   "metadata": {},
   "outputs": [],
   "source": [
    "from sklearn.decomposition import PCA"
   ]
  },
  {
   "cell_type": "markdown",
   "metadata": {},
   "source": [
    "Загрузка класса ridge-regression для создания регрессии с L2 регуляризацией"
   ]
  },
  {
   "cell_type": "code",
   "execution_count": 9,
   "metadata": {},
   "outputs": [],
   "source": [
    "from sklearn.linear_model import Ridge"
   ]
  },
  {
   "cell_type": "markdown",
   "metadata": {},
   "source": [
    "Загружаем из sklearn классификаторы: решающие деревья+логистическая регрессия+наивный байесовский классификатор"
   ]
  },
  {
   "cell_type": "code",
   "execution_count": 10,
   "metadata": {},
   "outputs": [],
   "source": [
    "from sklearn.linear_model import LogisticRegression\n",
    "from sklearn.tree import DecisionTreeClassifier\n",
    "from sklearn.naive_bayes import GaussianNB"
   ]
  },
  {
   "cell_type": "markdown",
   "metadata": {},
   "source": [
    "Загружаем случайный лес из модуля  для предварительного отбора признаков машинного обучения"
   ]
  },
  {
   "cell_type": "code",
   "execution_count": 11,
   "metadata": {},
   "outputs": [],
   "source": [
    "from sklearn.ensemble import ExtraTreesClassifier"
   ]
  },
  {
   "cell_type": "markdown",
   "metadata": {},
   "source": [
    "Загружаем 3 модуля для кросс валидации и стандартного out-of-sample скоринга ML моделей - 2 независимых метода проверки. Последний класс включает методы для разбиение сета данных"
   ]
  },
  {
   "cell_type": "code",
   "execution_count": 12,
   "metadata": {},
   "outputs": [],
   "source": [
    "from sklearn.model_selection import cross_val_score\n",
    "from sklearn.model_selection import train_test_split\n",
    "from sklearn.model_selection import KFold"
   ]
  },
  {
   "cell_type": "markdown",
   "metadata": {},
   "source": [
    "Создаем гиперпараметр split_num, который показывает на сколько подмножеств разбивать сет данных. Число интервалов для\n",
    "эмпирической функции распределения по частоте. Название файла с датой."
   ]
  },
  {
   "cell_type": "code",
   "execution_count": 20,
   "metadata": {},
   "outputs": [],
   "source": [
    "split_num=10#number of splits for cv\n",
    "intervals=30#number of splits for EDF\n",
    "filename='flights.xlsx'"
   ]
  },
  {
   "cell_type": "markdown",
   "metadata": {},
   "source": [
    "Создаем собственные функции в скрипте, было бы разумнее их загрузить в отдельный модуль и импортировать его, но для демо.."
   ]
  },
  {
   "cell_type": "markdown",
   "metadata": {},
   "source": [
    "Функция для стандартизации данных к интервалу 0,1 - повышает устойчивость ML моделей при обучении"
   ]
  },
  {
   "cell_type": "code",
   "execution_count": 21,
   "metadata": {},
   "outputs": [],
   "source": [
    "def standart(x):\n",
    "    max_value=x.max();\n",
    "    min_value=x.min()\n",
    "    z=(x-min_value) / (max_value - min_value)\n",
    "    return z"
   ]
  },
  {
   "cell_type": "markdown",
   "metadata": {},
   "source": [
    "Функция для построения корелляционной матрицы с тепловой картой используя модуль sns - для оценки потенциала регрессий"
   ]
  },
  {
   "cell_type": "code",
   "execution_count": 22,
   "metadata": {},
   "outputs": [],
   "source": [
    "def cormap(x):\n",
    "  corr=x.corr();fig=plt.figure(figsize=(10, 7))\n",
    "  g=sns.heatmap(corr,annot=True,linewidths=.2, cbar_kws={\"orientation\": \"horizontal\"})\n",
    "  plt.show()"
   ]
  },
  {
   "cell_type": "markdown",
   "metadata": {},
   "source": [
    "Функция расчета коэффициент Пирсона между двумя векторами - стандартная корелляция"
   ]
  },
  {
   "cell_type": "code",
   "execution_count": 23,
   "metadata": {},
   "outputs": [],
   "source": [
    "def cf(x,y):\n",
    "  CFV=pearsonr(x,y);correlation=str(abs(round(int(100*CFV[0]))))\n",
    "  p_mystake=str(round((100*CFV[1]),3));cf_mst=[correlation,p_mystake]\n",
    "  return cf_mst"
   ]
  },
  {
   "cell_type": "markdown",
   "metadata": {},
   "source": [
    "На основе библиотеки pandas функция для построения диаграмм рассеяния - за пределами диагонали - оценка линейной регрессии, выполняется долго. Зато 4 строчки кода для RnD. "
   ]
  },
  {
   "cell_type": "code",
   "execution_count": 24,
   "metadata": {},
   "outputs": [],
   "source": [
    "def eda(x):\n",
    "  pd.plotting.scatter_matrix(x,figsize=[8,8],diagonal='kde',grid=True,ax=None,range_padding=1)\n",
    "  plt.show()"
   ]
  },
  {
   "cell_type": "markdown",
   "metadata": {},
   "source": [
    "Функция для факторного анализа на основе метода компонент - строит столбчатый график компонент и выводит их значения. На вход принимает список признаков и массив данных, на выходе график и логи"
   ]
  },
  {
   "cell_type": "code",
   "execution_count": 25,
   "metadata": {},
   "outputs": [],
   "source": [
    "def pca(x,y):\n",
    "  pca=PCA();pca.fit(y);PCA(copy=True)\n",
    "  features=x;pca.explained_variance_=standart(pca.explained_variance_)\n",
    "  pca.explained_variance_=list(np.array(pca.explained_variance_)*100)\n",
    "  plt.bar(x, pca.explained_variance_,width=0.5);plt.xticks(features);plt.ylabel('variance');plt.xlabel('PCA feature')\n",
    "  print('Вклад компонент в модели PCA:')\n",
    "  for i in range(0,len(pca.explained_variance_)):\n",
    "    print(str(x[i])+': '+str(int(pca.explained_variance_[i]))+'%')\n",
    "    i=i+1\n",
    "  plt.show()"
   ]
  },
  {
   "cell_type": "markdown",
   "metadata": {},
   "source": [
    "csv импортирован в xls. Визуальный анализ структуры данных. Чать полей убрал - сократил размерность. \n",
    "Парсим дату из xls файла. "
   ]
  },
  {
   "cell_type": "code",
   "execution_count": 26,
   "metadata": {},
   "outputs": [],
   "source": [
    "df=pd.read_excel(filename)"
   ]
  },
  {
   "cell_type": "markdown",
   "metadata": {},
   "source": [
    "Все признаки:Unique Carrier,DepDelay,Origin,Dest,Cancelled,Distance,AirTime,ActualElapsedTime,CRSElapsedTime,ArrDelay\n",
    "Непрерывные признаки: DepDelay, Distance, AirTime, ActualElapsedTime, CRSElapsedTime, ArrDelay\n",
    "Булевые признаки: Unique Carrier,DepDelay, Origin, Dest, Cancelled"
   ]
  },
  {
   "cell_type": "markdown",
   "metadata": {},
   "source": [
    "Смотрим, насколько часто проиходит событие задержка или отмена. В идеале для устойчивого обучения - 50 на 50"
   ]
  },
  {
   "cell_type": "code",
   "execution_count": 27,
   "metadata": {},
   "outputs": [
    {
     "name": "stdout",
     "output_type": "stream",
     "text": [
      "\n",
      "[Delay+Cancelation] частота: 41%\n"
     ]
    }
   ],
   "source": [
    "delay_bool_sum=len(df[df['DepDelay']>0])+len(df[df['Cancelled']==1])\n",
    "delay_freq=round(100*delay_bool_sum/len(df))\n",
    "print('\\n[Delay+Cancelation] частота: '+str(delay_freq)+'%')"
   ]
  },
  {
   "cell_type": "markdown",
   "metadata": {},
   "source": [
    "Почти 50/50. Можно начинать ML. Но перед этим проверим, работает ли стандартная статистика, которая предполагает нормальное распределение ошибок, отсутствие нелинейнойнойсти и каскажных эффектов. Гипотеза - не работает, но интуитивный курс движения может дать."
   ]
  },
  {
   "cell_type": "markdown",
   "metadata": {},
   "source": [
    "Из двух столбцов - отмена (булевая переменная) и задержка (непрерывная переменная) создаем один столбец-вектор с булевым значением 1, если задержка есть, или есть отмена. Техническая причина биннинга - моделей классификации значительно больше и при стекинге можно добиться лучшего результата. Для проверки гипотез - достаточно. Меньше столбцов - меньши риски overfit"
   ]
  },
  {
   "cell_type": "code",
   "execution_count": 28,
   "metadata": {},
   "outputs": [],
   "source": [
    "boolean_delay=[]\n",
    "canc_list=list(df['Cancelled']);delay_list=list(df['DepDelay'])\n",
    "for i in range(len(canc_list)):\n",
    "    if ((canc_list[i]==1) or (math.isnan(delay_list[i])=='False' and delay_list[i]>0)): boolean_delay.append(1)\n",
    "    else: boolean_delay.append(0)     \n",
    "\n",
    "df['Bool_delay']=np.array(boolean_delay);#create new field, merged from two - dimension reduction\n",
    "del df['Cancelled']#remove cancelation field"
   ]
  },
  {
   "cell_type": "markdown",
   "metadata": {},
   "source": [
    "Названия аэропотртов - строки. Необходимо преобразовать в численный вид, чтобы использовать, как фичи. Для этого вначале из них делаем сортированные сеты, при помощи словаря ставим каждому коду аэропорта в соответствие целое число. Преобразуем столбцы фрейма. Эти фичи будут в дальнейшем использоваться для классификаторов."
   ]
  },
  {
   "cell_type": "code",
   "execution_count": 29,
   "metadata": {},
   "outputs": [],
   "source": [
    "carrier_set=list(OrderedSet(df['UniqueCarrier'][:]));carrier_ind=range(len(carrier_set));carrier_dict=dict(zip(carrier_set,carrier_ind))\n",
    "origin_set=list(OrderedSet(df['Origin'][:]));origin_ind=range(len(origin_set));origin_dict=dict(zip(origin_set,origin_ind))\n",
    "dest_set=list(OrderedSet(df['Dest'][:]));dest_ind=range(len(dest_set));dest_dict=dict(zip(dest_set,dest_ind))\n",
    "\n",
    "df['UniqueCarrier']=[carrier_dict[item] for item in df['UniqueCarrier']]\n",
    "df['Origin']=[origin_dict[item] for item in df['Origin']]\n",
    "df['Dest']=[dest_dict[item] for item in df['Dest']]"
   ]
  },
  {
   "cell_type": "markdown",
   "metadata": {},
   "source": [
    "Изначально непрерывные фичи стандартизируем - задержка, дистанция, время полета, задержка прибытия и т.д. На основании них смотрим корелляторы - пытаемся закрыть ценность номер три - см. выше. Стандартизация - устойчивость регрессии, если она возможна."
   ]
  },
  {
   "cell_type": "code",
   "execution_count": 30,
   "metadata": {},
   "outputs": [],
   "source": [
    "df['DepDelay']=standart(df['DepDelay']);df['Distance']=standart(df['Distance'])\n",
    "df['AirTime']=standart(df['AirTime']);df['ActualElapsedTime']=standart(df['ActualElapsedTime'])\n",
    "df['CRSElapsedTime']=standart(df['CRSElapsedTime']);df['ArrDelay']=standart(df['ArrDelay'])"
   ]
  },
  {
   "cell_type": "markdown",
   "metadata": {},
   "source": [
    "Для удобства строим отдельный датафрейм по непрерывным фичам, убираем записи с пустыми значениями - очищаем данные"
   ]
  },
  {
   "cell_type": "code",
   "execution_count": 31,
   "metadata": {},
   "outputs": [],
   "source": [
    "df_delay=df.copy()\n",
    "df_delay=df_delay.dropna()\n",
    "df_delay=pd.concat([df_delay['DepDelay'],df_delay['Distance'],df_delay['AirTime'],df_delay['ActualElapsedTime'],\n",
    "                    df_delay['CRSElapsedTime'],df_delay['ArrDelay']], axis=1)\n",
    "\n",
    "df_delay_arrival=pd.concat([df_delay['DepDelay'],df_delay['DepDelay'],df_delay['ArrDelay']], axis=1)\n",
    "df_delay_arrival.columns=['DepDelay1','DepDelay2','ArrDelay']"
   ]
  },
  {
   "cell_type": "markdown",
   "metadata": {},
   "source": [
    "Строим корелляционную цветовую матрицу между фичами."
   ]
  },
  {
   "cell_type": "code",
   "execution_count": 32,
   "metadata": {},
   "outputs": [
    {
     "data": {
      "image/png": "[encoded data removed]",
      "text/plain": [
       "<Figure size 720x504 with 2 Axes>"
      ]
     },
     "metadata": {
      "needs_background": "light"
     },
     "output_type": "display_data"
    }
   ],
   "source": [
    "cormap(df_delay)"
   ]
  },
  {
   "cell_type": "markdown",
   "metadata": {},
   "source": [
    "Задержка прибытия ArrDelay имеет корелляцию 93% с задержкой вылета. Т.е. клиент может сразу получить эту инфу, а сравнить с расчетным временем прибытия, которое рассчитывается с учетом погоды. Но погода не при чем, т.к. время в воздухе и дистанция имеют корелляцию 97%. "
   ]
  },
  {
   "cell_type": "markdown",
   "metadata": {},
   "source": [
    "Дополним диаграммой рассеяния гипотезу. Это очень медленная библиотека. Юпитер ушел считать кольца Сатурна. "
   ]
  },
  {
   "cell_type": "code",
   "execution_count": 33,
   "metadata": {},
   "outputs": [
    {
     "data": {
      "image/png": "[encoded data removed]",
      "text/plain": [
       "<Figure size 576x576 with 36 Axes>"
      ]
     },
     "metadata": {
      "needs_background": "light"
     },
     "output_type": "display_data"
    }
   ],
   "source": [
    "df_delay.columns=['DepDel','Dist','AirTime','ActualElap','ShedElap','ArrDelay']\n",
    "eda(df_delay)"
   ]
  },
  {
   "cell_type": "markdown",
   "metadata": {},
   "source": [
    "Прекрасная регрессия на диаграмме рессеяния между задержками. Все непрервывные величины имеют степенное распределение\n",
    "недосаточно среднего и дисперсии для его характеристики. Необходимы как минимум 3 и 4 моменты."
   ]
  },
  {
   "cell_type": "markdown",
   "metadata": {},
   "source": [
    "Делаем дескриптивный анализ для задержек. "
   ]
  },
  {
   "cell_type": "code",
   "execution_count": 34,
   "metadata": {},
   "outputs": [
    {
     "name": "stdout",
     "output_type": "stream",
     "text": [
      "Department delay:\n",
      "count    68418.000\n",
      "mean         0.046\n",
      "std          0.029\n",
      "min          0.000\n",
      "25%          0.034\n",
      "50%          0.037\n",
      "75%          0.045\n",
      "max          1.000\n",
      "Name: DepDelay1, dtype: float64\n"
     ]
    }
   ],
   "source": [
    "set_option('display.width',100)\n",
    "set_option('precision',3)\n",
    "\n",
    "print('Department delay:')\n",
    "description=df_delay_arrival['DepDelay1'].describe()\n",
    "print(description)"
   ]
  },
  {
   "cell_type": "code",
   "execution_count": 35,
   "metadata": {},
   "outputs": [
    {
     "name": "stdout",
     "output_type": "stream",
     "text": [
      "ArrDelay:\n",
      "count    68418.000\n",
      "mean         0.063\n",
      "std          0.031\n",
      "min          0.000\n",
      "25%          0.048\n",
      "50%          0.054\n",
      "75%          0.066\n",
      "max          1.000\n",
      "Name: ArrDelay, dtype: float64\n"
     ]
    }
   ],
   "source": [
    "print('ArrDelay:')\n",
    "description=df_delay_arrival['ArrDelay'].describe()\n",
    "print(description)"
   ]
  },
  {
   "cell_type": "markdown",
   "metadata": {},
   "source": [
    "Надо убедиться, что стандартные отклонения фич сопоставимы. Это условие устойчивости регрессии по коэффициентам - в смысле устойчивости по Ляпунову."
   ]
  },
  {
   "cell_type": "code",
   "execution_count": 37,
   "metadata": {
    "scrolled": true
   },
   "outputs": [],
   "source": [
    "column_names=df_delay.columns"
   ]
  },
  {
   "cell_type": "code",
   "execution_count": 38,
   "metadata": {},
   "outputs": [
    {
     "name": "stdout",
     "output_type": "stream",
     "text": [
      "Вклад компонент в модели PCA:\n",
      "DepDel: 100%\n",
      "Dist: 4%\n",
      "AirTime: 1%\n",
      "ActualElap: 0%\n",
      "ShedElap: 0%\n",
      "ArrDelay: 0%\n"
     ]
    },
    {
     "data": {
      "image/png": "[encoded data removed]",
      "text/plain": [
       "<Figure size 432x288 with 1 Axes>"
      ]
     },
     "metadata": {
      "needs_background": "light"
     },
     "output_type": "display_data"
    }
   ],
   "source": [
    "pca(column_names,df_delay)"
   ]
  },
  {
   "cell_type": "markdown",
   "metadata": {},
   "source": [
    "Метод главных компонент намекает, что необходимо в первую очередь смотреть на задержки вылета, т.к. эта переменная вносит\n",
    "наибольших вклад в разброс...шестимерного эллипсоида. "
   ]
  },
  {
   "cell_type": "markdown",
   "metadata": {},
   "source": [
    "Строим регрессию между задержками вылета/приземления с регуляризацией. В качестве функции потерь - R2. Делаем кросс валидацию и выводим среднее и отклонение для функции потерь."
   ]
  },
  {
   "cell_type": "code",
   "execution_count": 39,
   "metadata": {},
   "outputs": [
    {
     "name": "stdout",
     "output_type": "stream",
     "text": [
      "Среднее R2 для Ridge Regression: 0.86\n",
      "Отклонение R2 для Ridge Linear Regression: 0.01\n"
     ]
    }
   ],
   "source": [
    "array_reg=df_delay_arrival.values\n",
    "X_reg=array_reg[:,0:2];Y_reg=array_reg[:,2]\n",
    "kfold=KFold(n_splits=split_num, random_state=7);model=Ridge()\n",
    "results=cross_val_score(model, X_reg, Y_reg, cv=kfold, scoring='r2')\n",
    "print('Среднее R2 для Ridge Regression:',round(results.mean(),2))\n",
    "print('Отклонение R2 для Ridge Linear Regression:',round(results.std(),2))"
   ]
  },
  {
   "cell_type": "markdown",
   "metadata": {},
   "source": [
    "Ожидаемо хорошая валидация на истории. Опцию (4) - подсказка задержка прибытия вполне можно потестить и прикрутить метрику. "
   ]
  },
  {
   "cell_type": "markdown",
   "metadata": {},
   "source": [
    "Переходим к классификаторам, чтобы оценить опцию рекоммендации рейса, при сдаче билета. Перед этим необходимо стандартизировать номера аэропортов и перевозчиков к интервалу (0,1) - повышение устойчивости обучения."
   ]
  },
  {
   "cell_type": "code",
   "execution_count": 40,
   "metadata": {},
   "outputs": [],
   "source": [
    "df['Origin']=standart(df['Origin'])\n",
    "df['Dest']=standart(df['Dest'])\n",
    "df['UniqueCarrier']=standart(df['UniqueCarrier'])"
   ]
  },
  {
   "cell_type": "markdown",
   "metadata": {},
   "source": [
    "Создаем отдельный датафрейм и массив для классификаторов. Целевая функция - булевая задержка. Признаки аэропорт вылета,\n",
    "аэропорт прилета, перевозчик."
   ]
  },
  {
   "cell_type": "code",
   "execution_count": 41,
   "metadata": {},
   "outputs": [],
   "source": [
    "df_class_del=pd.concat([df['Origin'],df['Dest'],df['UniqueCarrier'],df['Bool_delay']], axis=1)\n",
    "df_features_del=df_class_del.copy()\n",
    "del df_features_del['Bool_delay']\n",
    "array=df_class_del.values\n",
    "X=array[:,0:3];Y=array[:,3]"
   ]
  },
  {
   "cell_type": "markdown",
   "metadata": {},
   "source": [
    "Предварительно определяем значимость признаков на основе случайного леса деревьев:"
   ]
  },
  {
   "cell_type": "code",
   "execution_count": 42,
   "metadata": {},
   "outputs": [
    {
     "name": "stdout",
     "output_type": "stream",
     "text": [
      "Важность признаков [Origin],[Dest],[UniqueCarrier]: [0.45607338 0.42843652 0.1154901 ]\n"
     ]
    }
   ],
   "source": [
    "model=ExtraTreesClassifier(n_estimators=100)\n",
    "model.fit(X, Y)\n",
    "print('Важность признаков [Origin],[Dest],[UniqueCarrier]:',model.feature_importances_)"
   ]
  },
  {
   "cell_type": "markdown",
   "metadata": {},
   "source": [
    "Аэропорты играют решающую роль, но изменить их клиент не может. Мы можем предложим ему в следующий раз в основном функционале выбирать рейс, который является функцией аэропортов и перевозчика с минимальной вероятностью задержки - upsell."
   ]
  },
  {
   "cell_type": "markdown",
   "metadata": {},
   "source": [
    "Смотрим эмпирическое распределение задержек по трем признакам, чтобы валидировать результат. Вначале аэропорт вылета."
   ]
  },
  {
   "cell_type": "code",
   "execution_count": 43,
   "metadata": {},
   "outputs": [
    {
     "data": {
      "image/png": "[encoded data removed]",
      "text/plain": [
       "<Figure size 432x288 with 1 Axes>"
      ]
     },
     "metadata": {
      "needs_background": "light"
     },
     "output_type": "display_data"
    }
   ],
   "source": [
    "df_cat_origin=pd.concat([df['Origin'],df['Bool_delay']], axis=1)\n",
    "df_origin=df_cat_origin.groupby(['Origin']).sum()\n",
    "df_origin['Bool_delay'].hist(bins=intervals)\n",
    "plt.title('EDF для аэропорта вылета')\n",
    "plt.show()"
   ]
  },
  {
   "cell_type": "markdown",
   "metadata": {},
   "source": [
    "Задержка значительно кластеризованы по крупным пересадочным хабам. Посотрим на рассеяние - все данные стандартизированы. "
   ]
  },
  {
   "cell_type": "code",
   "execution_count": 44,
   "metadata": {},
   "outputs": [
    {
     "name": "stdout",
     "output_type": "stream",
     "text": [
      "       Bool_delay\n",
      "count     297.000\n",
      "mean        4.751\n",
      "std        12.349\n",
      "min         0.000\n",
      "25%         0.000\n",
      "50%         1.000\n",
      "75%         4.000\n",
      "max       159.000\n"
     ]
    }
   ],
   "source": [
    "description=df_origin.describe()\n",
    "print(description)"
   ]
  },
  {
   "cell_type": "markdown",
   "metadata": {},
   "source": [
    "Тоже самое с аэропортом прибытия."
   ]
  },
  {
   "cell_type": "code",
   "execution_count": 45,
   "metadata": {},
   "outputs": [
    {
     "data": {
      "image/png": "[encoded data removed]",
      "text/plain": [
       "<Figure size 432x288 with 1 Axes>"
      ]
     },
     "metadata": {
      "needs_background": "light"
     },
     "output_type": "display_data"
    },
    {
     "name": "stdout",
     "output_type": "stream",
     "text": [
      "       Bool_delay\n",
      "count     299.000\n",
      "mean        4.719\n",
      "std        13.152\n",
      "min         0.000\n",
      "25%         0.000\n",
      "50%         1.000\n",
      "75%         3.000\n",
      "max       158.000\n"
     ]
    }
   ],
   "source": [
    "df_cat_origin=pd.concat([df['Dest'],df['Bool_delay']], axis=1)\n",
    "df_origin=df_cat_origin.groupby(['Dest']).sum()\n",
    "df_origin['Bool_delay'].hist(bins=intervals)\n",
    "plt.title('EDF для аэропорта прибытия')\n",
    "plt.show()\n",
    "\n",
    "description=df_origin.describe()\n",
    "print(description)"
   ]
  },
  {
   "cell_type": "markdown",
   "metadata": {},
   "source": [
    "Таже самая кластеризация. Неудивительно. Сильное влияние порта на зедержку. \n",
    "По перевозчику согласно факторному анализу ситуация должна быть другая."
   ]
  },
  {
   "cell_type": "code",
   "execution_count": 46,
   "metadata": {},
   "outputs": [
    {
     "data": {
      "image/png": "[encoded data removed]",
      "text/plain": [
       "<Figure size 432x288 with 1 Axes>"
      ]
     },
     "metadata": {
      "needs_background": "light"
     },
     "output_type": "display_data"
    },
    {
     "name": "stdout",
     "output_type": "stream",
     "text": [
      "       Bool_delay\n",
      "count      20.000\n",
      "mean       70.550\n",
      "std        53.574\n",
      "min         0.000\n",
      "25%        30.750\n",
      "50%        68.500\n",
      "75%       109.750\n",
      "max       173.000\n"
     ]
    }
   ],
   "source": [
    "df_cat_origin=pd.concat([df['UniqueCarrier'],df['Bool_delay']], axis=1)\n",
    "df_origin=df_cat_origin.groupby(['UniqueCarrier']).sum()\n",
    "df_origin['Bool_delay'].hist(bins=intervals)\n",
    "plt.title('EDF для перевозчика')\n",
    "plt.show()\n",
    "\n",
    "description=df_origin.describe()\n",
    "print(description)"
   ]
  },
  {
   "cell_type": "markdown",
   "metadata": {},
   "source": [
    "Стандартное отклонение в 5 раз выше, чем для признаков аэропорта. Факторный анализ подтвержден независимым методом. \n",
    "Действительно перевозчик имеет наименьший приоритет и влияние на зедержку. Но клиент не может повлиять на \n",
    "аэропорт отправления. Зато может немного повлиять на аэропорт прибытия, или перевозчика. В крупных городах есть несколько\n",
    "портов приема. Клиент может выбрать другой, чтобы избежать отмены вылета и немного дольше проехаться на эксперссе."
   ]
  },
  {
   "cell_type": "markdown",
   "metadata": {},
   "source": [
    "Проверим, насколько надежна может быть подобная рекоммендательная система. \n",
    "Делаем скоринг по трем классификаторам независимо с прицелом на дальнейший стекинг в метамодель. "
   ]
  },
  {
   "cell_type": "markdown",
   "metadata": {},
   "source": [
    "Логистическая регрессия"
   ]
  },
  {
   "cell_type": "code",
   "execution_count": 47,
   "metadata": {},
   "outputs": [
    {
     "name": "stdout",
     "output_type": "stream",
     "text": [
      "Логистическая регрессия:\n",
      "Средняя точность кросс валидации=0.98%\n",
      "Отклонение точности кросс валидации=0.003%\n",
      "Точность out of sample тестирования 50/50=97.966%\n"
     ]
    }
   ],
   "source": [
    "print('Логистическая регрессия:')\n",
    "kfold=KFold(n_splits=split_num);\n",
    "results_logr=cross_val_score(LogisticRegression(solver='liblinear'),X,Y,cv=kfold)\n",
    "print('Средняя точность кросс валидации='+str(round((results_logr.mean()),3))+'%')\n",
    "print('Отклонение точности кросс валидации='+str(round((results_logr.std()),3))+'%')\n",
    "X_train,X_test,Y_train,Y_test=train_test_split(X,Y,test_size=0.5)\n",
    "model=LogisticRegression(solver='liblinear');model.fit(X_train,Y_train)\n",
    "score_logr=model.score(X_test, Y_test)\n",
    "print('Точность out of sample тестирования 50/50='+str(round((100*score_logr),3))+'%')"
   ]
  },
  {
   "cell_type": "markdown",
   "metadata": {},
   "source": [
    "Квазилинейный алгоритм - хорошо валидируется. Т.е. можно обойтись алгоритмами с минимумом гиперпараметров. Меньше - меньше риска оверфита. Нет необходимости нейронную сеть строить на этапе прототипа. Переход к Наивному Байесу. Хоть он и наивен,\n",
    "зато нелинеен."
   ]
  },
  {
   "cell_type": "code",
   "execution_count": 48,
   "metadata": {},
   "outputs": [
    {
     "name": "stdout",
     "output_type": "stream",
     "text": [
      "Наивный Байес:\n",
      "Средняя точность кросс валидации=0.98%\n",
      "Отклонение точности кросс валидации=0.003%\n",
      "Точность out of sample тестирования 50/50=98.06%\n"
     ]
    }
   ],
   "source": [
    "print('Наивный Байес:')\n",
    "results_nb=cross_val_score(GaussianNB(),X,Y,cv=kfold)\n",
    "print('Средняя точность кросс валидации='+str(round((results_nb.mean()),3))+'%')\n",
    "print('Отклонение точности кросс валидации='+str(round((results_nb.std()),3))+'%')\n",
    "X_train,X_test,Y_train,Y_test=train_test_split(X,Y,test_size=0.5)\n",
    "model=GaussianNB();model.fit(X_train,Y_train)\n",
    "score_nb=model.score(X_test, Y_test)\n",
    "print('Точность out of sample тестирования 50/50='+str(round((100*score_nb),3))+'%')"
   ]
  },
  {
   "cell_type": "markdown",
   "metadata": {},
   "source": [
    "Самая слабая модель. Предполагает назависимость перевозчика от аэропорта. Формально это не так, но приближение работает."
   ]
  },
  {
   "cell_type": "markdown",
   "metadata": {},
   "source": [
    "Решающие деревья. Для улучшения экологии. Модель абсолютно независима по от предыдущих."
   ]
  },
  {
   "cell_type": "code",
   "execution_count": 49,
   "metadata": {},
   "outputs": [
    {
     "name": "stdout",
     "output_type": "stream",
     "text": [
      "Решающее дерево:\n",
      "Средняя точность кросс валидации=0.979%\n",
      "Отклонение точности кросс валидации=0.003%\n",
      "Точность out of sample тестирования 50/50=97.831%\n"
     ]
    }
   ],
   "source": [
    "print('Решающее дерево:')\n",
    "results_dt=cross_val_score(DecisionTreeClassifier(criterion='entropy'),X,Y,cv=kfold)\n",
    "print('Средняя точность кросс валидации='+str(round((results_dt.mean()),3))+'%')\n",
    "print('Отклонение точности кросс валидации='+str(round((results_dt.std()),3))+'%')\n",
    "X_train,X_test,Y_train,Y_test=train_test_split(X,Y,test_size=0.5)\n",
    "model=DecisionTreeClassifier(criterion='entropy');model.fit(X_train,Y_train)\n",
    "score_dt=model.score(X_test,Y_test)\n",
    "print('Точность out of sample тестирования 50/50='+str(round((100*score_dt),3))+'%')"
   ]
  },
  {
   "cell_type": "markdown",
   "metadata": {},
   "source": [
    "Результат - сопоставим. "
   ]
  },
  {
   "cell_type": "markdown",
   "metadata": {},
   "source": [
    "Посмотрим, какой результат даст ансамбль из моделей на основе голосования. Импортируем библиотеку \"парламента\" классификаторов. "
   ]
  },
  {
   "cell_type": "code",
   "execution_count": 50,
   "metadata": {},
   "outputs": [],
   "source": [
    "from sklearn.ensemble import VotingClassifier"
   ]
  },
  {
   "cell_type": "markdown",
   "metadata": {},
   "source": [
    "Выводим среднюю точность по ансамблю моделей"
   ]
  },
  {
   "cell_type": "code",
   "execution_count": 51,
   "metadata": {},
   "outputs": [
    {
     "name": "stdout",
     "output_type": "stream",
     "text": [
      "Средняя точность кросс валидации по ансамблю:0.98%\n",
      "Отклонение точности кросс валидации по ансамблю:0.003%\n"
     ]
    }
   ],
   "source": [
    "estimators = []\n",
    "a=LogisticRegression(solver='liblinear')\n",
    "b=GaussianNB()\n",
    "c=DecisionTreeClassifier(criterion='entropy')\n",
    "\n",
    "estimators.append(('logistic',a))\n",
    "estimators.append(('naive', b))\n",
    "estimators.append(('svm', c))\n",
    "\n",
    "ensemble = VotingClassifier(estimators)\n",
    "results = cross_val_score(ensemble, X, Y, cv=kfold)\n",
    "print('Средняя точность кросс валидации по ансамблю:'+str(round((results.mean()),3))+'%')\n",
    "print('Отклонение точности кросс валидации по ансамблю:'+str(round((results.std()),3))+'%')"
   ]
  },
  {
   "cell_type": "markdown",
   "metadata": {},
   "source": [
    "Ансамбль не дает значительного преимущества по скорингу на исторических данных. Но при загрузке новой таблицы и данных это преимущество может проявиться. "
   ]
  },
  {
   "cell_type": "markdown",
   "metadata": {},
   "source": [
    "Систематически задержки вносят пересадочные хабы или дешевые компании. Можно дать медианное время задержки в качестве опции - среднее не подходит. Задержка прибытия >80% определяется задержкой отправления, можно дать эту информацию сразу. ML на основании решающих деревьев ранжировал риск задержки по факторам: 1 - аэропорт A, 2 - аэропорт прибытия, 3 - перевозчик. ML классификаторы показали точность прогноза задержки >90%. По аэропорту прибытия и перевозчику на основании ID рейса можно ранжировать альтернативные рейсы. Более дешевые перевозчики - большие задержки, клиент захочет оптимизировать cost/risk, если после задержки включит платную опцию при выборе ранжировать рейс на основании стоимости и риска задержки. Опция оптимизации cost/risk - для upsell. \n",
    "\n",
    "Метрики комбинировал бы ARRR+RFM сегментацию. LTV клиента (первый сеанс-удаление). Конверсия в опции С1-С5 из ЛК: (подсказка задержки прибытия), (фильтр cost/risk), (до Вашего выхода в Gate осталось x мин), (сдать билет и выбрать другой рейс или ждите) - активация. Удержание - среднее время клиентской сессии в пространстве ЛК, частота открытия ЛК, время отрисовки ЛК, частота использования ЛК. A/B тест - монетизация опции выбрать альтернативный рейс по cost/risk в основном функционале и в ЛК. Функции ЛК - info о среднем времени задержки, рекоммендательная система, cost/risk optimizer, если задержка рейса, а клиент опаздывает (фича геолокации клиента и GPS координат аэропорта) - опция алерт сообщения о задержке отправления."
   ]
  },
  {
   "cell_type": "code",
   "execution_count": 52,
   "metadata": {},
   "outputs": [
    {
     "name": "stdout",
     "output_type": "stream",
     "text": [
      "Спасибо за внимание.\n"
     ]
    }
   ],
   "source": [
    "print('Спасибо за внимание.')"
   ]
  },
  {
   "cell_type": "code",
   "execution_count": null,
   "metadata": {},
   "outputs": [],
   "source": []
  }
 ],
 "metadata": {
  "kernelspec": {
   "display_name": "Python 3",
   "language": "python",
   "name": "python3"
  },
  "language_info": {
   "codemirror_mode": {
    "name": "ipython",
    "version": 3
   },
   "file_extension": ".py",
   "mimetype": "text/x-python",
   "name": "python",
   "nbconvert_exporter": "python",
   "pygments_lexer": "ipython3",
   "version": "3.7.0"
  }
 },
 "nbformat": 4,
 "nbformat_minor": 2
}
