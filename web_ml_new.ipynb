{
 "cells": [
  {
   "cell_type": "markdown",
   "metadata": {},
   "source": [
    "Backlog prioritization sometimes leads to a difficult choice between two reasonable strategies or simultaneous business processes. Each one has its metrics or composite KPI. If we speak about the product analysis some choices are typical: attraction or conversion rate optimization, attraction or retention, remarketing or audience expansion. Some problems require complex approach – correlations between revenue/transaction frequency and micro KPIs like web conversion are unstable and have low statistical power. In this case machine learning (ML) techniques may give a value. Predictive power may be used to make a choice in favor of macro strategy. Secondly ML helps to reduce a dimension and simplify KPI – unsupervised learning techniques.  ML scoring is a solution when nonlinearity exists (unit economy equation is nonlinear, conversion depends on acquisition) or distribution of nonsystematic mistakes is far from normal distribution as well. \n",
    "\n",
    "Two groups of metrics are considered. First (I) corresponds to web conversion (bounce rate, micro conversion, depth). Second (II) corresponds to attraction of new visitors from organic channel (visits, viewers, views). The target function is a number of commercial offers per day converted into the sale. Features and target are normalized to the (0,1) interval. Relatively small data with daily sampling is used – 4 years of recording. Web metrics are parsed from analytical platform through Python API. Sales data is received from local CRM/SQL database – 'offers_cr' target. All offers are started by the call. (Web)=>(Contacts Page/Request Form/Chat)=>(Call)=>(Advisory Department)=>(Sales department). "
   ]
  },
  {
   "cell_type": "code",
   "execution_count": 2,
   "metadata": {},
   "outputs": [],
   "source": [
    "import numpy as np \n",
    "import pandas as pd \n",
    "from pandas import set_option\n",
    "import matplotlib.pyplot as plt \n",
    "from pylab import plot, ylim, xlim, show, xlabel, ylabel, grid \n",
    "from numpy import linspace, loadtxt, ones, convolve\n",
    "from statistics import median \n",
    "from statistics import mean \n",
    "from statistics import stdev \n",
    "from math import log\n",
    "from numpy.polynomial.polynomial import polyfit\n",
    "from sklearn.model_selection import cross_val_score \n",
    "from sklearn.model_selection import GridSearchCV \n",
    "from sklearn.model_selection import KFold \n",
    "from sklearn.decomposition import PCA\n",
    "from sklearn.linear_model import Ridge\n",
    "from sklearn.linear_model import LogisticRegression\n",
    "from sklearn.tree import DecisionTreeClassifier\n",
    "from sklearn.svm import SVC\n",
    "from sklearn.naive_bayes import GaussianNB\n",
    "from sklearn.neighbors import KNeighborsClassifier\n",
    "from sklearn.ensemble import VotingClassifier\n",
    "from sklearn.ensemble import AdaBoostClassifier\n",
    "from sklearn.ensemble import ExtraTreesClassifier\n",
    "from sklearn.neural_network import MLPClassifier\n",
    "from sklearn.ensemble import GradientBoostingClassifier\n",
    "import statsmodels.api as sm\n",
    "from sklearn.model_selection import train_test_split\n",
    "from operator import add\n",
    "import seaborn as sns"
   ]
  },
  {
   "cell_type": "markdown",
   "metadata": {},
   "source": [
    "Define custom functions:"
   ]
  },
  {
   "cell_type": "code",
   "execution_count": 38,
   "metadata": {},
   "outputs": [],
   "source": [
    "def standart(x):#normalize to (0,1) interval\n",
    "    max_value=x.max();\n",
    "    min_value=x.min()\n",
    "    z=(x-min_value)/(max_value - min_value)\n",
    "    return z\n",
    "\n",
    "def cormap(x):#correlation map\n",
    "  corr=x.corr();fig=plt.figure(figsize=(10, 7))\n",
    "  g=sns.heatmap(corr,annot=True,linewidths=.2, cbar_kws={\"orientation\": \"horizontal\"})\n",
    "  plt.show()\n",
    "    \n",
    "def get_class(x):\n",
    "    class_type=[]\n",
    "    for item in list(x):\n",
    "        if 0<=item<0.2:   class_type.append(0) #1 class  \n",
    "        if 0.2<=item<0.4: class_type.append(1) #2 class\n",
    "        if 0.4<=item<0.6:  class_type.append(2) #3 class\n",
    "        if 0.6<=item<0.8:  class_type.append(3) #4 class\n",
    "        if 0.8<=item<=1:  class_type.append(4) #5 class     \n",
    "    return class_type\n",
    "\n",
    "def pca(x,y):\n",
    "  pca=PCA();pca.fit(y);PCA(copy=True)\n",
    "  features=x;pca.explained_variance_=standart(pca.explained_variance_)\n",
    "  pca.explained_variance_=list(np.array(pca.explained_variance_)*100)\n",
    "  plt.bar(x, pca.explained_variance_,width=0.5);plt.xticks(features);plt.ylabel('variance');plt.xlabel('PCA feature')\n",
    "  print('\\nComponent importance:')\n",
    "  for i in range(0,len(pca.explained_variance_)):\n",
    "    print(str(x[i])+': '+str(int(pca.explained_variance_[i]))+'%')\n",
    "    i=i+1\n",
    "  plt.show()"
   ]
  },
  {
   "cell_type": "markdown",
   "metadata": {},
   "source": [
    "Read data from files with crm and web data, parsed by webparse script from web analytics platform API.   "
   ]
  },
  {
   "cell_type": "code",
   "execution_count": 26,
   "metadata": {},
   "outputs": [],
   "source": [
    "df_all=pd.read_excel('DATA_NEW/TRAFFIC.xlsx') #general web metrics\n",
    "df_goal=pd.read_excel('DATA_NEW/WEB_CR.xlsx') #web conversion rate\n",
    "df_crm=pd.read_excel('DATA_NEW/OFF_CR.xlsx') #commercial offers\n",
    "\n",
    "df=df_all.merge(df_goal,how='left',left_on='Date',right_on='Date')#inner join of general web metrics and conversion metrics\n",
    "\n",
    "del df['Viewers_y'];del df['Views_y'];del df['BR_y'];del df['Depth_y'];del df['Time_y'];df=df.fillna(0)\n",
    "df['CR,%']=100*df['Visits_y']/df['Visits_x'];del df['Visits_y'] #calculate conversion rate\n",
    "df=df.merge(df_crm,how='left',left_on='Date',right_on='Date') #inner join with crm data - offers per day and date\n",
    "df['Offers']=df['Offers'].fillna(0);# rename the column"
   ]
  },
  {
   "cell_type": "markdown",
   "metadata": {},
   "source": [
    "Rename columns."
   ]
  },
  {
   "cell_type": "code",
   "execution_count": 27,
   "metadata": {},
   "outputs": [
    {
     "name": "stdout",
     "output_type": "stream",
     "text": [
      "        Date  Visits  Viewers  Views    BR  Depth          CR  OFFERS_CR\n",
      "0 2015-05-05       8        8     32   0.0    4.0   50.000000        2.0\n",
      "1 2015-05-06       7        7     14   0.0    2.0   28.571429        1.0\n",
      "2 2015-05-07       5        5      8  20.0    1.6   20.000000        0.0\n",
      "3 2015-05-08       2        2      3   0.0    1.5    0.000000        1.0\n",
      "4 2015-05-09       1        1      3   0.0    3.0  100.000000        0.0\n"
     ]
    }
   ],
   "source": [
    "df['Visits']=df['Visits_x'];df['Viewers']=df['Viewers_x']\n",
    "df['Views']=df['Views_x'];del df['Visits_x'];del df['Viewers_x'];del df['Views_x'];del df['Time_x']\n",
    "\n",
    "df['BR']=df['BR_x'];df['Depth']=df['Depth_x'];\n",
    "df['CR']=df['CR,%'];del df['BR_x'];del df['Depth_x'];del df['CR,%']\n",
    "\n",
    "df['OFFERS_CR']=df['Offers'];del df['Offers']\n",
    "df=df.dropna()\n",
    "print(df.head())"
   ]
  },
  {
   "cell_type": "markdown",
   "metadata": {},
   "source": []
  },
  {
   "cell_type": "code",
   "execution_count": 28,
   "metadata": {},
   "outputs": [
    {
     "name": "stdout",
     "output_type": "stream",
     "text": [
      "All fields: ['Date', 'Visits', 'Viewers', 'Views', 'BR', 'Depth', 'CR', 'OFFERS_CR']\n",
      "\n",
      "Data Start: 2015-05-05 00:00:00\n",
      "Data End: 2019-06-22 00:00:00\n",
      "Number of records: 1494\n"
     ]
    }
   ],
   "source": [
    "column_names=list(df.columns.values)\n",
    "print('All fields:',column_names)\n",
    "print('\\nData Start:',list(df['Date'])[0])\n",
    "print('Data End:',list(df['Date'])[-1])\n",
    "print('Number of records:', len(df))"
   ]
  },
  {
   "cell_type": "markdown",
   "metadata": {},
   "source": [
    "Convert features to the (0,1) interval except date:"
   ]
  },
  {
   "cell_type": "code",
   "execution_count": 29,
   "metadata": {},
   "outputs": [],
   "source": [
    "date_list=list(df['Date'])\n",
    "del df['Date']  \n",
    "\n",
    "for item in df.columns.values: \n",
    "    df[item]=standart(df[item])         "
   ]
  },
  {
   "cell_type": "markdown",
   "metadata": {},
   "source": [
    "Make correlation map and scatter map"
   ]
  },
  {
   "cell_type": "code",
   "execution_count": 30,
   "metadata": {},
   "outputs": [
    {
     "data": {
      "image/png": "[encoded data removed]",
      "text/plain": [
       "<Figure size 720x504 with 2 Axes>"
      ]
     },
     "metadata": {
      "needs_background": "light"
     },
     "output_type": "display_data"
    }
   ],
   "source": [
    "cormap(df)"
   ]
  },
  {
   "cell_type": "markdown",
   "metadata": {},
   "source": [
    "Depth/CR and Visits/Viewers/Views are mutually correlated – correlation is 70% and more. It may be used for the dimension reduction of input features. The target (monetized Offers) is binned into the 5 equal intervals/classes. It is a price for a small amount of data. Less data – less number of intervals. "
   ]
  },
  {
   "cell_type": "code",
   "execution_count": 31,
   "metadata": {},
   "outputs": [
    {
     "name": "stdout",
     "output_type": "stream",
     "text": [
      "Common description:\n",
      "\n",
      "count    1494.000000\n",
      "mean        0.095238\n",
      "std         0.165674\n",
      "min         0.000000\n",
      "25%         0.000000\n",
      "50%         0.000000\n",
      "75%         0.142857\n",
      "max         1.000000\n",
      "Name: OFFERS_CR, dtype: float64\n",
      "\n",
      "Percentile of 80%: 0.29\n"
     ]
    }
   ],
   "source": [
    "description=df['OFFERS_CR'].describe()\n",
    "print('Common description:\\n')\n",
    "print(description)\n",
    "print('\\nPercentile of 80%:',round(df['OFFERS_CR'].quantile(0.9),2))"
   ]
  },
  {
   "cell_type": "code",
   "execution_count": 32,
   "metadata": {},
   "outputs": [],
   "source": [
    "df_binary=df.copy()\n",
    "df_binary['Offers_BIN']=get_class(df_binary['OFFERS_CR'])\n",
    "del df_binary['OFFERS_CR']"
   ]
  },
  {
   "cell_type": "markdown",
   "metadata": {},
   "source": [
    "Let's split features and target. Let's make an estimation of feature importance based on tree classifier first and principal component analysis. "
   ]
  },
  {
   "cell_type": "code",
   "execution_count": 39,
   "metadata": {},
   "outputs": [
    {
     "name": "stdout",
     "output_type": "stream",
     "text": [
      "\n",
      "Input of components - Tree:\n",
      "Visits:59.0%\n",
      "Viewers:59.0%\n",
      "Views:100.0%\n",
      "BR:92.0%\n",
      "Depth:99.0%\n",
      "CR:83.0%\n",
      "\n",
      "Component importance:\n",
      "Visits: 100%\n",
      "Viewers: 25%\n",
      "Views: 4%\n",
      "BR: 2%\n",
      "Depth: 0%\n",
      "CR: 0%\n",
      "Offers_BIN: 0%\n"
     ]
    },
    {
     "data": {
      "image/png": "[encoded data removed]",
      "text/plain": [
       "<Figure size 432x288 with 1 Axes>"
      ]
     },
     "metadata": {
      "needs_background": "light"
     },
     "output_type": "display_data"
    }
   ],
   "source": [
    "model=ExtraTreesClassifier(n_estimators=1000)\n",
    "tree_features=['Visits','Viewers','Views','BR','Depth','CR','OFFERS_CR']\n",
    "\n",
    "array=df_binary.values\n",
    "X=array[:,0:6];Y=array[:,6]\n",
    "model.fit(X,Y)\n",
    "imp=list(model.feature_importances_)\n",
    "imp=[round(x*100/max(imp)) for x in imp]\n",
    "\n",
    "print('\\nInput of components - Tree:')  \n",
    "for x,y in zip(tree_features,imp): \n",
    "    print(str(x)+':'+str(y)+'%')\n",
    "    \n",
    "column_names=df_binary.columns\n",
    "pca(column_names,df_binary)      "
   ]
  },
  {
   "cell_type": "markdown",
   "metadata": {},
   "source": [
    "Visits/Viewers/Views give higher input in scattering of composite KPI according to Principle Component Analysis – see the figure below. It is clear that traffic has higher volatility (seasonality influence). First try with all features. We use ensemble of 6 voting estimators. Ensemble of seven nonlinear voting estimators from Python sklearn library is used: KNeighborsClassifier, Decision Tree, AdaBoost, GradientBoosting, Support Vector Classifier, Naïve Bayes and Multilayer Perceptron with three hidden layers. Diversification of qualitatively “different” weak (no tuning of hyperparameters) models provides the stability in relation to the new data. It is sufficiently important when working with small data. Hyper tuning is applied to KNeighborsClassifier only. First we use all input features. "
   ]
  },
  {
   "cell_type": "code",
   "execution_count": 41,
   "metadata": {},
   "outputs": [
    {
     "name": "stdout",
     "output_type": "stream",
     "text": [
      "Accuracy of out-of-sample 50/50 test=80.0%\n",
      "Average score:81.1%\n",
      "Deviation of score:0.4%\n"
     ]
    }
   ],
   "source": [
    "split_num=5 #number of splits for cross validation\n",
    "\n",
    "#define split test#\n",
    "X_train,X_test,Y_train,Y_test=train_test_split(X,Y,test_size=0.5)\n",
    "#/define split test#\n",
    "\n",
    "#building the ensemble#\n",
    "model=KNeighborsClassifier()\n",
    "n_neighbors=np.arange(5,20,1)\n",
    "param_grid=dict(n_neighbors=n_neighbors)\n",
    "grid=GridSearchCV(estimator=model,param_grid=param_grid,cv=split_num,iid=True)\n",
    "grid.fit(X, Y)\n",
    "\n",
    "kn=KNeighborsClassifier(n_neighbors=grid.best_estimator_.n_neighbors);gb=GaussianNB()\n",
    "dt=DecisionTreeClassifier(criterion='entropy');sv=SVC(gamma='auto')\n",
    "ab=AdaBoostClassifier(n_estimators=100,random_state=7)\n",
    "gb=GradientBoostingClassifier(n_estimators=100,random_state=7)\n",
    "mlp=MLPClassifier(activation='relu', hidden_layer_sizes=(3,1), random_state=1, solver='lbfgs')\n",
    "\n",
    "estimators=[]\n",
    "estimators.extend([('kn',kn),('naive',gb),('dt',dt),('sv',sv),('ab',ab),('gb',gb),('mlp',mlp)])\n",
    "ensemble=VotingClassifier(estimators)\n",
    "#/building the ensemble#\n",
    "   \n",
    "#output of results#\n",
    "results=cross_val_score(ensemble,X,Y,cv=split_num)\n",
    "ensemble.fit(X_train,Y_train);score=ensemble.score(X_test,Y_test)\n",
    "print('Accuracy of out-of-sample 50/50 test='+str(round(100*score))+'%')\n",
    "print('Average score:'+str(round(100*mean(results),1))+str('%'))\n",
    "print('Deviation of score:'+str(round(100*stdev(results),1))+str('%'))\n",
    "#/output of results#"
   ]
  },
  {
   "cell_type": "markdown",
   "metadata": {},
   "source": [
    "Now remove all features except traffic metrics from the initial set."
   ]
  },
  {
   "cell_type": "code",
   "execution_count": 13,
   "metadata": {},
   "outputs": [
    {
     "name": "stdout",
     "output_type": "stream",
     "text": [
      "Accuracy of out-of-sample 50/50 test=81.0%\n",
      "Average score:80.0%\n",
      "Deviation of score:2.4%\n"
     ]
    }
   ],
   "source": [
    "df_binary=df.copy()\n",
    "df_binary['Offers_BIN']=get_class(df_binary['OFFERS_CR'])\n",
    "del df_binary['OFFERS_CR']\n",
    "\n",
    "#define dataframe#\n",
    "del df_binary['Depth']\n",
    "del df_binary['CR']\n",
    "del df_binary['BR']\n",
    "#/define dataframe#\n",
    "\n",
    "#define array#\n",
    "array=df_binary.values\n",
    "X=array[:,0:3];Y=array[:,3]\n",
    "#/define array#\n",
    "\n",
    "#define split test#\n",
    "X_train,X_test,Y_train,Y_test=train_test_split(X,Y,test_size=0.5)\n",
    "#/define split test#\n",
    "   \n",
    "#output of results#\n",
    "results=cross_val_score(ensemble,X,Y,cv=split_num)\n",
    "results=cross_val_score(ensemble,X,Y,cv=split_num)\n",
    "ensemble.fit(X_train,Y_train);score=ensemble.score(X_test,Y_test)\n",
    "print('Accuracy of out-of-sample 50/50 test='+str(round(100*score))+'%')\n",
    "print('Average score:'+str(round(100*mean(results)))+str('%'))\n",
    "print('Deviation of score:'+str(round(100*stdev(results),1))+str('%'))\n",
    "#/output of results#"
   ]
  },
  {
   "cell_type": "markdown",
   "metadata": {},
   "source": [
    "Now remove all features except conversion metrics from the initial set."
   ]
  },
  {
   "cell_type": "code",
   "execution_count": 14,
   "metadata": {},
   "outputs": [
    {
     "name": "stdout",
     "output_type": "stream",
     "text": [
      "Accuracy of out-of-sample 50/50 test=79.0%\n",
      "Average score:81.0%\n",
      "Deviation of score:0.4%\n"
     ]
    }
   ],
   "source": [
    "df_binary=df.copy()\n",
    "df_binary['Offers_BIN']=get_class(df_binary['OFFERS_CR'])\n",
    "del df_binary['OFFERS_CR']\n",
    "\n",
    "#define dataframe#\n",
    "del df_binary['Visits']\n",
    "del df_binary['Views']\n",
    "del df_binary['Viewers']\n",
    "#/define dataframe#\n",
    "\n",
    "#define array#\n",
    "array=df_binary.values\n",
    "X=array[:,0:3];Y=array[:,3]\n",
    "#/define array#\n",
    "\n",
    "#define split test#\n",
    "X_train,X_test,Y_train,Y_test=train_test_split(X,Y,test_size=0.5)\n",
    "#/define split test#\n",
    "   \n",
    "#output of results#\n",
    "results=cross_val_score(ensemble,X,Y,cv=split_num)\n",
    "results=cross_val_score(ensemble,X,Y,cv=split_num)\n",
    "ensemble.fit(X_train,Y_train);score=ensemble.score(X_test,Y_test)\n",
    "print('Accuracy of out-of-sample 50/50 test='+str(round(100*score))+'%')\n",
    "print('Average score:'+str(round(100*mean(results)))+str('%'))\n",
    "print('Deviation of score:'+str(round(100*stdev(results),1))+str('%'))\n",
    "#/output of results#"
   ]
  },
  {
   "cell_type": "markdown",
   "metadata": {},
   "source": [
    "The result is acceptable in both cases. Algorithm is able to “learn prediction of sales” using both groups. We may improve it only by tuning of models or by rough binning – less intervals. Now we may use mutual correlations of Depth/CR and Visits/Viewers/Views. We may transform initial traffic set to Views metric only (1D) – great simplification."
   ]
  },
  {
   "cell_type": "code",
   "execution_count": 15,
   "metadata": {},
   "outputs": [
    {
     "name": "stdout",
     "output_type": "stream",
     "text": [
      "Accuracy of out-of-sample 50/50 test=81.0%\n",
      "Average score:81.0%\n",
      "Deviation of score:0.4%\n"
     ]
    }
   ],
   "source": [
    "df_binary=df.copy()\n",
    "df_binary['Offers_BIN']=get_class(df_binary['OFFERS_CR'])\n",
    "del df_binary['OFFERS_CR']\n",
    "\n",
    "#define dataframe#\n",
    "del df_binary['Visits']\n",
    "del df_binary['Viewers']\n",
    "del df_binary['Depth']\n",
    "del df_binary['CR']\n",
    "del df_binary['BR']\n",
    "#/define dataframe#\n",
    "\n",
    "#define array#\n",
    "array=df_binary.values\n",
    "X=array[:,0:1];Y=array[:,1]\n",
    "#/define array#\n",
    "\n",
    "#define split test#\n",
    "X_train,X_test,Y_train,Y_test=train_test_split(X,Y,test_size=0.5)\n",
    "#/define split test#\n",
    "   \n",
    "#output of results#\n",
    "results=cross_val_score(ensemble,X,Y,cv=split_num)\n",
    "results=cross_val_score(ensemble,X,Y,cv=split_num)\n",
    "ensemble.fit(X_train,Y_train);score=ensemble.score(X_test,Y_test)\n",
    "print('Accuracy of out-of-sample 50/50 test='+str(round(100*score))+'%')\n",
    "print('Average score:'+str(round(100*mean(results)))+str('%'))\n",
    "print('Deviation of score:'+str(round(100*stdev(results),1))+str('%'))\n",
    "#/output of results#"
   ]
  },
  {
   "cell_type": "markdown",
   "metadata": {},
   "source": [
    "We will leave only micro web conversion from the second group."
   ]
  },
  {
   "cell_type": "code",
   "execution_count": 16,
   "metadata": {},
   "outputs": [
    {
     "name": "stdout",
     "output_type": "stream",
     "text": [
      "Accuracy of out-of-sample 50/50 test=80.0%\n",
      "Average score:81.0%\n",
      "Deviation of score:0.4%\n"
     ]
    }
   ],
   "source": [
    "df_binary=df.copy()\n",
    "df_binary['Offers_BIN']=get_class(df_binary['OFFERS_CR'])\n",
    "del df_binary['OFFERS_CR']\n",
    "\n",
    "#define dataframe#\n",
    "del df_binary['Visits']\n",
    "del df_binary['Views']\n",
    "del df_binary['Viewers']\n",
    "del df_binary['BR']\n",
    "del df_binary['Depth']\n",
    "#/define dataframe#\n",
    "\n",
    "#define array#\n",
    "array=df_binary.values\n",
    "X=array[:,0:1];Y=array[:,1]\n",
    "#/define array#\n",
    "\n",
    "#define split test#\n",
    "X_train,X_test,Y_train,Y_test=train_test_split(X,Y,test_size=0.5)\n",
    "#/define split test#\n",
    "   \n",
    "#output of results#\n",
    "results=cross_val_score(ensemble,X,Y,cv=split_num)\n",
    "results=cross_val_score(ensemble,X,Y,cv=split_num)\n",
    "ensemble.fit(X_train,Y_train);score=ensemble.score(X_test,Y_test)\n",
    "print('Accuracy of out-of-sample 50/50 test='+str(round(100*score))+'%')\n",
    "print('Average score:'+str(round(100*mean(results)))+str('%'))\n",
    "print('Deviation of score:'+str(round(100*stdev(results),1))+str('%'))\n",
    "#/output of results#"
   ]
  },
  {
   "cell_type": "markdown",
   "metadata": {},
   "source": [
    "So Product Owner may take into account Prediction Power, Risks and Budget for any of two strategies. In this very case Conversion Rate Optimization (CRO) is cheaper than SEO or Ads and has less influence of seasonality. In this case CRO is preferred until results are updated. The proposed method may be generalized in decision making when nonlinearity and the implicit connections between behavior of user and monetization are inevitable. However more simple instruments are preferable if the funnel is linear, short and simple. Combination of both approaches with intuition may give a confidence when making “expensive” decisions."
   ]
  }
 ],
 "metadata": {
  "kernelspec": {
   "display_name": "Python 3",
   "language": "python",
   "name": "python3"
  },
  "language_info": {
   "codemirror_mode": {
    "name": "ipython",
    "version": 3
   },
   "file_extension": ".py",
   "mimetype": "text/x-python",
   "name": "python",
   "nbconvert_exporter": "python",
   "pygments_lexer": "ipython3",
   "version": "3.7.0"
  }
 },
 "nbformat": 4,
 "nbformat_minor": 2
}
