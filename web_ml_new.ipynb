{
 "cells": [
  {
   "cell_type": "markdown",
   "metadata": {},
   "source": [
    "Backlog prioritization sometimes leads to a difficult choice between two reasonable strategies or simultaneous business processes. Each one has its metrics or composite KPI. If we speak about the product analysis some choices are typical: attraction or conversion rate optimization, attraction or retention, remarketing or audience expansion. Some problems require complex approach – correlations between revenue/transaction frequency and micro KPIs like web conversion are unstable and have low statistical power. In this case machine learning /ML/ techniques may give a value. Predictive power may be used to make a choice in favor of macro strategy. Secondly ML helps to reduce a dimension and simplify KPI – unsupervised learning techniques.  ML scoring is a solution when nonlinearity exists (unit economy equation is nonlinear, conversion depends on acquisition) or distribution of nonsystematic mistakes is far from normal distribution as well. \n",
    "\n",
    "Two groups of metrics are considered. First (I) corresponds to web conversion (bounce rate, micro conversion, time, depth). Second (II) corresponds to attraction of new visitors from organic channel (visits, viewers, views). The target function is a number of commercial offers per day. Features and target are normalized to the /0,1/ interval. Relatively small data with daily sampling is used – 4 years of recording. Web metrics are parsed from analytical platform through Python API. Sales data is received from local CRM/SQL database – target. All offers are started by the call. /Web/=>/Contacts Page/Request Form/Chat/=>/Call/=>/Advisory Department/=>/Sales department/ "
   ]
  },
  {
   "cell_type": "code",
   "execution_count": 1,
   "metadata": {},
   "outputs": [],
   "source": [
    "#core#\n",
    "import numpy as np \n",
    "from numpy import linspace, loadtxt, ones, convolve\n",
    "from numpy import set_printoptions\n",
    "import pandas as pd \n",
    "from pandas import set_option\n",
    "from operator import add\n",
    "import dateutil.parser\n",
    "#/core#\n",
    "\n",
    "#basic statistical measures#\n",
    "from statistics import median \n",
    "from statistics import mean \n",
    "from statistics import stdev\n",
    "import statsmodels.api as sm\n",
    "from math import log\n",
    "#/basic statistical measures#\n",
    "\n",
    "#charts#\n",
    "import seaborn as sns\n",
    "import matplotlib.pyplot as plt\n",
    "from pylab import plot, ylim, xlim, show, xlabel, ylabel, grid\n",
    "from numpy.polynomial.polynomial import polyfit\n",
    "#/charts#\n",
    "\n",
    "#Machine Learning - scikit learn#\n",
    "from sklearn.model_selection import cross_val_score \n",
    "from sklearn.model_selection import GridSearchCV \n",
    "from sklearn.model_selection import KFold\n",
    "from sklearn.decomposition import PCA\n",
    "###\n",
    "from sklearn.tree import DecisionTreeClassifier\n",
    "from sklearn.svm import SVC\n",
    "from sklearn.ensemble import VotingClassifier\n",
    "from sklearn.neural_network import MLPClassifier\n",
    "from sklearn.ensemble import GradientBoostingClassifier\n",
    "from sklearn.ensemble import AdaBoostClassifier\n",
    "#/Machine Learning - scikit learn#"
   ]
  },
  {
   "cell_type": "markdown",
   "metadata": {},
   "source": [
    "Define custom functions:"
   ]
  },
  {
   "cell_type": "code",
   "execution_count": 2,
   "metadata": {},
   "outputs": [],
   "source": [
    "def normal(x): #normalize to (0,1) interval\n",
    "    z=(x-x.min())/(x.max()-x.min())\n",
    "    return z\n",
    "\n",
    "def cormap(x): #correlation map\n",
    "  corr=x.corr();fig=plt.figure(figsize=(10, 7))\n",
    "  g=sns.heatmap(corr,annot=True,linewidths=.2, cbar_kws={\"orientation\": \"horizontal\"})\n",
    "  plt.show()\n",
    "    \n",
    "def get_class(x):\n",
    "    class_type=[]\n",
    "    for item in list(x):\n",
    "        if 0<=item<0.5:   class_type.append(0) #1 class  \n",
    "        if 0.5<=item<=1:  class_type.append(1) #2 class\n",
    "    return class_type\n",
    "\n",
    "def pca(x,y):\n",
    "  pca=PCA()\n",
    "  pca.fit(y)\n",
    "  PCA(copy=True)\n",
    "  features=x;pca.explained_variance_=normal(pca.explained_variance_)\n",
    "  pca.explained_variance_=list(np.array(pca.explained_variance_)*100)\n",
    "  plt.bar(x, pca.explained_variance_,width=0.5);plt.xticks(features);plt.ylabel('variance');plt.xlabel('PCA feature')\n",
    "  print('\\nComponent importance:')\n",
    "  for i in range(0,len(pca.explained_variance_)):\n",
    "    print(str(x[i])+': '+str(int(pca.explained_variance_[i]))+'%')\n",
    "    i=i+1\n",
    "  plt.show()"
   ]
  },
  {
   "cell_type": "markdown",
   "metadata": {},
   "source": [
    "Parameters:"
   ]
  },
  {
   "cell_type": "code",
   "execution_count": 3,
   "metadata": {},
   "outputs": [],
   "source": [
    "split_num=5 #initial number of cross validation folds"
   ]
  },
  {
   "cell_type": "markdown",
   "metadata": {},
   "source": [
    "Read data from files with crm and web data, parsed by webparse script from web analytics platform API.   "
   ]
  },
  {
   "cell_type": "code",
   "execution_count": 4,
   "metadata": {},
   "outputs": [],
   "source": [
    "df_web_all=pd.read_excel('DATA_NEW/TRAFFIC.xlsx') #general web sessions/metrics per day\n",
    "df_web_cr=pd.read_excel('DATA_NEW/WEB_CR.xlsx') #converted web sessions/metrics per day\n",
    "df_crm=pd.read_excel('DATA_NEW/OFF_CR.xlsx') #crm commercial offers per day"
   ]
  },
  {
   "cell_type": "markdown",
   "metadata": {},
   "source": [
    "Drop useless columns from df_web_cr and df_web_all"
   ]
  },
  {
   "cell_type": "code",
   "execution_count": 5,
   "metadata": {},
   "outputs": [],
   "source": [
    "df_web_cr.drop(df_web_cr.columns[2:],axis=1,inplace=True)\n",
    "df_web_cr['Visits_CR']=df_web_cr['Visits'];del df_web_cr['Visits'];"
   ]
  },
  {
   "cell_type": "markdown",
   "metadata": {},
   "source": [
    "Merging of dataframes"
   ]
  },
  {
   "cell_type": "code",
   "execution_count": 6,
   "metadata": {},
   "outputs": [],
   "source": [
    "df=df_web_all.merge(df_web_cr,how='inner',left_on='Date',right_on='Date') #inner join of web metrics and conversion metrics"
   ]
  },
  {
   "cell_type": "markdown",
   "metadata": {},
   "source": [
    "Add conversion rate column:"
   ]
  },
  {
   "cell_type": "code",
   "execution_count": 7,
   "metadata": {},
   "outputs": [
    {
     "name": "stdout",
     "output_type": "stream",
     "text": [
      "        Date  Visits  Viewers  Views    BR  Depth    Time   CR,%\n",
      "0 2015-05-05       8        8     32   0.0    4.0  110.75   50.0\n",
      "1 2015-05-06       7        7     14   0.0    2.0  101.00   29.0\n",
      "2 2015-05-07       5        5      8  20.0    1.6   42.80   20.0\n",
      "3 2015-05-09       1        1      3   0.0    3.0  214.00  100.0\n",
      "4 2015-05-12       4        4      6   0.0    1.5    9.75   25.0\n"
     ]
    }
   ],
   "source": [
    "df['CR,%']=round(100*df['Visits_CR']/df['Visits']);del df['Visits_CR'] #web conversion\n",
    "df=df[['Date','Visits','Viewers','Views','BR','Depth','Time','CR,%']] #replace columns\n",
    "print(df.head())"
   ]
  },
  {
   "cell_type": "markdown",
   "metadata": {},
   "source": [
    "Merging with crm dataframe - number of commersial offers per day"
   ]
  },
  {
   "cell_type": "code",
   "execution_count": 8,
   "metadata": {},
   "outputs": [],
   "source": [
    "df=df.merge(df_crm,how='left',left_on='Date',right_on='Date') #inner join with crm data - offers per day and date\n",
    "df['Offers']=df['Offers'].fillna(0) #fill na with nulls"
   ]
  },
  {
   "cell_type": "markdown",
   "metadata": {},
   "source": [
    "Show column names, dates, volume"
   ]
  },
  {
   "cell_type": "code",
   "execution_count": 9,
   "metadata": {},
   "outputs": [
    {
     "name": "stdout",
     "output_type": "stream",
     "text": [
      "All fields: ['Date', 'Visits', 'Viewers', 'Views', 'BR', 'Depth', 'Time', 'CR,%', 'Offers']\n",
      "Data Start: 2015-05-05 00:00:00\n",
      "Data End: 2019-06-22 00:00:00\n",
      "Number of records: 1338\n"
     ]
    }
   ],
   "source": [
    "column_names=list(df.columns.values)\n",
    "print('All fields:',column_names)\n",
    "\n",
    "print('Data Start:',list(df['Date'])[0])\n",
    "print('Data End:',list(df['Date'])[-1])\n",
    "\n",
    "print('Number of records:', len(df))"
   ]
  },
  {
   "cell_type": "markdown",
   "metadata": {},
   "source": [
    "Normalize features to the 0,1 interval except date:"
   ]
  },
  {
   "cell_type": "code",
   "execution_count": 10,
   "metadata": {},
   "outputs": [],
   "source": [
    "date_list=list(df['Date']);del df['Date'] #create date list  \n",
    "\n",
    "for item in ['Visits','Viewers','Views','BR','Time','CR,%','Offers']: \n",
    "    df[item]=normal(df[item])         "
   ]
  },
  {
   "cell_type": "markdown",
   "metadata": {},
   "source": [
    "Make correlation map:"
   ]
  },
  {
   "cell_type": "code",
   "execution_count": 11,
   "metadata": {},
   "outputs": [
    {
     "data": {
      "image/png": "[encoded data removed]",
      "text/plain": [
       "<Figure size 720x504 with 2 Axes>"
      ]
     },
     "metadata": {
      "needs_background": "light"
     },
     "output_type": "display_data"
    }
   ],
   "source": [
    "cormap(df)"
   ]
  },
  {
   "cell_type": "markdown",
   "metadata": {},
   "source": [
    "Viewers and Views are correlated with Visits. This may be used for the dimension reduction. "
   ]
  },
  {
   "cell_type": "code",
   "execution_count": 12,
   "metadata": {},
   "outputs": [
    {
     "name": "stdout",
     "output_type": "stream",
     "text": [
      "Common description:\n",
      "\n",
      "count    1338.000000\n",
      "mean        0.144648\n",
      "std         0.175323\n",
      "min         0.000000\n",
      "25%         0.000000\n",
      "50%         0.038462\n",
      "75%         0.269231\n",
      "max         1.000000\n",
      "Name: Offers, dtype: float64\n"
     ]
    }
   ],
   "source": [
    "description=df['Offers'].describe()\n",
    "print('Common description:\\n')\n",
    "print(description)"
   ]
  },
  {
   "cell_type": "markdown",
   "metadata": {},
   "source": [
    "Binning of target:"
   ]
  },
  {
   "cell_type": "code",
   "execution_count": 13,
   "metadata": {},
   "outputs": [],
   "source": [
    "df_binary=df.copy()\n",
    "df_binary['Offers_BIN']=get_class(df_binary['Offers'])\n",
    "del df_binary['Offers']"
   ]
  },
  {
   "cell_type": "markdown",
   "metadata": {},
   "source": [
    "Let's make an estimation of feature importance based on principal component analysis. "
   ]
  },
  {
   "cell_type": "code",
   "execution_count": 14,
   "metadata": {},
   "outputs": [
    {
     "name": "stdout",
     "output_type": "stream",
     "text": [
      "\n",
      "Component importance:\n",
      "Visits: 100%\n",
      "Viewers: 17%\n",
      "Views: 6%\n",
      "BR: 3%\n",
      "Depth: 0%\n",
      "Time: 0%\n",
      "CR,%: 0%\n",
      "Offers_BIN: 0%\n"
     ]
    },
    {
     "data": {
      "image/png": "[encoded data removed]",
      "text/plain": [
       "<Figure size 432x288 with 1 Axes>"
      ]
     },
     "metadata": {
      "needs_background": "light"
     },
     "output_type": "display_data"
    }
   ],
   "source": [
    "column_names=df_binary.columns\n",
    "pca(column_names,df_binary)"
   ]
  },
  {
   "cell_type": "markdown",
   "metadata": {},
   "source": [
    "Visits/Viewers/Views give higher input in scattering of composite KPI according to Principle Component Analysis. It is clear that traffic has higher volatility (seasonality influence). We use ensemble of voting estimators for prediction of target. "
   ]
  },
  {
   "cell_type": "markdown",
   "metadata": {},
   "source": [
    "First we use acquisition features: Visits,Viewers,Views. However, visits have high correlation with views and viewers. So we may reduce this KPI to a single metric - Visits.  "
   ]
  },
  {
   "cell_type": "code",
   "execution_count": 15,
   "metadata": {},
   "outputs": [],
   "source": [
    "array=df_binary.values\n",
    "X=array[:,0:1];Y=array[:,7]"
   ]
  },
  {
   "cell_type": "code",
   "execution_count": 16,
   "metadata": {},
   "outputs": [
    {
     "name": "stdout",
     "output_type": "stream",
     "text": [
      "\n",
      "Average score:94.0%\n",
      "Standard deviation of score:5%\n"
     ]
    }
   ],
   "source": [
    "#building the ensemble#\n",
    "dt=DecisionTreeClassifier(criterion='entropy')\n",
    "sv=SVC(gamma='auto')\n",
    "ab=AdaBoostClassifier(n_estimators=100,random_state=7)\n",
    "gb=GradientBoostingClassifier(n_estimators=100,random_state=7)\n",
    "mlp=MLPClassifier(activation='relu', hidden_layer_sizes=(5,1), random_state=1, solver='lbfgs')\n",
    "\n",
    "estimators=[]\n",
    "estimators.extend([('dt',dt),('sv',sv),('ab',ab),('gb',gb),('mlp',mlp)])\n",
    "ensemble=VotingClassifier(estimators)\n",
    "#/building the ensemble#\n",
    "   \n",
    "#output of results#\n",
    "kfold=KFold(n_splits=split_num,random_state=7)\n",
    "results=cross_val_score(ensemble,X,Y,cv=kfold)\n",
    "\n",
    "print('\\nAverage score:'+str(round(100*median(results)))+str('%'))\n",
    "print('Standard deviation of score:'+str(round(100*stdev (results)))+str('%'))\n",
    "#/output of results#"
   ]
  },
  {
   "cell_type": "markdown",
   "metadata": {},
   "source": [
    "Good accuracy. Let's test the model in relation to cross validation scale stability."
   ]
  },
  {
   "cell_type": "code",
   "execution_count": 17,
   "metadata": {},
   "outputs": [
    {
     "name": "stdout",
     "output_type": "stream",
     "text": [
      "Splits:5 Median: 0.94\n",
      "Splits:10 Median: 0.96\n",
      "Splits:15 Median: 0.97\n",
      "Splits:20 Median: 0.98\n",
      "Splits:25 Median: 0.96\n"
     ]
    }
   ],
   "source": [
    "cv_num=[]\n",
    "score_cv=[]\n",
    "score_sc=[]\n",
    "for item in range(3,30):  \n",
    "    kfold=KFold(n_splits=item,random_state=7)\n",
    "    cv_scores=list(cross_val_score(ensemble,X,Y,cv=kfold))\n",
    "    cv_num.append(item) #split number\n",
    "    score_med=median(cv_scores) #score median\n",
    "    score_scatter=abs(max(cv_scores)-min(cv_scores))/2\n",
    "    \n",
    "    score_cv.append(score_med) \n",
    "    score_sc.append(score_scatter) #score scattering\n",
    "    \n",
    "    if (item % 5)==0: \n",
    "        print('Splits:'+str(item)+' Median: '+str(round(score_med,2)))"
   ]
  },
  {
   "cell_type": "markdown",
   "metadata": {},
   "source": [
    "Stable in relation to the cross validation scale. Stability factor corresponds to the slope of Variation Facror vice Scale. We may built the relation in log-log format."
   ]
  },
  {
   "cell_type": "code",
   "execution_count": 18,
   "metadata": {},
   "outputs": [
    {
     "data": {
      "image/png": "[encoded data removed]",
      "text/plain": [
       "<Figure size 432x288 with 1 Axes>"
      ]
     },
     "metadata": {
      "needs_background": "light"
     },
     "output_type": "display_data"
    },
    {
     "name": "stdout",
     "output_type": "stream",
     "text": [
      "Slope (abs): 0.48\n",
      "R2: 0.57\n"
     ]
    }
   ],
   "source": [
    "var_factor=[log(x/y) for x,y in zip(score_sc,score_cv)]\n",
    "scale=[log(1/x) for x in cv_num]\n",
    "\n",
    "plt.scatter(scale,var_factor)\n",
    "plt.plot(np.unique(scale),np.poly1d(np.polyfit(scale,var_factor,1))(np.unique(scale)),'r')\n",
    "plt.title('Log-Log')\n",
    "plt.xlabel('Scale')\n",
    "plt.ylabel('Variance factor')\n",
    "plt.show()\n",
    "\n",
    "R2=round((np.corrcoef(scale,var_factor)[0,1])**2,2)\n",
    "b,m=polyfit(scale,var_factor,1)\n",
    "print('Slope (abs):',abs(round(100*m)/100))\n",
    "print('R2:',R2)"
   ]
  },
  {
   "cell_type": "markdown",
   "metadata": {},
   "source": [
    "The model is close to overfit area. However, quite stable, because the slope |S|<1 in the power law: VF=const*(Scale^Slope). Now we may test \"conversion group\" of features. "
   ]
  },
  {
   "cell_type": "code",
   "execution_count": 19,
   "metadata": {},
   "outputs": [
    {
     "name": "stdout",
     "output_type": "stream",
     "text": [
      "\n",
      "Average score:94.0%\n",
      "Standard deviation of score:2%\n"
     ]
    }
   ],
   "source": [
    "X=array[:,3:7];Y=array[:,7]\n",
    "\n",
    "#output of results#\n",
    "kfold=KFold(n_splits=split_num,random_state=7)\n",
    "results=cross_val_score(ensemble,X,Y,cv=kfold)\n",
    "\n",
    "print('\\nAverage score:'+str(round(100*median(results)))+str('%'))\n",
    "print('Standard deviation of score:'+str(round(100*stdev (results)))+str('%'))\n",
    "#/output of results#"
   ]
  },
  {
   "cell_type": "code",
   "execution_count": 20,
   "metadata": {},
   "outputs": [
    {
     "name": "stdout",
     "output_type": "stream",
     "text": [
      "Splits:5 Median: 0.94\n",
      "Splits:10 Median: 0.96\n",
      "Splits:15 Median: 0.96\n",
      "Splits:20 Median: 0.98\n",
      "Splits:25 Median: 0.96\n"
     ]
    }
   ],
   "source": [
    "cv_num=[]\n",
    "score_cv=[]\n",
    "score_sc=[]\n",
    "for item in range(3,30):  \n",
    "    kfold=KFold(n_splits=item,random_state=7)\n",
    "    cv_scores=list(cross_val_score(ensemble,X,Y,cv=kfold))\n",
    "    cv_num.append(item) #split number\n",
    "    score_med=median(cv_scores) #score median\n",
    "    score_scatter=abs(max(cv_scores)-min(cv_scores))/2\n",
    "    \n",
    "    score_cv.append(score_med) \n",
    "    score_sc.append(score_scatter) #score scattering\n",
    "    \n",
    "    if (item % 5)==0: \n",
    "        print('Splits:'+str(item)+' Median: '+str(round(score_med,2)))"
   ]
  },
  {
   "cell_type": "code",
   "execution_count": 21,
   "metadata": {},
   "outputs": [
    {
     "data": {
      "image/png": "[encoded data removed]",
      "text/plain": [
       "<Figure size 432x288 with 1 Axes>"
      ]
     },
     "metadata": {
      "needs_background": "light"
     },
     "output_type": "display_data"
    },
    {
     "name": "stdout",
     "output_type": "stream",
     "text": [
      "Slope (abs): 0.71\n",
      "R2: 0.9\n"
     ]
    }
   ],
   "source": [
    "var_factor=[log(x/y) for x,y in zip(score_sc,score_cv)]\n",
    "scale=[log(1/x) for x in cv_num]\n",
    "\n",
    "plt.scatter(scale,var_factor)\n",
    "plt.plot(np.unique(scale),np.poly1d(np.polyfit(scale,var_factor,1))(np.unique(scale)),'r')\n",
    "plt.title('Log-Log')\n",
    "plt.xlabel('Scale')\n",
    "plt.ylabel('Variance factor')\n",
    "plt.show()\n",
    "\n",
    "R2=round((np.corrcoef(scale,var_factor)[0,1])**2,2)\n",
    "b,m=polyfit(scale,var_factor,1)\n",
    "print('Slope (abs):',abs(round(100*m)/100))\n",
    "print('R2:',R2)"
   ]
  },
  {
   "cell_type": "markdown",
   "metadata": {},
   "source": [
    "Traffic feature has higher stability because of dimension reduction. Product Owner may take into account Prediction Power, Risks and Budget for any of two strategies. In this very case Conversion Rate Optimization /CRO/ is cheaper than SEO or Ads. The proposed method may be generalized in decision making when nonlinearity and the implicit connections between behavior of user and monetization are inevitable. However more simple instruments are preferable if the funnel is linear, short and simple. Combination of both approaches with intuition may give a confidence when making “expensive” decisions."
   ]
  }
 ],
 "metadata": {
  "kernelspec": {
   "display_name": "Python 3",
   "language": "python",
   "name": "python3"
  },
  "language_info": {
   "codemirror_mode": {
    "name": "ipython",
    "version": 3
   },
   "file_extension": ".py",
   "mimetype": "text/x-python",
   "name": "python",
   "nbconvert_exporter": "python",
   "pygments_lexer": "ipython3",
   "version": "3.7.0"
  }
 },
 "nbformat": 4,
 "nbformat_minor": 2
}
