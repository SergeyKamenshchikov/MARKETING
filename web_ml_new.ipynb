{
 "cells": [
  {
   "cell_type": "markdown",
   "metadata": {},
   "source": [
    "Backlog prioritization leads to the choice between strategies. Each one has its metrics. There is a requirement to choose the most efficient one. ML scoring is a solution when nonlinearity exists and economy is nonlinear. See https://habr.com/en/users/sergkremen1984/posts/. In this example two groups are considered. First (I) corresponds to web conversion {bounce rate, micro conversion, time, depth}. Second (II) corresponds to attraction of new visitors from organic channel {visits, viewers, views}. The target function is a number of commercial offers per day. CJM can be represented in the following way {Web}=>{Contacts Page}=>{Call}=>{Advisory Department}=>{Call}=>{Sales department}. The task is to reduce the dimension to get the optimal strategy. Calls are tracked manually in CRM, but online/offline B2B channels can't be seperated: market is thin and new customers may have some information about 'the brand' from offline/online channels. Statistical evaluation is closer to reality than CJM tracking.  "
   ]
  },
  {
   "cell_type": "markdown",
   "metadata": {},
   "source": [
    "Import external libraries:"
   ]
  },
  {
   "cell_type": "code",
   "execution_count": 100,
   "metadata": {},
   "outputs": [],
   "source": [
    "\n",
    "#core#\n",
    "import numpy as np \n",
    "from numpy import linspace, loadtxt, ones, convolve\n",
    "from numpy import set_printoptions\n",
    "import pandas as pd \n",
    "from pandas import set_option\n",
    "from operator import add\n",
    "import dateutil.parser\n",
    "#/core#\n",
    "\n",
    "#basic statistics#\n",
    "from statistics import median \n",
    "from statistics import mean \n",
    "from statistics import stdev\n",
    "import statsmodels.api as sm\n",
    "from math import log\n",
    "#/basic statistics#\n",
    "\n",
    "#charts#\n",
    "import seaborn as sns\n",
    "import matplotlib.pyplot as plt\n",
    "from pylab import plot, ylim, xlim, show, xlabel, ylabel, grid\n",
    "from numpy.polynomial.polynomial import polyfit\n",
    "#/charts#\n",
    "\n",
    "#out-of-sample test#\n",
    "from sklearn.model_selection import cross_val_score \n",
    "from sklearn.model_selection import GridSearchCV \n",
    "from sklearn.model_selection import KFold\n",
    "#/out-of-sample test#\n",
    "\n",
    "#unsupervised learning#\n",
    "from sklearn.decomposition import PCA\n",
    "from sklearn.feature_selection import RFECV\n",
    "from sklearn.feature_selection import SelectKBest\n",
    "from sklearn.feature_selection import chi2\n",
    "#/unsupervised learning#\n",
    "\n",
    "#supervised learning#\n",
    "from sklearn.svm import SVC\n",
    "from sklearn.linear_model import LogisticRegression\n",
    "from sklearn.ensemble import GradientBoostingClassifier\n",
    "from sklearn.naive_bayes import GaussianNB\n",
    "from sklearn.ensemble import VotingClassifier\n",
    "from sklearn.tree import DecisionTreeClassifier\n",
    "from sklearn.neighbors import KNeighborsClassifier\n",
    "from sklearn.linear_model import Ridge\n",
    "#/supervised learning#"
   ]
  },
  {
   "cell_type": "markdown",
   "metadata": {},
   "source": [
    "Define custom functions:"
   ]
  },
  {
   "cell_type": "code",
   "execution_count": 101,
   "metadata": {},
   "outputs": [],
   "source": [
    "def normal(x): #normalize to (0,1) interval\n",
    "    z=(x-x.min())/(x.max()-x.min())\n",
    "    return z\n",
    "\n",
    "def cormap(x): #correlation map\n",
    "  corr=x.corr();fig=plt.figure(figsize=(10, 7))\n",
    "  g=sns.heatmap(corr,annot=True,linewidths=.2, cbar_kws={\"orientation\": \"horizontal\"})\n",
    "  plt.show()\n",
    "    \n",
    "def get_class(x,y):\n",
    "    class_type=[]\n",
    "    for item in list(x):\n",
    "        if 0<=item<y:   class_type.append(0) #1 class  \n",
    "        if y<=item<=1:  class_type.append(1) #2 class\n",
    "    return class_type\n",
    "\n",
    "def pca(x,y):\n",
    "  pca=PCA()\n",
    "  pca.fit(y)\n",
    "  PCA(copy=True)\n",
    "  \n",
    "  features=x;pca.explained_variance_=normal(pca.explained_variance_)\n",
    "  pca.explained_variance_=list(np.array(pca.explained_variance_)*100)\n",
    "  plt.bar(x, pca.explained_variance_,width=0.5)\n",
    "  plt.xticks(features)\n",
    "  plt.ylabel('variance')\n",
    "  plt.xlabel('PCA feature')\n",
    "  print('\\nComponent importance:')\n",
    "  \n",
    "  for i in range(0,len(pca.explained_variance_)):\n",
    "    print(str(x[i])+': '+str(int(pca.explained_variance_[i]))+'%')\n",
    "    i=i+1\n",
    "  \n",
    "  plt.show()"
   ]
  },
  {
   "cell_type": "markdown",
   "metadata": {},
   "source": [
    "Parameters:"
   ]
  },
  {
   "cell_type": "code",
   "execution_count": 102,
   "metadata": {},
   "outputs": [],
   "source": [
    "split_num=10 #initial number of cross validation folds"
   ]
  },
  {
   "cell_type": "markdown",
   "metadata": {},
   "source": [
    "Read data from files with crm and web data, parsed by webparse script from web analytics platform API.   "
   ]
  },
  {
   "cell_type": "code",
   "execution_count": 103,
   "metadata": {},
   "outputs": [],
   "source": [
    "df_web_all=pd.read_excel('DATA_NEW/TRAFFIC.xlsx') #general web sessions/metrics per day\n",
    "df_web_cr=pd.read_excel('DATA_NEW/WEB_CR.xlsx') #converted web sessions/metrics per day\n",
    "df_crm=pd.read_excel('DATA_NEW/OFF_CR.xlsx') #crm commercial offers per day"
   ]
  },
  {
   "cell_type": "markdown",
   "metadata": {},
   "source": [
    "Drop useless columns from df_web_cr and df_web_all"
   ]
  },
  {
   "cell_type": "code",
   "execution_count": 104,
   "metadata": {},
   "outputs": [],
   "source": [
    "df_web_cr.drop(df_web_cr.columns[2:],axis=1,inplace=True)\n",
    "df_web_cr['Visits_CR']=df_web_cr['Visits'];del df_web_cr['Visits'];"
   ]
  },
  {
   "cell_type": "markdown",
   "metadata": {},
   "source": [
    "Merging of dataframes"
   ]
  },
  {
   "cell_type": "code",
   "execution_count": 105,
   "metadata": {},
   "outputs": [],
   "source": [
    "df=df_web_all.merge(df_web_cr,how='inner',left_on='Date',right_on='Date') #inner join of web metrics and conversion metrics"
   ]
  },
  {
   "cell_type": "markdown",
   "metadata": {},
   "source": [
    "Add conversion rate column:"
   ]
  },
  {
   "cell_type": "code",
   "execution_count": 106,
   "metadata": {},
   "outputs": [
    {
     "name": "stdout",
     "output_type": "stream",
     "text": [
      "        Date  Visits  Viewers  Views    BR  Depth    Time   CR,%\n",
      "0 2015-05-05       8        8     32   0.0    4.0  110.75   50.0\n",
      "1 2015-05-06       7        7     14   0.0    2.0  101.00   29.0\n",
      "2 2015-05-07       5        5      8  20.0    1.6   42.80   20.0\n",
      "3 2015-05-09       1        1      3   0.0    3.0  214.00  100.0\n",
      "4 2015-05-12       4        4      6   0.0    1.5    9.75   25.0\n"
     ]
    }
   ],
   "source": [
    "df['CR,%']=round(100*df['Visits_CR']/df['Visits']);del df['Visits_CR'] #web conversion\n",
    "df=df[['Date','Visits','Viewers','Views','BR','Depth','Time','CR,%']] #replace columns\n",
    "print(df.head())"
   ]
  },
  {
   "cell_type": "markdown",
   "metadata": {},
   "source": [
    "Merging with crm dataframe - number of commersial offers per day"
   ]
  },
  {
   "cell_type": "code",
   "execution_count": 107,
   "metadata": {},
   "outputs": [],
   "source": [
    "df=df.merge(df_crm,how='left',left_on='Date',right_on='Date') #inner join with crm data - offers per day and date\n",
    "df['Offers']=df['Offers'].fillna(0) #fill na with nulls"
   ]
  },
  {
   "cell_type": "markdown",
   "metadata": {},
   "source": [
    "Show column names, dates, volume"
   ]
  },
  {
   "cell_type": "code",
   "execution_count": 108,
   "metadata": {},
   "outputs": [
    {
     "name": "stdout",
     "output_type": "stream",
     "text": [
      "All fields: ['Date', 'Visits', 'Viewers', 'Views', 'BR', 'Depth', 'Time', 'CR,%', 'Offers']\n",
      "Data Start: 2015-05-05 00:00:00\n",
      "Data End: 2019-06-22 00:00:00\n",
      "Number of records: 1338\n"
     ]
    }
   ],
   "source": [
    "column_names=list(df.columns.values)\n",
    "print('All fields:',column_names)\n",
    "\n",
    "print('Data Start:',list(df['Date'])[0])\n",
    "print('Data End:',list(df['Date'])[-1])\n",
    "\n",
    "print('Number of records:', len(df))"
   ]
  },
  {
   "cell_type": "markdown",
   "metadata": {},
   "source": [
    "Normalize features to the 0,1 interval except date:"
   ]
  },
  {
   "cell_type": "code",
   "execution_count": 109,
   "metadata": {},
   "outputs": [],
   "source": [
    "date_list=list(df['Date']);del df['Date'] #create date list  \n",
    "\n",
    "for item in ['Visits','Viewers','Views','BR','Time','CR,%','Offers']: \n",
    "    df[item]=normal(df[item])         "
   ]
  },
  {
   "cell_type": "markdown",
   "metadata": {},
   "source": [
    "Make correlation map:"
   ]
  },
  {
   "cell_type": "code",
   "execution_count": 110,
   "metadata": {},
   "outputs": [
    {
     "data": {
      "image/png": "[encoded data removed]",
      "text/plain": [
       "<Figure size 720x504 with 2 Axes>"
      ]
     },
     "metadata": {
      "needs_background": "light"
     },
     "output_type": "display_data"
    }
   ],
   "source": [
    "cormap(df)"
   ]
  },
  {
   "cell_type": "markdown",
   "metadata": {},
   "source": [
    "Two \"warm\" regions represent suggested groups of metrics. Offers vs Visits mapping represents highest correlation. Let's do some statistical inference and boxplot without outliers. "
   ]
  },
  {
   "cell_type": "code",
   "execution_count": 111,
   "metadata": {},
   "outputs": [
    {
     "name": "stdout",
     "output_type": "stream",
     "text": [
      "Common description:\n",
      "count    1338.000000\n",
      "mean        0.144648\n",
      "std         0.175323\n",
      "min         0.000000\n",
      "25%         0.000000\n",
      "50%         0.038462\n",
      "75%         0.269231\n",
      "max         1.000000\n",
      "Name: Offers, dtype: float64\n"
     ]
    },
    {
     "data": {
      "image/png": "[encoded data removed]",
      "text/plain": [
       "<Figure size 648x648 with 9 Axes>"
      ]
     },
     "metadata": {
      "needs_background": "light"
     },
     "output_type": "display_data"
    },
    {
     "name": "stdout",
     "output_type": "stream",
     "text": [
      "Skew of Offers: 1.02\n"
     ]
    }
   ],
   "source": [
    "description=df['Offers'].describe()\n",
    "print('Common description:')\n",
    "print(description)\n",
    "\n",
    "df.plot(kind='box',subplots=True,layout=(3,3),sharex=False,sharey=False,figsize=(9,9))\n",
    "plt.show()\n",
    "\n",
    "skew=df['Offers'].skew()\n",
    "print('Skew of Offers:',round(skew,2))"
   ]
  },
  {
   "cell_type": "markdown",
   "metadata": {},
   "source": [
    "Binning of target: in general case we may use equal splits for 2 classes: {typical behaviour and outliers}. We tend to understand what factor may cause qualitative change. "
   ]
  },
  {
   "cell_type": "code",
   "execution_count": 112,
   "metadata": {},
   "outputs": [],
   "source": [
    "df_binary=df.copy()\n",
    "df_binary['Offers_BIN']=get_class(df_binary['Offers'],0.5)\n",
    "del df_binary['Offers']"
   ]
  },
  {
   "cell_type": "markdown",
   "metadata": {},
   "source": [
    "Let's make an estimation of feature importance based on principal component analysis. "
   ]
  },
  {
   "cell_type": "code",
   "execution_count": 113,
   "metadata": {},
   "outputs": [
    {
     "name": "stdout",
     "output_type": "stream",
     "text": [
      "\n",
      "Component importance:\n",
      "Visits: 100%\n",
      "Viewers: 16%\n",
      "Views: 3%\n",
      "BR: 0%\n",
      "Depth: 0%\n",
      "Time: 0%\n",
      "CR,%: 0%\n"
     ]
    },
    {
     "data": {
      "image/png": "[encoded data removed]",
      "text/plain": [
       "<Figure size 432x288 with 1 Axes>"
      ]
     },
     "metadata": {
      "needs_background": "light"
     },
     "output_type": "display_data"
    }
   ],
   "source": [
    "df_pca=df_binary.copy();del df_pca['Offers_BIN'] \n",
    "column_names=df_pca.columns\n",
    "pca(column_names,df_pca)"
   ]
  },
  {
   "cell_type": "markdown",
   "metadata": {},
   "source": [
    "Visits give higher input according to PCA. It confirms the weak correlation of Visits vs Offers. However Visits represent high correlation with Views and Viewers. Recursive feature elimination (RFE) with Logistic Regression:"
   ]
  },
  {
   "cell_type": "code",
   "execution_count": 114,
   "metadata": {},
   "outputs": [
    {
     "name": "stdout",
     "output_type": "stream",
     "text": [
      "\n",
      "LogisticRegression:\n",
      "Column names: ['Visits', 'Viewers', 'Views', 'BR', 'Depth', 'Time', 'CR,%']\n",
      "Feature Ranking: [5 1 3 2 4 7 6]\n"
     ]
    }
   ],
   "source": [
    "array=df_binary.values\n",
    "X=array[:,0:7];Y=array[:,7]\n",
    "\n",
    "print(\"\\nLogisticRegression:\")\n",
    "print(\"Column names:\",list(column_names))\n",
    "model=LogisticRegression(solver='liblinear')\n",
    "selector=RFECV(model,1,cv=split_num)\n",
    "selector=selector.fit(X,Y)\n",
    "print(\"Feature Ranking: %s\" % selector.ranking_)"
   ]
  },
  {
   "cell_type": "markdown",
   "metadata": {},
   "source": [
    "'Visits' metric has a higher impact. Let's test the feature importance by chi2 test:"
   ]
  },
  {
   "cell_type": "code",
   "execution_count": 115,
   "metadata": {},
   "outputs": [
    {
     "name": "stdout",
     "output_type": "stream",
     "text": [
      "Features: ['Visits', 'Viewers', 'Views', 'BR', 'Depth', 'Time', 'CR,%']\n",
      "Importance: [3.3  3.3  2.39 0.04 0.73 0.04 0.27]\n"
     ]
    }
   ],
   "source": [
    "test = SelectKBest(score_func=chi2, k=1)\n",
    "fit = test.fit(X, Y)\n",
    "set_printoptions(precision=2)\n",
    "print(\"Features:\",list(column_names))\n",
    "print(\"Importance:\",fit.scores_)"
   ]
  },
  {
   "cell_type": "markdown",
   "metadata": {},
   "source": [
    "Importance of visits/viwers/views is confirmed. Let's test all features in several supervised learning models. First we compare several algos. We included linear /high bias/ and nonlinear /high variance/ models here. "
   ]
  },
  {
   "cell_type": "code",
   "execution_count": 116,
   "metadata": {},
   "outputs": [
    {
     "name": "stdout",
     "output_type": "stream",
     "text": [
      "gb: 0.946903 (0.036274)\n",
      "sv: 0.953653 (0.035182)\n",
      "lg: 0.953653 (0.035182)\n",
      "nb: 0.839614 (0.183761)\n",
      "dt: 0.887078 (0.044209)\n",
      "knn: 0.951403 (0.035583)\n",
      "\n",
      "Scattering of models accuracy: 0.11\n"
     ]
    },
    {
     "data": {
      "image/png": "[encoded data removed]",
      "text/plain": [
       "<Figure size 432x288 with 1 Axes>"
      ]
     },
     "metadata": {
      "needs_background": "light"
     },
     "output_type": "display_data"
    }
   ],
   "source": [
    "models=[]\n",
    "models.append(('gb',GradientBoostingClassifier(n_estimators=100,random_state=7)))\n",
    "models.append(('sv',SVC(gamma='auto')))\n",
    "models.append(('lg',LogisticRegression(solver='liblinear')))\n",
    "models.append(('nb',GaussianNB()))\n",
    "models.append(('dt',DecisionTreeClassifier()))\n",
    "models.append(('knn',KNeighborsClassifier()))\n",
    "\n",
    "results=[]\n",
    "names=[]\n",
    "scattering=[]\n",
    "scoring='accuracy'\n",
    "\n",
    "for name, model in models:\n",
    "  kfold = KFold(n_splits=split_num, random_state=7)\n",
    "  cv_results=cross_val_score(model,X,Y,cv=kfold,scoring=scoring)\n",
    "  results.append(cv_results)\n",
    "  names.append(name)\n",
    "  msg=\"%s: %f (%f)\" % (name, cv_results.mean(), cv_results.std())\n",
    "  scattering.append(cv_results.mean())\n",
    "  print(msg)\n",
    "\n",
    "maxmin_delta=(max(scattering)-min(scattering))\n",
    "print('\\nScattering of models accuracy:',round(maxmin_delta,2))\n",
    "\n",
    "fig = plt.figure()\n",
    "fig.suptitle('Algorithm Comparison')\n",
    "ax=fig.add_subplot(111)\n",
    "plt.boxplot(results)\n",
    "ax.set_xticklabels(names)\n",
    "plt.show()"
   ]
  },
  {
   "cell_type": "markdown",
   "metadata": {},
   "source": [
    "Models are comparable in relation to accuracy/scattering. Let's test all features in the ensemble voting."
   ]
  },
  {
   "cell_type": "code",
   "execution_count": 117,
   "metadata": {},
   "outputs": [
    {
     "name": "stdout",
     "output_type": "stream",
     "text": [
      "\n",
      "Average score:96.0%\n",
      "Standard deviation of score:4%\n"
     ]
    }
   ],
   "source": [
    "#building the ensemble#\n",
    "gb=GradientBoostingClassifier(n_estimators=100,random_state=7)\n",
    "sv=SVC(gamma='auto')\n",
    "lg=LogisticRegression(solver='liblinear')\n",
    "nb=GaussianNB()\n",
    "dt=DecisionTreeClassifier()\n",
    "knn=KNeighborsClassifier()\n",
    "\n",
    "estimators=[]\n",
    "estimators.extend([('gb',gb),('sv',sv),('lg',lg),('nb',nb),('dt',dt),('knn',knn)])\n",
    "ensemble=VotingClassifier(estimators)\n",
    "#/building the ensemble#\n",
    "   \n",
    "#output of results#\n",
    "kfold=KFold(n_splits=split_num,random_state=7)\n",
    "results=cross_val_score(ensemble,X,Y,cv=kfold)\n",
    "\n",
    "print('\\nAverage score:'+str(round(100*median(results)))+str('%'))\n",
    "print('Standard deviation of score:'+str(round(100*stdev (results)))+str('%'))\n",
    "#/output of results#"
   ]
  },
  {
   "cell_type": "markdown",
   "metadata": {},
   "source": [
    "We experiment with N combinations to get a single feature which gives the minimal accuracy drawdown. The result is validated by PCA, chi2 test. We may consider the number of organic sessions only (!). In this very case the SEO campaign is cheaper than CRO. So, it's ok for biz. Let's look how algos work after the reduction:"
   ]
  },
  {
   "cell_type": "code",
   "execution_count": 118,
   "metadata": {},
   "outputs": [
    {
     "name": "stdout",
     "output_type": "stream",
     "text": [
      "gb: 0.947638 (0.035738)\n",
      "sv: 0.953653 (0.035182)\n",
      "lg: 0.953653 (0.035182)\n",
      "nb: 0.948390 (0.035166)\n",
      "dt: 0.947638 (0.035738)\n",
      "knn: 0.951397 (0.034296)\n",
      "\n",
      "Scattering of models accuracy: 0.01\n"
     ]
    },
    {
     "data": {
      "image/png": "[encoded data removed]",
      "text/plain": [
       "<Figure size 432x288 with 1 Axes>"
      ]
     },
     "metadata": {
      "needs_background": "light"
     },
     "output_type": "display_data"
    }
   ],
   "source": [
    "array=df_binary.values\n",
    "X=array[:,0:1];Y=array[:,7]\n",
    "\n",
    "results=[]\n",
    "names=[]\n",
    "scattering=[]\n",
    "scoring='accuracy'\n",
    "\n",
    "for name, model in models:\n",
    "  kfold = KFold(n_splits=split_num, random_state=7)\n",
    "  cv_results=cross_val_score(model,X,Y,cv=kfold,scoring=scoring)\n",
    "  results.append(cv_results)\n",
    "  names.append(name)\n",
    "  msg=\"%s: %f (%f)\" % (name, cv_results.mean(), cv_results.std())\n",
    "  scattering.append(cv_results.mean())\n",
    "  print(msg)\n",
    "\n",
    "maxmin_delta=(max(scattering)-min(scattering))\n",
    "print('\\nScattering of models accuracy:',round(maxmin_delta,2))\n",
    "\n",
    "fig = plt.figure()\n",
    "fig.suptitle('Algorithm Comparison')\n",
    "ax=fig.add_subplot(111)\n",
    "plt.boxplot(results)\n",
    "ax.set_xticklabels(names)\n",
    "plt.show()"
   ]
  },
  {
   "cell_type": "markdown",
   "metadata": {},
   "source": [
    "Smaller scattering means that we get more stable model. Let's estimate its perfomance."
   ]
  },
  {
   "cell_type": "code",
   "execution_count": 119,
   "metadata": {},
   "outputs": [
    {
     "name": "stdout",
     "output_type": "stream",
     "text": [
      "\n",
      "Average score:96.0%\n",
      "Standard deviation of score:4%\n"
     ]
    }
   ],
   "source": [
    "#output of results#\n",
    "results=cross_val_score(ensemble,X,Y,cv=kfold)\n",
    "\n",
    "print('\\nAverage score:'+str(round(100*median(results)))+str('%'))\n",
    "print('Standard deviation of score:'+str(round(100*stdev (results)))+str('%'))\n",
    "#/output of results#"
   ]
  },
  {
   "cell_type": "markdown",
   "metadata": {},
   "source": [
    "Conclusion: no additional information is given by other features. Traffic has highest importance for prediction and corresponds to  more stable prediction model. The proposed method may be generalized in decision making when nonlinearity is inevitable. "
   ]
  }
 ],
 "metadata": {
  "kernelspec": {
   "display_name": "Python 3",
   "language": "python",
   "name": "python3"
  },
  "language_info": {
   "codemirror_mode": {
    "name": "ipython",
    "version": 3
   },
   "file_extension": ".py",
   "mimetype": "text/x-python",
   "name": "python",
   "nbconvert_exporter": "python",
   "pygments_lexer": "ipython3",
   "version": "3.7.0"
  }
 },
 "nbformat": 4,
 "nbformat_minor": 2
}
