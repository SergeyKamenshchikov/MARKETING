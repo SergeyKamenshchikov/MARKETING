{
 "cells": [
  {
   "cell_type": "code",
   "execution_count": 18,
   "metadata": {},
   "outputs": [
    {
     "name": "stdout",
     "output_type": "stream",
     "text": [
      "Hi\n"
     ]
    }
   ],
   "source": [
    "print('Hi')"
   ]
  },
  {
   "cell_type": "markdown",
   "metadata": {},
   "source": [
    "Import libraries for working with http"
   ]
  },
  {
   "cell_type": "code",
   "execution_count": 19,
   "metadata": {},
   "outputs": [],
   "source": [
    "import requests\n",
    "import json"
   ]
  },
  {
   "cell_type": "markdown",
   "metadata": {},
   "source": [
    "Libraries for working with arrays and conversion to xls format"
   ]
  },
  {
   "cell_type": "markdown",
   "metadata": {},
   "source": [
    "import pandas as pd\n",
    "import xlsxwriter\n",
    "import os"
   ]
  },
  {
   "cell_type": "markdown",
   "metadata": {},
   "source": [
    "Initial parameters - token for connection to web analytics platform and counter number"
   ]
  },
  {
   "cell_type": "code",
   "execution_count": 20,
   "metadata": {},
   "outputs": [],
   "source": [
    "token='OAuth AQAAAAAi8O5WAAWWtZPDULmLHkZ8hRamVGxB9SM'\n",
    "counter='29709450' "
   ]
  },
  {
   "cell_type": "markdown",
   "metadata": {},
   "source": [
    "Create dictionary for segmentation in API request"
   ]
  },
  {
   "cell_type": "code",
   "execution_count": 21,
   "metadata": {},
   "outputs": [],
   "source": [
    "params={'metrics': 'ym:s:visits,ym:s:users,ym:s:pageviews,ym:s:bounceRate,ym:s:pageDepth,ym:s:avgVisitDurationSeconds',\n",
    "        'dimensions': 'ym:s:date',\n",
    "        'group': 'day',\n",
    "        'date1': '2016-05-09',\n",
    "        'date2': '2019-05-07',\n",
    "        'limit': '100000',\n",
    "        'sort': 'ym:s:date',\n",
    "        'ids': counter,\n",
    "        'accuracy': 'full',      \n",
    "        'pretty': True}"
   ]
  },
  {
   "cell_type": "markdown",
   "metadata": {},
   "source": [
    "Output of features"
   ]
  },
  {
   "cell_type": "raw",
   "metadata": {},
   "source": [
    "Create a header"
   ]
  },
  {
   "cell_type": "code",
   "execution_count": 22,
   "metadata": {},
   "outputs": [],
   "source": [
    "header = {'Authorization': 'OAuth AQAAAAAi8O5WAAWWtZPDULmLHkZ8hRamVGxB9SM'}"
   ]
  },
  {
   "cell_type": "code",
   "execution_count": 23,
   "metadata": {},
   "outputs": [
    {
     "name": "stdout",
     "output_type": "stream",
     "text": [
      "Features: Data,Visits,Viewers,Views,BR,DepthTime\n"
     ]
    }
   ],
   "source": [
    "print('Features: '+'Data,'+'Visits,'+'Viewers,'+'Views,'+'BR,'+'Depth'+'Time')"
   ]
  },
  {
   "cell_type": "code",
   "execution_count": 24,
   "metadata": {},
   "outputs": [],
   "source": [
    "column_names=['Data','Visits','Viewers','Views','BR','Depth','Time']"
   ]
  },
  {
   "cell_type": "markdown",
   "metadata": {},
   "source": [
    "Parse web data into JSON"
   ]
  },
  {
   "cell_type": "code",
   "execution_count": 25,
   "metadata": {},
   "outputs": [],
   "source": [
    "r=requests.get('https://api-metrika.yandex.ru/stat/v1/data', params=params, headers=header)\n",
    "parsed=json.loads(r.text)"
   ]
  },
  {
   "cell_type": "markdown",
   "metadata": {},
   "source": [
    "Convert into dataframe"
   ]
  },
  {
   "cell_type": "code",
   "execution_count": 26,
   "metadata": {},
   "outputs": [],
   "source": [
    "data_df=pd.DataFrame(columns=column_names);\n",
    "data_list=[]\n",
    "\n",
    "for day in parsed['data']:\n",
    "    temp_dict={}\n",
    "    temp_dict.update({'Data':day['dimensions'][0]['name'],'Visits':day['metrics'][0],\n",
    "                      'Viewers':day['metrics'][1],'Views':day['metrics'][2],'BR':day['metrics'][3],\n",
    "                      'Depth':day['metrics'][4],'Time':day['metrics'][5]})\n",
    "    data_list.append(temp_dict);\n",
    "\n",
    "data_df=pd.DataFrame(data_list,columns=column_names)    "
   ]
  },
  {
   "cell_type": "code",
   "execution_count": 27,
   "metadata": {},
   "outputs": [
    {
     "name": "stdout",
     "output_type": "stream",
     "text": [
      "         Data  Visits  Viewers  Views         BR     Depth        Time\n",
      "0  2016-05-09    11.0     10.0   19.0  18.181818  1.727273   29.272727\n",
      "1  2016-05-10    54.0     48.0  123.0  25.925926  2.277778  237.796296\n",
      "2  2016-05-11    57.0     47.0  236.0  17.543860  4.140351  390.526316\n",
      "3  2016-05-12    55.0     48.0  126.0  36.363636  2.290909  163.018182\n",
      "4  2016-05-13    42.0     42.0   72.0  35.714286  1.714286   98.428571\n"
     ]
    }
   ],
   "source": [
    "print(data_df.head())"
   ]
  },
  {
   "cell_type": "markdown",
   "metadata": {},
   "source": [
    "Convert dataframe to xls"
   ]
  },
  {
   "cell_type": "code",
   "execution_count": 28,
   "metadata": {},
   "outputs": [],
   "source": [
    "data_df.to_excel('all_pages.xlsx',index=False)"
   ]
  },
  {
   "cell_type": "code",
   "execution_count": 29,
   "metadata": {},
   "outputs": [
    {
     "name": "stdout",
     "output_type": "stream",
     "text": [
      "\n",
      "Finished! Now traffic features are saved in xls without filters\n"
     ]
    }
   ],
   "source": [
    "print('\\nFinished! Now traffic features are saved in xls without filters')"
   ]
  }
 ],
 "metadata": {
  "kernelspec": {
   "display_name": "Python 3",
   "language": "python",
   "name": "python3"
  },
  "language_info": {
   "codemirror_mode": {
    "name": "ipython",
    "version": 3
   },
   "file_extension": ".py",
   "mimetype": "text/x-python",
   "name": "python",
   "nbconvert_exporter": "python",
   "pygments_lexer": "ipython3",
   "version": "3.7.0"
  }
 },
 "nbformat": 4,
 "nbformat_minor": 2
}
